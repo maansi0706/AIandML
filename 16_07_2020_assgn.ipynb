{
 "cells": [
  {
   "cell_type": "markdown",
   "metadata": {
    "colab_type": "text",
    "id": "rUOAviCkgyAH"
   },
   "source": [
    "# **CSE-221710310017-GAJJALA MAANSI**"
   ]
  },
  {
   "cell_type": "code",
   "execution_count": 1,
   "metadata": {
    "colab": {
     "base_uri": "https://localhost:8080/",
     "height": 139
    },
    "colab_type": "code",
    "id": "2HAHnuFcg5ZB",
    "outputId": "72c84181-d4bb-4a58-e18b-a3c5e9b36976"
   },
   "outputs": [
    {
     "name": "stdout",
     "output_type": "stream",
     "text": [
      "Go to this URL in a browser: https://accounts.google.com/o/oauth2/auth?client_id=947318989803-6bn6qk8qdgf4n4g3pfee6491hc0brc4i.apps.googleusercontent.com&redirect_uri=urn%3aietf%3awg%3aoauth%3a2.0%3aoob&response_type=code&scope=email%20https%3a%2f%2fwww.googleapis.com%2fauth%2fdocs.test%20https%3a%2f%2fwww.googleapis.com%2fauth%2fdrive%20https%3a%2f%2fwww.googleapis.com%2fauth%2fdrive.photos.readonly%20https%3a%2f%2fwww.googleapis.com%2fauth%2fpeopleapi.readonly\n",
      "\n",
      "Enter your authorization code:\n",
      "··········\n",
      "Mounted at /gdrive\n",
      "/gdrive\n"
     ]
    }
   ],
   "source": [
    "from google.colab import drive\n",
    "drive.mount('/gdrive')\n",
    "%cd /gdrive"
   ]
  },
  {
   "cell_type": "code",
   "execution_count": 3,
   "metadata": {
    "colab": {
     "base_uri": "https://localhost:8080/",
     "height": 272
    },
    "colab_type": "code",
    "id": "CU1umJ08ptVd",
    "outputId": "bc45650e-9208-4e1a-c06f-bb64de916bbe"
   },
   "outputs": [
    {
     "name": "stdout",
     "output_type": "stream",
     "text": [
      " 01.06.2020.gdoc   09.07.2020.gdoc\t     20.06.2020.gdoc\n",
      " 01.07.2020.gdoc   10.06.2020.gdoc\t     22.06.2020.gdoc\n",
      " 02.06.2020.gdoc  '10.07.2020 assgn.ipynb'   23.06.2020.gdoc\n",
      " 02.07.2020.gdoc   10.07.2020.gdoc\t     24.06.2020.gdoc\n",
      " 03.06.2020.gdoc   11.06.2020.gdoc\t     25.06.2020.gdoc\n",
      " 03.07.2020.gdoc  '11.07.2020 assgn.ipynb'   26.06.2020.gdoc\n",
      " 04.06.2020.gdoc   11.07.2020.gdoc\t     27.05.2020.gdoc\n",
      " 04.07.2020.gdoc   12.06.2020.gdoc\t     27.06.2020.gdoc\n",
      " 05.06.2020.gdoc   13.07.2020.gdoc\t     28.05.2020.gdoc\n",
      " 06.06.2020.gdoc   15.06.2020.gdoc\t     29.05.2020.gdoc\n",
      " 06.07.2020.gdoc   16.06.2020.gdoc\t     29.06.2020.gdoc\n",
      " 07.07.2020.gdoc  '16.07.2020 assgn.ipynb'   30.05.2020.gdoc\n",
      " 08.06.2020.gdoc   17.06.2020.gdoc\t     30.06.2020.gdoc\n",
      " 08.07.2020.gdoc   18.06.2020.gdoc\t     all_stocks_5yr.csv\n",
      " 09.06.2020.gdoc   19.06.2020.gdoc\t     Untitled\n"
     ]
    }
   ],
   "source": [
    "!ls 'My Drive/2020/Courses Taken/AI-ML/Assignments'"
   ]
  },
  {
   "cell_type": "code",
   "execution_count": 4,
   "metadata": {
    "colab": {
     "base_uri": "https://localhost:8080/",
     "height": 34
    },
    "colab_type": "code",
    "id": "8Pf0TE_TqSlz",
    "outputId": "0e63c1b2-5962-47b8-e9b3-730205ea89cc"
   },
   "outputs": [
    {
     "data": {
      "text/plain": [
       "(619040, 7)"
      ]
     },
     "execution_count": 4,
     "metadata": {
      "tags": []
     },
     "output_type": "execute_result"
    }
   ],
   "source": [
    "#all_stocks_5yr.csv\n",
    "import pandas as pd\n",
    "data = pd.read_csv('My Drive/2020/Courses Taken/AI-ML/Assignments/all_stocks_5yr.csv')\n",
    "data.shape"
   ]
  },
  {
   "cell_type": "code",
   "execution_count": 5,
   "metadata": {
    "colab": {
     "base_uri": "https://localhost:8080/",
     "height": 204
    },
    "colab_type": "code",
    "id": "9JoesJlIqStI",
    "outputId": "20457a31-9805-48af-e88d-36e0f117d64e"
   },
   "outputs": [
    {
     "data": {
      "text/html": [
       "<div>\n",
       "<style scoped>\n",
       "    .dataframe tbody tr th:only-of-type {\n",
       "        vertical-align: middle;\n",
       "    }\n",
       "\n",
       "    .dataframe tbody tr th {\n",
       "        vertical-align: top;\n",
       "    }\n",
       "\n",
       "    .dataframe thead th {\n",
       "        text-align: right;\n",
       "    }\n",
       "</style>\n",
       "<table border=\"1\" class=\"dataframe\">\n",
       "  <thead>\n",
       "    <tr style=\"text-align: right;\">\n",
       "      <th></th>\n",
       "      <th>date</th>\n",
       "      <th>open</th>\n",
       "      <th>high</th>\n",
       "      <th>low</th>\n",
       "      <th>close</th>\n",
       "      <th>volume</th>\n",
       "      <th>Name</th>\n",
       "    </tr>\n",
       "  </thead>\n",
       "  <tbody>\n",
       "    <tr>\n",
       "      <th>0</th>\n",
       "      <td>2013-02-08</td>\n",
       "      <td>15.07</td>\n",
       "      <td>15.12</td>\n",
       "      <td>14.63</td>\n",
       "      <td>14.75</td>\n",
       "      <td>8407500</td>\n",
       "      <td>AAL</td>\n",
       "    </tr>\n",
       "    <tr>\n",
       "      <th>1</th>\n",
       "      <td>2013-02-11</td>\n",
       "      <td>14.89</td>\n",
       "      <td>15.01</td>\n",
       "      <td>14.26</td>\n",
       "      <td>14.46</td>\n",
       "      <td>8882000</td>\n",
       "      <td>AAL</td>\n",
       "    </tr>\n",
       "    <tr>\n",
       "      <th>2</th>\n",
       "      <td>2013-02-12</td>\n",
       "      <td>14.45</td>\n",
       "      <td>14.51</td>\n",
       "      <td>14.10</td>\n",
       "      <td>14.27</td>\n",
       "      <td>8126000</td>\n",
       "      <td>AAL</td>\n",
       "    </tr>\n",
       "    <tr>\n",
       "      <th>3</th>\n",
       "      <td>2013-02-13</td>\n",
       "      <td>14.30</td>\n",
       "      <td>14.94</td>\n",
       "      <td>14.25</td>\n",
       "      <td>14.66</td>\n",
       "      <td>10259500</td>\n",
       "      <td>AAL</td>\n",
       "    </tr>\n",
       "    <tr>\n",
       "      <th>4</th>\n",
       "      <td>2013-02-14</td>\n",
       "      <td>14.94</td>\n",
       "      <td>14.96</td>\n",
       "      <td>13.16</td>\n",
       "      <td>13.99</td>\n",
       "      <td>31879900</td>\n",
       "      <td>AAL</td>\n",
       "    </tr>\n",
       "  </tbody>\n",
       "</table>\n",
       "</div>"
      ],
      "text/plain": [
       "         date   open   high    low  close    volume Name\n",
       "0  2013-02-08  15.07  15.12  14.63  14.75   8407500  AAL\n",
       "1  2013-02-11  14.89  15.01  14.26  14.46   8882000  AAL\n",
       "2  2013-02-12  14.45  14.51  14.10  14.27   8126000  AAL\n",
       "3  2013-02-13  14.30  14.94  14.25  14.66  10259500  AAL\n",
       "4  2013-02-14  14.94  14.96  13.16  13.99  31879900  AAL"
      ]
     },
     "execution_count": 5,
     "metadata": {
      "tags": []
     },
     "output_type": "execute_result"
    }
   ],
   "source": [
    "# Top Five rows\n",
    "data.head()"
   ]
  },
  {
   "cell_type": "code",
   "execution_count": 6,
   "metadata": {
    "colab": {
     "base_uri": "https://localhost:8080/",
     "height": 34
    },
    "colab_type": "code",
    "id": "LBFOtOptqSqz",
    "outputId": "af3a5847-2435-4ee3-e2d0-e7fc0d69c80e"
   },
   "outputs": [
    {
     "data": {
      "text/plain": [
       "Index(['date', 'open', 'high', 'low', 'close', 'volume', 'Name'], dtype='object')"
      ]
     },
     "execution_count": 6,
     "metadata": {
      "tags": []
     },
     "output_type": "execute_result"
    }
   ],
   "source": [
    "data.columns"
   ]
  },
  {
   "cell_type": "code",
   "execution_count": 7,
   "metadata": {
    "colab": {
     "base_uri": "https://localhost:8080/",
     "height": 221
    },
    "colab_type": "code",
    "id": "6y6ghi9oqR9R",
    "outputId": "477648d5-52ea-49c8-c2f3-8d759614360f"
   },
   "outputs": [
    {
     "data": {
      "text/plain": [
       "GD      1259\n",
       "PLD     1259\n",
       "CVS     1259\n",
       "DRE     1259\n",
       "IPG     1259\n",
       "        ... \n",
       "DXC      215\n",
       "BHGE     152\n",
       "BHF      143\n",
       "DWDP     109\n",
       "APTV      44\n",
       "Name: Name, Length: 505, dtype: int64"
      ]
     },
     "execution_count": 7,
     "metadata": {
      "tags": []
     },
     "output_type": "execute_result"
    }
   ],
   "source": [
    "data['Name'].value_counts()"
   ]
  },
  {
   "cell_type": "code",
   "execution_count": 8,
   "metadata": {
    "colab": {
     "base_uri": "https://localhost:8080/",
     "height": 34
    },
    "colab_type": "code",
    "id": "QkQpcX7DrTf-",
    "outputId": "ed4fad92-f815-4146-b5dd-0fa476c65262"
   },
   "outputs": [
    {
     "data": {
      "text/plain": [
       "505"
      ]
     },
     "execution_count": 8,
     "metadata": {
      "tags": []
     },
     "output_type": "execute_result"
    }
   ],
   "source": [
    "### How many company's data we have here?\n",
    "data.Name.nunique()"
   ]
  },
  {
   "cell_type": "code",
   "execution_count": 9,
   "metadata": {
    "colab": {
     "base_uri": "https://localhost:8080/",
     "height": 34
    },
    "colab_type": "code",
    "id": "8RwqZCeKrTo0",
    "outputId": "4b080279-ea35-408c-8480-a0ca57e35124"
   },
   "outputs": [
    {
     "data": {
      "text/plain": [
       "(1259, 7)"
      ]
     },
     "execution_count": 9,
     "metadata": {
      "tags": []
     },
     "output_type": "execute_result"
    }
   ],
   "source": [
    "## Selecting the data AAL\n",
    "df = data[data['Name']=='TDG']\n",
    "df.shape"
   ]
  },
  {
   "cell_type": "code",
   "execution_count": 10,
   "metadata": {
    "colab": {
     "base_uri": "https://localhost:8080/",
     "height": 34
    },
    "colab_type": "code",
    "id": "oUCUjscjrTk-",
    "outputId": "f53c6ed7-f472-4514-dad7-5db68bbe337b"
   },
   "outputs": [
    {
     "data": {
      "text/plain": [
       "Index(['date', 'open', 'high', 'low', 'close', 'volume', 'Name'], dtype='object')"
      ]
     },
     "execution_count": 10,
     "metadata": {
      "tags": []
     },
     "output_type": "execute_result"
    }
   ],
   "source": [
    "df.columns"
   ]
  },
  {
   "cell_type": "code",
   "execution_count": 11,
   "metadata": {
    "colab": {
     "base_uri": "https://localhost:8080/",
     "height": 419
    },
    "colab_type": "code",
    "id": "g36txBjSrTdS",
    "outputId": "83f1e3f9-b572-424e-f9be-d5acf70d9fa8"
   },
   "outputs": [
    {
     "data": {
      "text/html": [
       "<div>\n",
       "<style scoped>\n",
       "    .dataframe tbody tr th:only-of-type {\n",
       "        vertical-align: middle;\n",
       "    }\n",
       "\n",
       "    .dataframe tbody tr th {\n",
       "        vertical-align: top;\n",
       "    }\n",
       "\n",
       "    .dataframe thead th {\n",
       "        text-align: right;\n",
       "    }\n",
       "</style>\n",
       "<table border=\"1\" class=\"dataframe\">\n",
       "  <thead>\n",
       "    <tr style=\"text-align: right;\">\n",
       "      <th></th>\n",
       "      <th>date</th>\n",
       "      <th>close</th>\n",
       "    </tr>\n",
       "  </thead>\n",
       "  <tbody>\n",
       "    <tr>\n",
       "      <th>533033</th>\n",
       "      <td>2013-02-08</td>\n",
       "      <td>143.05</td>\n",
       "    </tr>\n",
       "    <tr>\n",
       "      <th>533034</th>\n",
       "      <td>2013-02-11</td>\n",
       "      <td>145.18</td>\n",
       "    </tr>\n",
       "    <tr>\n",
       "      <th>533035</th>\n",
       "      <td>2013-02-12</td>\n",
       "      <td>144.91</td>\n",
       "    </tr>\n",
       "    <tr>\n",
       "      <th>533036</th>\n",
       "      <td>2013-02-13</td>\n",
       "      <td>144.75</td>\n",
       "    </tr>\n",
       "    <tr>\n",
       "      <th>533037</th>\n",
       "      <td>2013-02-14</td>\n",
       "      <td>143.44</td>\n",
       "    </tr>\n",
       "    <tr>\n",
       "      <th>...</th>\n",
       "      <td>...</td>\n",
       "      <td>...</td>\n",
       "    </tr>\n",
       "    <tr>\n",
       "      <th>534287</th>\n",
       "      <td>2018-02-01</td>\n",
       "      <td>315.20</td>\n",
       "    </tr>\n",
       "    <tr>\n",
       "      <th>534288</th>\n",
       "      <td>2018-02-02</td>\n",
       "      <td>307.28</td>\n",
       "    </tr>\n",
       "    <tr>\n",
       "      <th>534289</th>\n",
       "      <td>2018-02-05</td>\n",
       "      <td>296.86</td>\n",
       "    </tr>\n",
       "    <tr>\n",
       "      <th>534290</th>\n",
       "      <td>2018-02-06</td>\n",
       "      <td>290.66</td>\n",
       "    </tr>\n",
       "    <tr>\n",
       "      <th>534291</th>\n",
       "      <td>2018-02-07</td>\n",
       "      <td>292.10</td>\n",
       "    </tr>\n",
       "  </tbody>\n",
       "</table>\n",
       "<p>1259 rows × 2 columns</p>\n",
       "</div>"
      ],
      "text/plain": [
       "              date   close\n",
       "533033  2013-02-08  143.05\n",
       "533034  2013-02-11  145.18\n",
       "533035  2013-02-12  144.91\n",
       "533036  2013-02-13  144.75\n",
       "533037  2013-02-14  143.44\n",
       "...            ...     ...\n",
       "534287  2018-02-01  315.20\n",
       "534288  2018-02-02  307.28\n",
       "534289  2018-02-05  296.86\n",
       "534290  2018-02-06  290.66\n",
       "534291  2018-02-07  292.10\n",
       "\n",
       "[1259 rows x 2 columns]"
      ]
     },
     "execution_count": 11,
     "metadata": {
      "tags": []
     },
     "output_type": "execute_result"
    }
   ],
   "source": [
    "#select the columns data and close price\n",
    "df = df[['date','close']]\n",
    "df"
   ]
  },
  {
   "cell_type": "code",
   "execution_count": 12,
   "metadata": {
    "colab": {
     "base_uri": "https://localhost:8080/",
     "height": 285
    },
    "colab_type": "code",
    "id": "0L7Z1vr6rmhg",
    "outputId": "687fceb0-aadd-4e2d-c138-dd6c2f3572a9"
   },
   "outputs": [
    {
     "data": {
      "text/plain": [
       "[<matplotlib.lines.Line2D at 0x7f3315da5438>]"
      ]
     },
     "execution_count": 12,
     "metadata": {
      "tags": []
     },
     "output_type": "execute_result"
    },
    {
     "data": {
      "image/png": "[encoded data removed]",
      "text/plain": [
       "<Figure size 432x288 with 1 Axes>"
      ]
     },
     "metadata": {
      "needs_background": "light",
      "tags": []
     },
     "output_type": "display_data"
    }
   ],
   "source": [
    "#line plot\n",
    "import matplotlib.pyplot as plt\n",
    "plt.plot(df['date'],df['close'])"
   ]
  },
  {
   "cell_type": "code",
   "execution_count": 13,
   "metadata": {
    "colab": {
     "base_uri": "https://localhost:8080/",
     "height": 204
    },
    "colab_type": "code",
    "id": "Cby3uwcsrmsZ",
    "outputId": "fd2c0830-8462-41cb-d6cb-353b8baf15e2"
   },
   "outputs": [
    {
     "data": {
      "text/plain": [
       "533033    2013-02-08\n",
       "533034    2013-02-11\n",
       "533035    2013-02-12\n",
       "533036    2013-02-13\n",
       "533037    2013-02-14\n",
       "533038    2013-02-15\n",
       "533039    2013-02-19\n",
       "533040    2013-02-20\n",
       "533041    2013-02-21\n",
       "533042    2013-02-22\n",
       "Name: date, dtype: object"
      ]
     },
     "execution_count": 13,
     "metadata": {
      "tags": []
     },
     "output_type": "execute_result"
    }
   ],
   "source": [
    "df.date[:10]"
   ]
  },
  {
   "cell_type": "code",
   "execution_count": 14,
   "metadata": {
    "colab": {
     "base_uri": "https://localhost:8080/",
     "height": 68
    },
    "colab_type": "code",
    "id": "CTlIyb4prmpS",
    "outputId": "d9bb25f6-c582-4efb-a4eb-4bc47c3de706"
   },
   "outputs": [
    {
     "data": {
      "text/plain": [
       "date     0\n",
       "close    0\n",
       "dtype: int64"
      ]
     },
     "execution_count": 14,
     "metadata": {
      "tags": []
     },
     "output_type": "execute_result"
    }
   ],
   "source": [
    "### Missing values in the data\n",
    "df.isnull().sum()"
   ]
  },
  {
   "cell_type": "code",
   "execution_count": 15,
   "metadata": {
    "colab": {
     "base_uri": "https://localhost:8080/",
     "height": 272
    },
    "colab_type": "code",
    "id": "mk9l8n5ermmn",
    "outputId": "29d0feee-39f7-41ad-9274-3f26065ee961"
   },
   "outputs": [
    {
     "name": "stdout",
     "output_type": "stream",
     "text": [
      "[533033    143.05\n",
      "533034    145.18\n",
      "533035    144.91\n",
      "533036    144.75\n",
      "533037    143.44\n",
      "533038    143.77\n",
      "533039    143.05\n",
      "Name: close, dtype: float64, 533034    145.18\n",
      "533035    144.91\n",
      "533036    144.75\n",
      "533037    143.44\n",
      "533038    143.77\n",
      "533039    143.05\n",
      "533040    139.86\n",
      "Name: close, dtype: float64]\n"
     ]
    }
   ],
   "source": [
    "## Preparing the data\n",
    "## Features and target\n",
    "## Input and output\n",
    "## last 7 days data as input\n",
    "## X -- [[d1-d7],[d9,d15],[d17,23]....]\n",
    "## y -- [d8,d16,d24,...]\n",
    "\n",
    "## X = [[d1-d7],[d2-d8],]\n",
    "## y = [d8,d9]\n",
    "\n",
    "X = [] ## input\n",
    "y = [] ## ouput\n",
    "for i  in range(df.shape[0]-7-1):   \n",
    "  X.append(df['close'][i:i+7])# 0 -->[0:7], 1-->[1:8]\n",
    "  y.append(df['close'][i+533040]) \n",
    "print(X[:2])"
   ]
  },
  {
   "cell_type": "code",
   "execution_count": 16,
   "metadata": {
    "colab": {},
    "colab_type": "code",
    "id": "fLCPownPrmky"
   },
   "outputs": [],
   "source": [
    "import numpy as np\n",
    "X = np.array(X)"
   ]
  },
  {
   "cell_type": "code",
   "execution_count": 17,
   "metadata": {
    "colab": {
     "base_uri": "https://localhost:8080/",
     "height": 204
    },
    "colab_type": "code",
    "id": "DaD-ZIx_rme3",
    "outputId": "bb5775c6-1c1b-4173-e58d-c423b60fb4e2"
   },
   "outputs": [
    {
     "data": {
      "text/html": [
       "<div>\n",
       "<style scoped>\n",
       "    .dataframe tbody tr th:only-of-type {\n",
       "        vertical-align: middle;\n",
       "    }\n",
       "\n",
       "    .dataframe tbody tr th {\n",
       "        vertical-align: top;\n",
       "    }\n",
       "\n",
       "    .dataframe thead th {\n",
       "        text-align: right;\n",
       "    }\n",
       "</style>\n",
       "<table border=\"1\" class=\"dataframe\">\n",
       "  <thead>\n",
       "    <tr style=\"text-align: right;\">\n",
       "      <th></th>\n",
       "      <th>d1</th>\n",
       "      <th>d2</th>\n",
       "      <th>d3</th>\n",
       "      <th>d4</th>\n",
       "      <th>d5</th>\n",
       "      <th>d6</th>\n",
       "      <th>d7</th>\n",
       "    </tr>\n",
       "  </thead>\n",
       "  <tbody>\n",
       "    <tr>\n",
       "      <th>0</th>\n",
       "      <td>143.05</td>\n",
       "      <td>145.18</td>\n",
       "      <td>144.91</td>\n",
       "      <td>144.75</td>\n",
       "      <td>143.44</td>\n",
       "      <td>143.77</td>\n",
       "      <td>143.05</td>\n",
       "    </tr>\n",
       "    <tr>\n",
       "      <th>1</th>\n",
       "      <td>145.18</td>\n",
       "      <td>144.91</td>\n",
       "      <td>144.75</td>\n",
       "      <td>143.44</td>\n",
       "      <td>143.77</td>\n",
       "      <td>143.05</td>\n",
       "      <td>139.86</td>\n",
       "    </tr>\n",
       "    <tr>\n",
       "      <th>2</th>\n",
       "      <td>144.91</td>\n",
       "      <td>144.75</td>\n",
       "      <td>143.44</td>\n",
       "      <td>143.77</td>\n",
       "      <td>143.05</td>\n",
       "      <td>139.86</td>\n",
       "      <td>141.16</td>\n",
       "    </tr>\n",
       "    <tr>\n",
       "      <th>3</th>\n",
       "      <td>144.75</td>\n",
       "      <td>143.44</td>\n",
       "      <td>143.77</td>\n",
       "      <td>143.05</td>\n",
       "      <td>139.86</td>\n",
       "      <td>141.16</td>\n",
       "      <td>142.74</td>\n",
       "    </tr>\n",
       "    <tr>\n",
       "      <th>4</th>\n",
       "      <td>143.44</td>\n",
       "      <td>143.77</td>\n",
       "      <td>143.05</td>\n",
       "      <td>139.86</td>\n",
       "      <td>141.16</td>\n",
       "      <td>142.74</td>\n",
       "      <td>138.83</td>\n",
       "    </tr>\n",
       "  </tbody>\n",
       "</table>\n",
       "</div>"
      ],
      "text/plain": [
       "       d1      d2      d3      d4      d5      d6      d7\n",
       "0  143.05  145.18  144.91  144.75  143.44  143.77  143.05\n",
       "1  145.18  144.91  144.75  143.44  143.77  143.05  139.86\n",
       "2  144.91  144.75  143.44  143.77  143.05  139.86  141.16\n",
       "3  144.75  143.44  143.77  143.05  139.86  141.16  142.74\n",
       "4  143.44  143.77  143.05  139.86  141.16  142.74  138.83"
      ]
     },
     "execution_count": 17,
     "metadata": {
      "tags": []
     },
     "output_type": "execute_result"
    }
   ],
   "source": [
    "df1 = pd.DataFrame(X,columns=['d1','d2','d3','d4','d5','d6','d7'])\n",
    "df1.head()"
   ]
  },
  {
   "cell_type": "code",
   "execution_count": 18,
   "metadata": {
    "colab": {
     "base_uri": "https://localhost:8080/",
     "height": 204
    },
    "colab_type": "code",
    "id": "5D8MSsQKsAYg",
    "outputId": "79816ee5-edb8-4cb2-bf9e-a6068f6d1187"
   },
   "outputs": [
    {
     "data": {
      "text/html": [
       "<div>\n",
       "<style scoped>\n",
       "    .dataframe tbody tr th:only-of-type {\n",
       "        vertical-align: middle;\n",
       "    }\n",
       "\n",
       "    .dataframe tbody tr th {\n",
       "        vertical-align: top;\n",
       "    }\n",
       "\n",
       "    .dataframe thead th {\n",
       "        text-align: right;\n",
       "    }\n",
       "</style>\n",
       "<table border=\"1\" class=\"dataframe\">\n",
       "  <thead>\n",
       "    <tr style=\"text-align: right;\">\n",
       "      <th></th>\n",
       "      <th>d1</th>\n",
       "      <th>d2</th>\n",
       "      <th>d3</th>\n",
       "      <th>d4</th>\n",
       "      <th>d5</th>\n",
       "      <th>d6</th>\n",
       "      <th>d7</th>\n",
       "      <th>d8</th>\n",
       "    </tr>\n",
       "  </thead>\n",
       "  <tbody>\n",
       "    <tr>\n",
       "      <th>0</th>\n",
       "      <td>143.05</td>\n",
       "      <td>145.18</td>\n",
       "      <td>144.91</td>\n",
       "      <td>144.75</td>\n",
       "      <td>143.44</td>\n",
       "      <td>143.77</td>\n",
       "      <td>143.05</td>\n",
       "      <td>139.86</td>\n",
       "    </tr>\n",
       "    <tr>\n",
       "      <th>1</th>\n",
       "      <td>145.18</td>\n",
       "      <td>144.91</td>\n",
       "      <td>144.75</td>\n",
       "      <td>143.44</td>\n",
       "      <td>143.77</td>\n",
       "      <td>143.05</td>\n",
       "      <td>139.86</td>\n",
       "      <td>141.16</td>\n",
       "    </tr>\n",
       "    <tr>\n",
       "      <th>2</th>\n",
       "      <td>144.91</td>\n",
       "      <td>144.75</td>\n",
       "      <td>143.44</td>\n",
       "      <td>143.77</td>\n",
       "      <td>143.05</td>\n",
       "      <td>139.86</td>\n",
       "      <td>141.16</td>\n",
       "      <td>142.74</td>\n",
       "    </tr>\n",
       "    <tr>\n",
       "      <th>3</th>\n",
       "      <td>144.75</td>\n",
       "      <td>143.44</td>\n",
       "      <td>143.77</td>\n",
       "      <td>143.05</td>\n",
       "      <td>139.86</td>\n",
       "      <td>141.16</td>\n",
       "      <td>142.74</td>\n",
       "      <td>138.83</td>\n",
       "    </tr>\n",
       "    <tr>\n",
       "      <th>4</th>\n",
       "      <td>143.44</td>\n",
       "      <td>143.77</td>\n",
       "      <td>143.05</td>\n",
       "      <td>139.86</td>\n",
       "      <td>141.16</td>\n",
       "      <td>142.74</td>\n",
       "      <td>138.83</td>\n",
       "      <td>139.18</td>\n",
       "    </tr>\n",
       "  </tbody>\n",
       "</table>\n",
       "</div>"
      ],
      "text/plain": [
       "       d1      d2      d3      d4      d5      d6      d7      d8\n",
       "0  143.05  145.18  144.91  144.75  143.44  143.77  143.05  139.86\n",
       "1  145.18  144.91  144.75  143.44  143.77  143.05  139.86  141.16\n",
       "2  144.91  144.75  143.44  143.77  143.05  139.86  141.16  142.74\n",
       "3  144.75  143.44  143.77  143.05  139.86  141.16  142.74  138.83\n",
       "4  143.44  143.77  143.05  139.86  141.16  142.74  138.83  139.18"
      ]
     },
     "execution_count": 18,
     "metadata": {
      "tags": []
     },
     "output_type": "execute_result"
    }
   ],
   "source": [
    "df1['d8'] = y\n",
    "df1.head()"
   ]
  },
  {
   "cell_type": "code",
   "execution_count": 19,
   "metadata": {
    "colab": {
     "base_uri": "https://localhost:8080/",
     "height": 34
    },
    "colab_type": "code",
    "id": "rQ_UIQPIsAgv",
    "outputId": "a0b01326-d490-429e-a35b-c6efb413e4df"
   },
   "outputs": [
    {
     "data": {
      "text/plain": [
       "(1251, 8)"
      ]
     },
     "execution_count": 19,
     "metadata": {
      "tags": []
     },
     "output_type": "execute_result"
    }
   ],
   "source": [
    "df1.shape"
   ]
  },
  {
   "cell_type": "code",
   "execution_count": 20,
   "metadata": {
    "colab": {
     "base_uri": "https://localhost:8080/",
     "height": 34
    },
    "colab_type": "code",
    "id": "mrcTC5kksAe6",
    "outputId": "aa97c8aa-009b-4345-e4d3-0da48a345534"
   },
   "outputs": [
    {
     "data": {
      "text/plain": [
       "1000.8000000000001"
      ]
     },
     "execution_count": 20,
     "metadata": {
      "tags": []
     },
     "output_type": "execute_result"
    }
   ],
   "source": [
    "1251 * 0.8"
   ]
  },
  {
   "cell_type": "code",
   "execution_count": 21,
   "metadata": {
    "colab": {
     "base_uri": "https://localhost:8080/",
     "height": 85
    },
    "colab_type": "code",
    "id": "oNTrz8vssAch",
    "outputId": "dc4ba2d4-8e21-4ff7-b029-4c8079e39ca0"
   },
   "outputs": [
    {
     "name": "stdout",
     "output_type": "stream",
     "text": [
      "(1000, 7)\n",
      "(1000,)\n",
      "(251, 7)\n",
      "(251,)\n"
     ]
    }
   ],
   "source": [
    "## Train test split\n",
    "X_train = df1.iloc[0:1000,0:7]\n",
    "X_test = df1.iloc[1000:,0:7]\n",
    "y_train =  df1['d8'][:1000]\n",
    "y_test  = df1['d8'][1000:]\n",
    "print(X_train.shape)\n",
    "print(y_train.shape)\n",
    "print(X_test.shape)\n",
    "print(y_test.shape)"
   ]
  },
  {
   "cell_type": "code",
   "execution_count": 22,
   "metadata": {
    "colab": {
     "base_uri": "https://localhost:8080/",
     "height": 297
    },
    "colab_type": "code",
    "id": "clAu7d7lsAUu",
    "outputId": "883ed493-198a-4e96-edb7-b6164366163e"
   },
   "outputs": [
    {
     "data": {
      "text/html": [
       "<div>\n",
       "<style scoped>\n",
       "    .dataframe tbody tr th:only-of-type {\n",
       "        vertical-align: middle;\n",
       "    }\n",
       "\n",
       "    .dataframe tbody tr th {\n",
       "        vertical-align: top;\n",
       "    }\n",
       "\n",
       "    .dataframe thead th {\n",
       "        text-align: right;\n",
       "    }\n",
       "</style>\n",
       "<table border=\"1\" class=\"dataframe\">\n",
       "  <thead>\n",
       "    <tr style=\"text-align: right;\">\n",
       "      <th></th>\n",
       "      <th>d1</th>\n",
       "      <th>d2</th>\n",
       "      <th>d3</th>\n",
       "      <th>d4</th>\n",
       "      <th>d5</th>\n",
       "      <th>d6</th>\n",
       "      <th>d7</th>\n",
       "    </tr>\n",
       "  </thead>\n",
       "  <tbody>\n",
       "    <tr>\n",
       "      <th>count</th>\n",
       "      <td>1.000000e+03</td>\n",
       "      <td>1.000000e+03</td>\n",
       "      <td>1.000000e+03</td>\n",
       "      <td>1.000000e+03</td>\n",
       "      <td>1.000000e+03</td>\n",
       "      <td>1.000000e+03</td>\n",
       "      <td>1.000000e+03</td>\n",
       "    </tr>\n",
       "    <tr>\n",
       "      <th>mean</th>\n",
       "      <td>-1.720846e-16</td>\n",
       "      <td>1.534328e-16</td>\n",
       "      <td>3.625433e-16</td>\n",
       "      <td>2.612355e-16</td>\n",
       "      <td>-8.598677e-17</td>\n",
       "      <td>-2.949863e-16</td>\n",
       "      <td>-5.948575e-16</td>\n",
       "    </tr>\n",
       "    <tr>\n",
       "      <th>std</th>\n",
       "      <td>1.000500e+00</td>\n",
       "      <td>1.000500e+00</td>\n",
       "      <td>1.000500e+00</td>\n",
       "      <td>1.000500e+00</td>\n",
       "      <td>1.000500e+00</td>\n",
       "      <td>1.000500e+00</td>\n",
       "      <td>1.000500e+00</td>\n",
       "    </tr>\n",
       "    <tr>\n",
       "      <th>min</th>\n",
       "      <td>-1.600751e+00</td>\n",
       "      <td>-1.603999e+00</td>\n",
       "      <td>-1.607093e+00</td>\n",
       "      <td>-1.610251e+00</td>\n",
       "      <td>-1.613449e+00</td>\n",
       "      <td>-1.616778e+00</td>\n",
       "      <td>-1.620099e+00</td>\n",
       "    </tr>\n",
       "    <tr>\n",
       "      <th>25%</th>\n",
       "      <td>-8.198877e-01</td>\n",
       "      <td>-8.186102e-01</td>\n",
       "      <td>-8.187042e-01</td>\n",
       "      <td>-8.178015e-01</td>\n",
       "      <td>-8.184258e-01</td>\n",
       "      <td>-8.163165e-01</td>\n",
       "      <td>-8.152131e-01</td>\n",
       "    </tr>\n",
       "    <tr>\n",
       "      <th>50%</th>\n",
       "      <td>8.418603e-02</td>\n",
       "      <td>8.986731e-02</td>\n",
       "      <td>9.620145e-02</td>\n",
       "      <td>9.806986e-02</td>\n",
       "      <td>1.027375e-01</td>\n",
       "      <td>1.064700e-01</td>\n",
       "      <td>1.091178e-01</td>\n",
       "    </tr>\n",
       "    <tr>\n",
       "      <th>75%</th>\n",
       "      <td>6.105218e-01</td>\n",
       "      <td>6.093527e-01</td>\n",
       "      <td>6.081976e-01</td>\n",
       "      <td>6.069466e-01</td>\n",
       "      <td>6.056328e-01</td>\n",
       "      <td>6.042101e-01</td>\n",
       "      <td>6.034346e-01</td>\n",
       "    </tr>\n",
       "    <tr>\n",
       "      <th>max</th>\n",
       "      <td>2.112597e+00</td>\n",
       "      <td>2.112840e+00</td>\n",
       "      <td>2.113002e+00</td>\n",
       "      <td>2.113046e+00</td>\n",
       "      <td>2.113012e+00</td>\n",
       "      <td>2.112884e+00</td>\n",
       "      <td>2.112439e+00</td>\n",
       "    </tr>\n",
       "  </tbody>\n",
       "</table>\n",
       "</div>"
      ],
      "text/plain": [
       "                 d1            d2  ...            d6            d7\n",
       "count  1.000000e+03  1.000000e+03  ...  1.000000e+03  1.000000e+03\n",
       "mean  -1.720846e-16  1.534328e-16  ... -2.949863e-16 -5.948575e-16\n",
       "std    1.000500e+00  1.000500e+00  ...  1.000500e+00  1.000500e+00\n",
       "min   -1.600751e+00 -1.603999e+00  ... -1.616778e+00 -1.620099e+00\n",
       "25%   -8.198877e-01 -8.186102e-01  ... -8.163165e-01 -8.152131e-01\n",
       "50%    8.418603e-02  8.986731e-02  ...  1.064700e-01  1.091178e-01\n",
       "75%    6.105218e-01  6.093527e-01  ...  6.042101e-01  6.034346e-01\n",
       "max    2.112597e+00  2.112840e+00  ...  2.112884e+00  2.112439e+00\n",
       "\n",
       "[8 rows x 7 columns]"
      ]
     },
     "execution_count": 22,
     "metadata": {
      "tags": []
     },
     "output_type": "execute_result"
    }
   ],
   "source": [
    "## Sacling the data\n",
    "from sklearn.preprocessing import StandardScaler\n",
    "sc = StandardScaler()\n",
    "sc.fit(X_train)\n",
    "X_train_sc = pd.DataFrame(sc.transform(X_train),columns = X_train.columns)\n",
    "X_test_sc = pd.DataFrame(sc.transform(X_test),columns = X_train.columns)\n",
    "X_train_sc.describe()"
   ]
  },
  {
   "cell_type": "code",
   "execution_count": 23,
   "metadata": {
    "colab": {
     "base_uri": "https://localhost:8080/",
     "height": 238
    },
    "colab_type": "code",
    "id": "wgQQFDFHsXgX",
    "outputId": "3d02f78e-fe50-4fb7-ee85-b37cb86a63d5"
   },
   "outputs": [
    {
     "name": "stderr",
     "output_type": "stream",
     "text": [
      "Using TensorFlow backend.\n"
     ]
    },
    {
     "name": "stdout",
     "output_type": "stream",
     "text": [
      "Model: \"sequential_1\"\n",
      "_________________________________________________________________\n",
      "Layer (type)                 Output Shape              Param #   \n",
      "=================================================================\n",
      "lstm_1 (LSTM)                (None, 256)               264192    \n",
      "_________________________________________________________________\n",
      "dense_1 (Dense)              (None, 1)                 257       \n",
      "=================================================================\n",
      "Total params: 264,449\n",
      "Trainable params: 264,449\n",
      "Non-trainable params: 0\n",
      "_________________________________________________________________\n"
     ]
    }
   ],
   "source": [
    "from keras.models import Sequential\n",
    "from keras.layers import Dense,Dropout,LSTM\n",
    "model = Sequential()\n",
    "model.add(LSTM(256,input_shape=(7,1)))\n",
    "model.add(Dense(1))\n",
    "model.summary()"
   ]
  },
  {
   "cell_type": "code",
   "execution_count": 24,
   "metadata": {
    "colab": {},
    "colab_type": "code",
    "id": "KF99la4ssXqY"
   },
   "outputs": [],
   "source": [
    "model.compile(optimizer='adam',loss='mse')"
   ]
  },
  {
   "cell_type": "code",
   "execution_count": 25,
   "metadata": {
    "colab": {
     "base_uri": "https://localhost:8080/",
     "height": 34
    },
    "colab_type": "code",
    "id": "-nwtP0C7sYJR",
    "outputId": "fba9da58-a903-423d-ed32-6856009fd39e"
   },
   "outputs": [
    {
     "data": {
      "text/plain": [
       "(251, 7)"
      ]
     },
     "execution_count": 25,
     "metadata": {
      "tags": []
     },
     "output_type": "execute_result"
    }
   ],
   "source": [
    "X_test.shape"
   ]
  },
  {
   "cell_type": "code",
   "execution_count": 26,
   "metadata": {
    "colab": {},
    "colab_type": "code",
    "id": "XzzihLmPsYGh"
   },
   "outputs": [],
   "source": [
    "# number of records , time steps,Features\n",
    "X_train_sc = X_train_sc.values.reshape(1000,7,1)\n",
    "X_test_sc = X_test_sc.values.reshape(251,7,1)"
   ]
  },
  {
   "cell_type": "code",
   "execution_count": 27,
   "metadata": {
    "colab": {
     "base_uri": "https://localhost:8080/",
     "height": 1000
    },
    "colab_type": "code",
    "id": "jKtVnBilsXmx",
    "outputId": "35f5e5cc-d2e4-45eb-8e25-224bee3727aa"
   },
   "outputs": [
    {
     "name": "stdout",
     "output_type": "stream",
     "text": [
      "Train on 1000 samples, validate on 251 samples\n",
      "Epoch 1/100\n",
      "1000/1000 [==============================] - 1s 1ms/step - loss: 40843.4160 - val_loss: 57934.6824\n",
      "Epoch 2/100\n",
      "1000/1000 [==============================] - 1s 882us/step - loss: 32032.8005 - val_loss: 52901.1840\n",
      "Epoch 3/100\n",
      "1000/1000 [==============================] - 1s 919us/step - loss: 28439.1187 - val_loss: 48705.2085\n",
      "Epoch 4/100\n",
      "1000/1000 [==============================] - 1s 915us/step - loss: 25604.7577 - val_loss: 45007.4547\n",
      "Epoch 5/100\n",
      "1000/1000 [==============================] - 1s 918us/step - loss: 23104.1193 - val_loss: 41686.8983\n",
      "Epoch 6/100\n",
      "1000/1000 [==============================] - 1s 887us/step - loss: 20869.6295 - val_loss: 38591.9028\n",
      "Epoch 7/100\n",
      "1000/1000 [==============================] - 1s 902us/step - loss: 18824.2136 - val_loss: 35752.4537\n",
      "Epoch 8/100\n",
      "1000/1000 [==============================] - 1s 944us/step - loss: 16961.2358 - val_loss: 33098.7869\n",
      "Epoch 9/100\n",
      "1000/1000 [==============================] - 1s 949us/step - loss: 15276.4697 - val_loss: 30660.3394\n",
      "Epoch 10/100\n",
      "1000/1000 [==============================] - 1s 912us/step - loss: 13757.0348 - val_loss: 28412.6071\n",
      "Epoch 11/100\n",
      "1000/1000 [==============================] - 1s 894us/step - loss: 12383.8747 - val_loss: 26321.3937\n",
      "Epoch 12/100\n",
      "1000/1000 [==============================] - 1s 893us/step - loss: 11138.6959 - val_loss: 24403.4665\n",
      "Epoch 13/100\n",
      "1000/1000 [==============================] - 1s 918us/step - loss: 10019.7252 - val_loss: 22626.4190\n",
      "Epoch 14/100\n",
      "1000/1000 [==============================] - 1s 937us/step - loss: 9013.0442 - val_loss: 20992.8451\n",
      "Epoch 15/100\n",
      "1000/1000 [==============================] - 1s 904us/step - loss: 8108.5366 - val_loss: 19466.5343\n",
      "Epoch 16/100\n",
      "1000/1000 [==============================] - 1s 928us/step - loss: 7302.0850 - val_loss: 18098.4413\n",
      "Epoch 17/100\n",
      "1000/1000 [==============================] - 1s 880us/step - loss: 6581.6601 - val_loss: 16823.8213\n",
      "Epoch 18/100\n",
      "1000/1000 [==============================] - 1s 881us/step - loss: 5939.9247 - val_loss: 15638.8074\n",
      "Epoch 19/100\n",
      "1000/1000 [==============================] - 1s 899us/step - loss: 5368.5211 - val_loss: 14551.6889\n",
      "Epoch 20/100\n",
      "1000/1000 [==============================] - 1s 875us/step - loss: 4860.0981 - val_loss: 13547.8419\n",
      "Epoch 21/100\n",
      "1000/1000 [==============================] - 1s 900us/step - loss: 4409.1941 - val_loss: 12620.7810\n",
      "Epoch 22/100\n",
      "1000/1000 [==============================] - 1s 923us/step - loss: 4013.5501 - val_loss: 11769.7090\n",
      "Epoch 23/100\n",
      "1000/1000 [==============================] - 1s 939us/step - loss: 3666.3084 - val_loss: 11003.5402\n",
      "Epoch 24/100\n",
      "1000/1000 [==============================] - 1s 939us/step - loss: 3367.6121 - val_loss: 10306.8848\n",
      "Epoch 25/100\n",
      "1000/1000 [==============================] - 1s 934us/step - loss: 3111.8426 - val_loss: 9673.5441\n",
      "Epoch 26/100\n",
      "1000/1000 [==============================] - 1s 907us/step - loss: 2889.7549 - val_loss: 9108.2823\n",
      "Epoch 27/100\n",
      "1000/1000 [==============================] - 1s 900us/step - loss: 2703.6824 - val_loss: 8585.9719\n",
      "Epoch 28/100\n",
      "1000/1000 [==============================] - 1s 896us/step - loss: 2544.7175 - val_loss: 8108.2065\n",
      "Epoch 29/100\n",
      "1000/1000 [==============================] - 1s 892us/step - loss: 2406.5796 - val_loss: 7691.1027\n",
      "Epoch 30/100\n",
      "1000/1000 [==============================] - 1s 882us/step - loss: 2293.7431 - val_loss: 7297.5223\n",
      "Epoch 31/100\n",
      "1000/1000 [==============================] - 1s 887us/step - loss: 2196.6053 - val_loss: 6949.8389\n",
      "Epoch 32/100\n",
      "1000/1000 [==============================] - 1s 897us/step - loss: 2116.1456 - val_loss: 6642.9926\n",
      "Epoch 33/100\n",
      "1000/1000 [==============================] - 1s 901us/step - loss: 2049.4158 - val_loss: 6373.0771\n",
      "Epoch 34/100\n",
      "1000/1000 [==============================] - 1s 901us/step - loss: 1994.8031 - val_loss: 6101.2201\n",
      "Epoch 35/100\n",
      "1000/1000 [==============================] - 1s 895us/step - loss: 1947.1861 - val_loss: 5881.5189\n",
      "Epoch 36/100\n",
      "1000/1000 [==============================] - 1s 896us/step - loss: 1910.7885 - val_loss: 5681.2043\n",
      "Epoch 37/100\n",
      "1000/1000 [==============================] - 1s 914us/step - loss: 1880.5792 - val_loss: 5495.6767\n",
      "Epoch 38/100\n",
      "1000/1000 [==============================] - 1s 903us/step - loss: 1854.6458 - val_loss: 5321.7324\n",
      "Epoch 39/100\n",
      "1000/1000 [==============================] - 1s 895us/step - loss: 1835.3252 - val_loss: 5175.8813\n",
      "Epoch 40/100\n",
      "1000/1000 [==============================] - 1s 921us/step - loss: 1819.1640 - val_loss: 5049.5186\n",
      "Epoch 41/100\n",
      "1000/1000 [==============================] - 1s 899us/step - loss: 1807.1372 - val_loss: 4940.2086\n",
      "Epoch 42/100\n",
      "1000/1000 [==============================] - 1s 909us/step - loss: 1796.8605 - val_loss: 4849.1230\n",
      "Epoch 43/100\n",
      "1000/1000 [==============================] - 1s 1ms/step - loss: 1788.9083 - val_loss: 4759.2351\n",
      "Epoch 44/100\n",
      "1000/1000 [==============================] - 1s 1ms/step - loss: 1781.7038 - val_loss: 4663.5526\n",
      "Epoch 45/100\n",
      "1000/1000 [==============================] - 1s 1ms/step - loss: 1775.8556 - val_loss: 4608.3361\n",
      "Epoch 46/100\n",
      "1000/1000 [==============================] - 1s 1ms/step - loss: 1765.9702 - val_loss: 4565.6571\n",
      "Epoch 47/100\n",
      "1000/1000 [==============================] - 1s 1ms/step - loss: 1431.9749 - val_loss: 4382.3726\n",
      "Epoch 48/100\n",
      "1000/1000 [==============================] - 1s 908us/step - loss: 957.8601 - val_loss: 4043.4742\n",
      "Epoch 49/100\n",
      "1000/1000 [==============================] - 1s 921us/step - loss: 860.9845 - val_loss: 3741.0939\n",
      "Epoch 50/100\n",
      "1000/1000 [==============================] - 1s 934us/step - loss: 778.0281 - val_loss: 3462.9952\n",
      "Epoch 51/100\n",
      "1000/1000 [==============================] - 1s 895us/step - loss: 707.5442 - val_loss: 3210.1428\n",
      "Epoch 52/100\n",
      "1000/1000 [==============================] - 1s 923us/step - loss: 644.0281 - val_loss: 2989.8416\n",
      "Epoch 53/100\n",
      "1000/1000 [==============================] - 1s 941us/step - loss: 592.6727 - val_loss: 2784.8078\n",
      "Epoch 54/100\n",
      "1000/1000 [==============================] - 1s 878us/step - loss: 545.0990 - val_loss: 2610.6553\n",
      "Epoch 55/100\n",
      "1000/1000 [==============================] - 1s 885us/step - loss: 505.5202 - val_loss: 2448.6089\n",
      "Epoch 56/100\n",
      "1000/1000 [==============================] - 1s 879us/step - loss: 471.6431 - val_loss: 2300.6446\n",
      "Epoch 57/100\n",
      "1000/1000 [==============================] - 1s 923us/step - loss: 442.1143 - val_loss: 2171.5652\n",
      "Epoch 58/100\n",
      "1000/1000 [==============================] - 1s 926us/step - loss: 416.7391 - val_loss: 2048.1907\n",
      "Epoch 59/100\n",
      "1000/1000 [==============================] - 1s 912us/step - loss: 392.0306 - val_loss: 1938.5977\n",
      "Epoch 60/100\n",
      "1000/1000 [==============================] - 1s 898us/step - loss: 371.5802 - val_loss: 1826.1581\n",
      "Epoch 61/100\n",
      "1000/1000 [==============================] - 1s 929us/step - loss: 350.3239 - val_loss: 1733.1961\n",
      "Epoch 62/100\n",
      "1000/1000 [==============================] - 1s 899us/step - loss: 332.5278 - val_loss: 1638.5434\n",
      "Epoch 63/100\n",
      "1000/1000 [==============================] - 1s 892us/step - loss: 314.4140 - val_loss: 1546.3569\n",
      "Epoch 64/100\n",
      "1000/1000 [==============================] - 1s 877us/step - loss: 299.5937 - val_loss: 1468.8174\n",
      "Epoch 65/100\n",
      "1000/1000 [==============================] - 1s 888us/step - loss: 285.2818 - val_loss: 1389.3339\n",
      "Epoch 66/100\n",
      "1000/1000 [==============================] - 1s 905us/step - loss: 271.1901 - val_loss: 1315.6695\n",
      "Epoch 67/100\n",
      "1000/1000 [==============================] - 1s 912us/step - loss: 257.0419 - val_loss: 1252.0259\n",
      "Epoch 68/100\n",
      "1000/1000 [==============================] - 1s 920us/step - loss: 244.5830 - val_loss: 1187.8673\n",
      "Epoch 69/100\n",
      "1000/1000 [==============================] - 1s 927us/step - loss: 232.8420 - val_loss: 1124.9958\n",
      "Epoch 70/100\n",
      "1000/1000 [==============================] - 1s 892us/step - loss: 219.9850 - val_loss: 1070.9881\n",
      "Epoch 71/100\n",
      "1000/1000 [==============================] - 1s 905us/step - loss: 212.4855 - val_loss: 1016.8229\n",
      "Epoch 72/100\n",
      "1000/1000 [==============================] - 1s 946us/step - loss: 201.3302 - val_loss: 966.0335\n",
      "Epoch 73/100\n",
      "1000/1000 [==============================] - 1s 923us/step - loss: 192.6692 - val_loss: 911.6185\n",
      "Epoch 74/100\n",
      "1000/1000 [==============================] - 1s 920us/step - loss: 182.6140 - val_loss: 870.9937\n",
      "Epoch 75/100\n",
      "1000/1000 [==============================] - 1s 933us/step - loss: 175.0645 - val_loss: 831.4267\n",
      "Epoch 76/100\n",
      "1000/1000 [==============================] - 1s 893us/step - loss: 167.9271 - val_loss: 784.1286\n",
      "Epoch 77/100\n",
      "1000/1000 [==============================] - 1s 897us/step - loss: 157.9617 - val_loss: 743.5909\n",
      "Epoch 78/100\n",
      "1000/1000 [==============================] - 1s 947us/step - loss: 153.6286 - val_loss: 701.5513\n",
      "Epoch 79/100\n",
      "1000/1000 [==============================] - 1s 928us/step - loss: 145.0975 - val_loss: 668.1192\n",
      "Epoch 80/100\n",
      "1000/1000 [==============================] - 1s 934us/step - loss: 142.4963 - val_loss: 632.0431\n",
      "Epoch 81/100\n",
      "1000/1000 [==============================] - 1s 920us/step - loss: 132.9139 - val_loss: 611.6087\n",
      "Epoch 82/100\n",
      "1000/1000 [==============================] - 1s 897us/step - loss: 130.1947 - val_loss: 573.4519\n",
      "Epoch 83/100\n",
      "1000/1000 [==============================] - 1s 897us/step - loss: 124.5870 - val_loss: 550.0993\n",
      "Epoch 84/100\n",
      "1000/1000 [==============================] - 1s 896us/step - loss: 119.1075 - val_loss: 519.9515\n",
      "Epoch 85/100\n",
      "1000/1000 [==============================] - 1s 898us/step - loss: 112.1835 - val_loss: 505.9201\n",
      "Epoch 86/100\n",
      "1000/1000 [==============================] - 1s 878us/step - loss: 108.5738 - val_loss: 479.9319\n",
      "Epoch 87/100\n",
      "1000/1000 [==============================] - 1s 894us/step - loss: 107.3682 - val_loss: 501.3151\n",
      "Epoch 88/100\n",
      "1000/1000 [==============================] - 1s 914us/step - loss: 100.6768 - val_loss: 439.5095\n",
      "Epoch 89/100\n",
      "1000/1000 [==============================] - 1s 1ms/step - loss: 96.2472 - val_loss: 417.7536\n",
      "Epoch 90/100\n",
      "1000/1000 [==============================] - 1s 903us/step - loss: 95.7246 - val_loss: 404.4971\n",
      "Epoch 91/100\n",
      "1000/1000 [==============================] - 1s 899us/step - loss: 95.5212 - val_loss: 382.8372\n",
      "Epoch 92/100\n",
      "1000/1000 [==============================] - 1s 918us/step - loss: 92.8307 - val_loss: 368.5944\n",
      "Epoch 93/100\n",
      "1000/1000 [==============================] - 1s 913us/step - loss: 83.6725 - val_loss: 351.6952\n",
      "Epoch 94/100\n",
      "1000/1000 [==============================] - 1s 909us/step - loss: 84.0903 - val_loss: 331.5711\n",
      "Epoch 95/100\n",
      "1000/1000 [==============================] - 1s 886us/step - loss: 79.7635 - val_loss: 320.6070\n",
      "Epoch 96/100\n",
      "1000/1000 [==============================] - 1s 907us/step - loss: 74.8732 - val_loss: 328.7046\n",
      "Epoch 97/100\n",
      "1000/1000 [==============================] - 1s 884us/step - loss: 75.5791 - val_loss: 295.4852\n",
      "Epoch 98/100\n",
      "1000/1000 [==============================] - 1s 947us/step - loss: 73.3766 - val_loss: 278.8906\n",
      "Epoch 99/100\n",
      "1000/1000 [==============================] - 1s 919us/step - loss: 70.4943 - val_loss: 273.6697\n",
      "Epoch 100/100\n",
      "1000/1000 [==============================] - 1s 936us/step - loss: 67.5348 - val_loss: 257.1420\n"
     ]
    }
   ],
   "source": [
    "history = model.fit(X_train_sc,y_train,epochs=100,validation_data=(X_test_sc,y_test))"
   ]
  },
  {
   "cell_type": "code",
   "execution_count": 28,
   "metadata": {
    "colab": {
     "base_uri": "https://localhost:8080/",
     "height": 284
    },
    "colab_type": "code",
    "id": "BArpS2SSsXkd",
    "outputId": "2297b3da-dc10-4ebb-d831-24a1c1719d69"
   },
   "outputs": [
    {
     "data": {
      "text/plain": [
       "[<matplotlib.lines.Line2D at 0x7f32c1d26240>]"
      ]
     },
     "execution_count": 28,
     "metadata": {
      "tags": []
     },
     "output_type": "execute_result"
    },
    {
     "data": {
      "image/png": "[encoded data removed]",
      "text/plain": [
       "<Figure size 432x288 with 1 Axes>"
      ]
     },
     "metadata": {
      "needs_background": "light",
      "tags": []
     },
     "output_type": "display_data"
    }
   ],
   "source": [
    "tr_loss = history.history['loss']\n",
    "val_loss = history.history['val_loss']\n",
    "ep = list(range(1,101))\n",
    "plt.plot(ep,tr_loss,color='r')\n",
    "plt.plot(ep,val_loss,color='b')"
   ]
  },
  {
   "cell_type": "code",
   "execution_count": 29,
   "metadata": {
    "colab": {
     "base_uri": "https://localhost:8080/",
     "height": 1000
    },
    "colab_type": "code",
    "id": "BGRgeU5lsXc2",
    "outputId": "b1194c54-7fae-4f4a-acbc-a3c0f5b973b9"
   },
   "outputs": [
    {
     "data": {
      "text/plain": [
       "array([[225.34958],\n",
       "       [227.8175 ],\n",
       "       [230.91743],\n",
       "       [234.88144],\n",
       "       [240.19713],\n",
       "       [246.77875],\n",
       "       [252.21721],\n",
       "       [254.64658],\n",
       "       [255.73091],\n",
       "       [255.35162],\n",
       "       [254.81526],\n",
       "       [255.07777],\n",
       "       [255.63368],\n",
       "       [256.3319 ],\n",
       "       [257.5491 ],\n",
       "       [258.3182 ],\n",
       "       [257.53168],\n",
       "       [256.50092],\n",
       "       [256.36588],\n",
       "       [256.2393 ],\n",
       "       [254.23038],\n",
       "       [251.04073],\n",
       "       [247.60393],\n",
       "       [244.55913],\n",
       "       [241.25601],\n",
       "       [238.67555],\n",
       "       [236.66747],\n",
       "       [235.15784],\n",
       "       [234.24606],\n",
       "       [234.13899],\n",
       "       [234.08904],\n",
       "       [234.22667],\n",
       "       [232.76837],\n",
       "       [228.94075],\n",
       "       [224.00797],\n",
       "       [219.93465],\n",
       "       [218.7991 ],\n",
       "       [219.83955],\n",
       "       [221.2615 ],\n",
       "       [222.84795],\n",
       "       [223.82607],\n",
       "       [224.42725],\n",
       "       [225.20264],\n",
       "       [226.47508],\n",
       "       [228.01552],\n",
       "       [229.66449],\n",
       "       [231.11174],\n",
       "       [233.0721 ],\n",
       "       [234.74182],\n",
       "       [235.80719],\n",
       "       [236.34442],\n",
       "       [236.86494],\n",
       "       [237.95506],\n",
       "       [239.03514],\n",
       "       [240.17946],\n",
       "       [242.4702 ],\n",
       "       [245.55441],\n",
       "       [249.23543],\n",
       "       [251.97536],\n",
       "       [252.61208],\n",
       "       [252.4361 ],\n",
       "       [251.9552 ],\n",
       "       [252.54924],\n",
       "       [252.97542],\n",
       "       [252.84276],\n",
       "       [253.86177],\n",
       "       [254.74422],\n",
       "       [252.31532],\n",
       "       [247.41408],\n",
       "       [244.81377],\n",
       "       [245.50249],\n",
       "       [247.21844],\n",
       "       [249.55312],\n",
       "       [250.81166],\n",
       "       [251.85744],\n",
       "       [255.7306 ],\n",
       "       [259.75763],\n",
       "       [260.96674],\n",
       "       [261.29846],\n",
       "       [261.4309 ],\n",
       "       [261.46677],\n",
       "       [261.47928],\n",
       "       [261.4997 ],\n",
       "       [261.54138],\n",
       "       [261.57086],\n",
       "       [261.58572],\n",
       "       [261.58582],\n",
       "       [261.5797 ],\n",
       "       [261.57977],\n",
       "       [261.57764],\n",
       "       [261.55948],\n",
       "       [261.52087],\n",
       "       [261.5318 ],\n",
       "       [261.5772 ],\n",
       "       [261.5802 ],\n",
       "       [261.57208],\n",
       "       [261.55228],\n",
       "       [261.52585],\n",
       "       [261.5036 ],\n",
       "       [261.5131 ],\n",
       "       [261.51147],\n",
       "       [261.50107],\n",
       "       [261.4857 ],\n",
       "       [261.46997],\n",
       "       [261.48114],\n",
       "       [261.483  ],\n",
       "       [261.49347],\n",
       "       [261.4837 ],\n",
       "       [261.50522],\n",
       "       [261.53986],\n",
       "       [261.5997 ],\n",
       "       [261.63693],\n",
       "       [261.6646 ],\n",
       "       [261.6906 ],\n",
       "       [261.70813],\n",
       "       [261.72394],\n",
       "       [261.72742],\n",
       "       [261.73178],\n",
       "       [261.7392 ],\n",
       "       [261.7378 ],\n",
       "       [261.7409 ],\n",
       "       [261.7395 ],\n",
       "       [261.73547],\n",
       "       [261.72705],\n",
       "       [261.7199 ],\n",
       "       [261.7206 ],\n",
       "       [261.72076],\n",
       "       [261.71823],\n",
       "       [261.71246],\n",
       "       [261.70935],\n",
       "       [261.7126 ],\n",
       "       [261.7119 ],\n",
       "       [261.6969 ],\n",
       "       [261.66772],\n",
       "       [261.66434],\n",
       "       [261.6756 ],\n",
       "       [261.6844 ],\n",
       "       [261.67578],\n",
       "       [261.65936],\n",
       "       [261.63116],\n",
       "       [261.623  ],\n",
       "       [261.62338],\n",
       "       [261.62582],\n",
       "       [261.60022],\n",
       "       [261.58975],\n",
       "       [261.58017],\n",
       "       [261.56155],\n",
       "       [261.50232],\n",
       "       [261.203  ],\n",
       "       [259.58142],\n",
       "       [257.7182 ],\n",
       "       [256.6673 ],\n",
       "       [257.2183 ],\n",
       "       [258.14075],\n",
       "       [258.4066 ],\n",
       "       [258.4939 ],\n",
       "       [258.78006],\n",
       "       [259.8565 ],\n",
       "       [260.82474],\n",
       "       [261.19788],\n",
       "       [261.27893],\n",
       "       [261.16217],\n",
       "       [261.03412],\n",
       "       [260.88815],\n",
       "       [260.3082 ],\n",
       "       [259.64758],\n",
       "       [259.1351 ],\n",
       "       [259.38763],\n",
       "       [260.26614],\n",
       "       [260.93817],\n",
       "       [261.24872],\n",
       "       [261.3889 ],\n",
       "       [261.44556],\n",
       "       [261.467  ],\n",
       "       [261.44568],\n",
       "       [261.4494 ],\n",
       "       [261.43494],\n",
       "       [261.42407],\n",
       "       [261.42776],\n",
       "       [261.41806],\n",
       "       [261.43268],\n",
       "       [261.46463],\n",
       "       [261.4855 ],\n",
       "       [261.52475],\n",
       "       [261.56363],\n",
       "       [261.58905],\n",
       "       [261.6264 ],\n",
       "       [261.65927],\n",
       "       [261.6764 ],\n",
       "       [261.69263],\n",
       "       [261.69965],\n",
       "       [261.71017],\n",
       "       [261.71277],\n",
       "       [261.71112],\n",
       "       [261.70233],\n",
       "       [261.69104],\n",
       "       [261.66248],\n",
       "       [261.59192],\n",
       "       [261.43402],\n",
       "       [261.43066],\n",
       "       [261.4407 ],\n",
       "       [261.47903],\n",
       "       [261.47202],\n",
       "       [261.48276],\n",
       "       [261.50293],\n",
       "       [261.5658 ],\n",
       "       [261.61237],\n",
       "       [261.64905],\n",
       "       [261.67285],\n",
       "       [261.67917],\n",
       "       [261.69226],\n",
       "       [261.6965 ],\n",
       "       [261.69012],\n",
       "       [261.66263],\n",
       "       [261.6386 ],\n",
       "       [261.63632],\n",
       "       [261.64493],\n",
       "       [261.64465],\n",
       "       [261.6363 ],\n",
       "       [261.62622],\n",
       "       [261.62543],\n",
       "       [261.6432 ],\n",
       "       [261.64734],\n",
       "       [261.6416 ],\n",
       "       [261.6226 ],\n",
       "       [261.61075],\n",
       "       [261.61807],\n",
       "       [261.62482],\n",
       "       [261.6278 ],\n",
       "       [261.64233],\n",
       "       [261.64807],\n",
       "       [261.64917],\n",
       "       [261.64438],\n",
       "       [261.6416 ],\n",
       "       [261.64948],\n",
       "       [261.67896],\n",
       "       [261.70233],\n",
       "       [261.72235],\n",
       "       [261.74084],\n",
       "       [261.75198],\n",
       "       [261.76535],\n",
       "       [261.77307],\n",
       "       [261.77676],\n",
       "       [261.78006],\n",
       "       [261.78467],\n",
       "       [261.791  ],\n",
       "       [261.7934 ],\n",
       "       [261.79904],\n",
       "       [261.80347],\n",
       "       [261.8064 ],\n",
       "       [261.80847]], dtype=float32)"
      ]
     },
     "execution_count": 29,
     "metadata": {
      "tags": []
     },
     "output_type": "execute_result"
    }
   ],
   "source": [
    "model.predict(X_test_sc)"
   ]
  },
  {
   "cell_type": "code",
   "execution_count": 30,
   "metadata": {
    "colab": {
     "base_uri": "https://localhost:8080/",
     "height": 282
    },
    "colab_type": "code",
    "id": "7WP6HrhjstdT",
    "outputId": "76283dd6-56c7-4f3e-96b7-1cfe634e0f02"
   },
   "outputs": [
    {
     "data": {
      "text/plain": [
       "[<matplotlib.lines.Line2D at 0x7f32c1cb8eb8>]"
      ]
     },
     "execution_count": 30,
     "metadata": {
      "tags": []
     },
     "output_type": "execute_result"
    },
    {
     "data": {
      "image/png": "[encoded data removed]",
      "text/plain": [
       "<Figure size 432x288 with 1 Axes>"
      ]
     },
     "metadata": {
      "needs_background": "light",
      "tags": []
     },
     "output_type": "display_data"
    }
   ],
   "source": [
    "plt.plot(range(len(X_test_sc)),model.predict(X_test_sc).flat)\n",
    "plt.plot(range(len(X_test_sc)),y_test)"
   ]
  },
  {
   "cell_type": "code",
   "execution_count": 31,
   "metadata": {
    "colab": {
     "base_uri": "https://localhost:8080/",
     "height": 136
    },
    "colab_type": "code",
    "id": "U5WL39kssuIm",
    "outputId": "5c26ea6f-e5c0-418f-ef22-c674ac478ee2"
   },
   "outputs": [
    {
     "data": {
      "text/plain": [
       "array([[[0.33250006],\n",
       "        [0.32609397],\n",
       "        [0.40247429],\n",
       "        [0.45065217],\n",
       "        [0.52973531],\n",
       "        [0.66566974],\n",
       "        [1.01958876]]])"
      ]
     },
     "execution_count": 31,
     "metadata": {
      "tags": []
     },
     "output_type": "execute_result"
    }
   ],
   "source": [
    "X_test_sc[0].reshape(1,7,1)"
   ]
  },
  {
   "cell_type": "code",
   "execution_count": 32,
   "metadata": {
    "colab": {
     "base_uri": "https://localhost:8080/",
     "height": 34
    },
    "colab_type": "code",
    "id": "77Lt0Yk5s1Xp",
    "outputId": "fb4535fb-7840-4e0d-b2b8-e7c35f480c4d"
   },
   "outputs": [
    {
     "data": {
      "text/plain": [
       "array([[225.3495]], dtype=float32)"
      ]
     },
     "execution_count": 32,
     "metadata": {
      "tags": []
     },
     "output_type": "execute_result"
    }
   ],
   "source": [
    "model.predict(X_test_sc[0].reshape(1,7,1))"
   ]
  },
  {
   "cell_type": "code",
   "execution_count": 33,
   "metadata": {
    "colab": {
     "base_uri": "https://localhost:8080/",
     "height": 34
    },
    "colab_type": "code",
    "id": "DHaTRZ7Ds1ga",
    "outputId": "5f8bde14-24b9-4097-cc13-74fa5991b823"
   },
   "outputs": [
    {
     "data": {
      "text/plain": [
       "247.43"
      ]
     },
     "execution_count": 33,
     "metadata": {
      "tags": []
     },
     "output_type": "execute_result"
    }
   ],
   "source": [
    "y_test[1000]"
   ]
  },
  {
   "cell_type": "markdown",
   "metadata": {
    "colab_type": "text",
    "id": "lrlXwR3Zs-HU"
   },
   "source": [
    "### **Create a Model**"
   ]
  },
  {
   "cell_type": "code",
   "execution_count": 34,
   "metadata": {
    "colab": {
     "base_uri": "https://localhost:8080/",
     "height": 255
    },
    "colab_type": "code",
    "id": "8zdE3jVis1a4",
    "outputId": "abd2af0b-1159-4005-b64d-a2b58d53bb27"
   },
   "outputs": [
    {
     "name": "stdout",
     "output_type": "stream",
     "text": [
      "Model: \"sequential_2\"\n",
      "_________________________________________________________________\n",
      "Layer (type)                 Output Shape              Param #   \n",
      "=================================================================\n",
      "lstm_2 (LSTM)                (None, 256)               264192    \n",
      "_________________________________________________________________\n",
      "dropout_1 (Dropout)          (None, 256)               0         \n",
      "_________________________________________________________________\n",
      "dense_2 (Dense)              (None, 1)                 257       \n",
      "=================================================================\n",
      "Total params: 264,449\n",
      "Trainable params: 264,449\n",
      "Non-trainable params: 0\n",
      "_________________________________________________________________\n"
     ]
    }
   ],
   "source": [
    "from keras.models import Sequential\n",
    "from keras.layers import Dense,Dropout,LSTM\n",
    "model2 = Sequential()\n",
    "# 256 cels\n",
    "model2.add(LSTM(256,input_shape=(7,1)))\n",
    "model2.add(Dropout(0.3))\n",
    "# single neuron\n",
    "model2.add(Dense(1))\n",
    "model2.summary()"
   ]
  },
  {
   "cell_type": "markdown",
   "metadata": {
    "colab_type": "text",
    "id": "_y5xTeTXtMuG"
   },
   "source": [
    "### **Compile the model with the proper optimizer and loss**\n"
   ]
  },
  {
   "cell_type": "code",
   "execution_count": 35,
   "metadata": {
    "colab": {},
    "colab_type": "code",
    "id": "M6e27dJcs1UX"
   },
   "outputs": [],
   "source": [
    "model2.compile(optimizer='adam',loss='mse')"
   ]
  },
  {
   "cell_type": "code",
   "execution_count": 36,
   "metadata": {
    "colab": {
     "base_uri": "https://localhost:8080/",
     "height": 1000
    },
    "colab_type": "code",
    "id": "yty0W4sCtSjN",
    "outputId": "c6af9c8b-55e8-4c40-8b08-9e12cc14dadd"
   },
   "outputs": [
    {
     "name": "stdout",
     "output_type": "stream",
     "text": [
      "Train on 1000 samples, validate on 251 samples\n",
      "Epoch 1/100\n",
      "1000/1000 [==============================] - 1s 1ms/step - loss: 40741.1283 - val_loss: 58385.6563\n",
      "Epoch 2/100\n",
      "1000/1000 [==============================] - 1s 932us/step - loss: 32305.9732 - val_loss: 53511.0575\n",
      "Epoch 3/100\n",
      "1000/1000 [==============================] - 1s 898us/step - loss: 28954.8520 - val_loss: 49453.7231\n",
      "Epoch 4/100\n",
      "1000/1000 [==============================] - 1s 920us/step - loss: 26183.6119 - val_loss: 45892.3310\n",
      "Epoch 5/100\n",
      "1000/1000 [==============================] - 1s 944us/step - loss: 23753.9152 - val_loss: 42661.3173\n",
      "Epoch 6/100\n",
      "1000/1000 [==============================] - 1s 967us/step - loss: 21625.5608 - val_loss: 39688.4706\n",
      "Epoch 7/100\n",
      "1000/1000 [==============================] - 1s 918us/step - loss: 19572.0019 - val_loss: 36891.9311\n",
      "Epoch 8/100\n",
      "1000/1000 [==============================] - 1s 919us/step - loss: 17782.0843 - val_loss: 34270.1912\n",
      "Epoch 9/100\n",
      "1000/1000 [==============================] - 1s 898us/step - loss: 16058.7257 - val_loss: 31875.3474\n",
      "Epoch 10/100\n",
      "1000/1000 [==============================] - 1s 907us/step - loss: 14534.8814 - val_loss: 29646.8703\n",
      "Epoch 11/100\n",
      "1000/1000 [==============================] - 1s 905us/step - loss: 13194.0028 - val_loss: 27525.3956\n",
      "Epoch 12/100\n",
      "1000/1000 [==============================] - 1s 908us/step - loss: 11874.8284 - val_loss: 25565.3544\n",
      "Epoch 13/100\n",
      "1000/1000 [==============================] - 1s 943us/step - loss: 10700.4644 - val_loss: 23734.7547\n",
      "Epoch 14/100\n",
      "1000/1000 [==============================] - 1s 926us/step - loss: 9669.8786 - val_loss: 22048.4644\n",
      "Epoch 15/100\n",
      "1000/1000 [==============================] - 1s 916us/step - loss: 8707.8543 - val_loss: 20476.3321\n",
      "Epoch 16/100\n",
      "1000/1000 [==============================] - 1s 899us/step - loss: 7886.2618 - val_loss: 19036.0410\n",
      "Epoch 17/100\n",
      "1000/1000 [==============================] - 1s 935us/step - loss: 7097.0748 - val_loss: 17720.7613\n",
      "Epoch 18/100\n",
      "1000/1000 [==============================] - 1s 916us/step - loss: 6431.3541 - val_loss: 16522.5672\n",
      "Epoch 19/100\n",
      "1000/1000 [==============================] - 1s 945us/step - loss: 5811.9485 - val_loss: 15396.5545\n",
      "Epoch 20/100\n",
      "1000/1000 [==============================] - 1s 901us/step - loss: 5285.5435 - val_loss: 14359.3913\n",
      "Epoch 21/100\n",
      "1000/1000 [==============================] - 1s 944us/step - loss: 4839.9507 - val_loss: 13403.9380\n",
      "Epoch 22/100\n",
      "1000/1000 [==============================] - 1s 943us/step - loss: 4402.6159 - val_loss: 12537.4029\n",
      "Epoch 23/100\n",
      "1000/1000 [==============================] - 1s 900us/step - loss: 4008.7754 - val_loss: 11758.9186\n",
      "Epoch 24/100\n",
      "1000/1000 [==============================] - 1s 905us/step - loss: 3753.7697 - val_loss: 11019.2846\n",
      "Epoch 25/100\n",
      "1000/1000 [==============================] - 1s 910us/step - loss: 3450.0516 - val_loss: 10351.4993\n",
      "Epoch 26/100\n",
      "1000/1000 [==============================] - 1s 919us/step - loss: 3154.7650 - val_loss: 9729.5208\n",
      "Epoch 27/100\n",
      "1000/1000 [==============================] - 1s 970us/step - loss: 2960.7554 - val_loss: 9190.7991\n",
      "Epoch 28/100\n",
      "1000/1000 [==============================] - 1s 958us/step - loss: 2792.4804 - val_loss: 8683.2193\n",
      "Epoch 29/100\n",
      "1000/1000 [==============================] - 1s 949us/step - loss: 2649.4732 - val_loss: 8215.7872\n",
      "Epoch 30/100\n",
      "1000/1000 [==============================] - 1s 927us/step - loss: 2480.5920 - val_loss: 7803.8562\n",
      "Epoch 31/100\n",
      "1000/1000 [==============================] - 1s 916us/step - loss: 2412.5384 - val_loss: 7415.3667\n",
      "Epoch 32/100\n",
      "1000/1000 [==============================] - 1s 907us/step - loss: 2295.2594 - val_loss: 7065.3996\n",
      "Epoch 33/100\n",
      "1000/1000 [==============================] - 1s 905us/step - loss: 2194.6443 - val_loss: 6766.3128\n",
      "Epoch 34/100\n",
      "1000/1000 [==============================] - 1s 951us/step - loss: 2126.6664 - val_loss: 6481.0610\n",
      "Epoch 35/100\n",
      "1000/1000 [==============================] - 1s 903us/step - loss: 2124.2390 - val_loss: 6224.8282\n",
      "Epoch 36/100\n",
      "1000/1000 [==============================] - 1s 916us/step - loss: 2015.6008 - val_loss: 5995.6492\n",
      "Epoch 37/100\n",
      "1000/1000 [==============================] - 1s 897us/step - loss: 1978.3611 - val_loss: 5794.2376\n",
      "Epoch 38/100\n",
      "1000/1000 [==============================] - 1s 901us/step - loss: 1950.3395 - val_loss: 5602.1204\n",
      "Epoch 39/100\n",
      "1000/1000 [==============================] - 1s 903us/step - loss: 1936.4148 - val_loss: 5453.7255\n",
      "Epoch 40/100\n",
      "1000/1000 [==============================] - 1s 945us/step - loss: 1918.4364 - val_loss: 5311.0454\n",
      "Epoch 41/100\n",
      "1000/1000 [==============================] - 1s 934us/step - loss: 1851.5025 - val_loss: 5165.0290\n",
      "Epoch 42/100\n",
      "1000/1000 [==============================] - 1s 913us/step - loss: 1831.4669 - val_loss: 5079.4144\n",
      "Epoch 43/100\n",
      "1000/1000 [==============================] - 1s 932us/step - loss: 1601.8636 - val_loss: 4873.6038\n",
      "Epoch 44/100\n",
      "1000/1000 [==============================] - 1s 911us/step - loss: 1133.1103 - val_loss: 4478.1309\n",
      "Epoch 45/100\n",
      "1000/1000 [==============================] - 1s 904us/step - loss: 1037.1256 - val_loss: 4128.8813\n",
      "Epoch 46/100\n",
      "1000/1000 [==============================] - 1s 903us/step - loss: 947.7545 - val_loss: 3825.6558\n",
      "Epoch 47/100\n",
      "1000/1000 [==============================] - 1s 903us/step - loss: 841.3859 - val_loss: 3556.0973\n",
      "Epoch 48/100\n",
      "1000/1000 [==============================] - 1s 929us/step - loss: 787.0824 - val_loss: 3306.1303\n",
      "Epoch 49/100\n",
      "1000/1000 [==============================] - 1s 923us/step - loss: 751.3492 - val_loss: 3066.9817\n",
      "Epoch 50/100\n",
      "1000/1000 [==============================] - 1s 913us/step - loss: 679.9365 - val_loss: 2854.8913\n",
      "Epoch 51/100\n",
      "1000/1000 [==============================] - 1s 917us/step - loss: 681.9925 - val_loss: 2677.7594\n",
      "Epoch 52/100\n",
      "1000/1000 [==============================] - 1s 906us/step - loss: 608.4263 - val_loss: 2503.5214\n",
      "Epoch 53/100\n",
      "1000/1000 [==============================] - 1s 898us/step - loss: 558.0391 - val_loss: 2356.9204\n",
      "Epoch 54/100\n",
      "1000/1000 [==============================] - 1s 925us/step - loss: 519.4186 - val_loss: 2226.8263\n",
      "Epoch 55/100\n",
      "1000/1000 [==============================] - 1s 939us/step - loss: 523.6633 - val_loss: 2104.9698\n",
      "Epoch 56/100\n",
      "1000/1000 [==============================] - 1s 943us/step - loss: 473.3042 - val_loss: 1996.1706\n",
      "Epoch 57/100\n",
      "1000/1000 [==============================] - 1s 938us/step - loss: 466.2845 - val_loss: 1889.3299\n",
      "Epoch 58/100\n",
      "1000/1000 [==============================] - 1s 886us/step - loss: 428.3763 - val_loss: 1810.4986\n",
      "Epoch 59/100\n",
      "1000/1000 [==============================] - 1s 947us/step - loss: 420.3620 - val_loss: 1710.7501\n",
      "Epoch 60/100\n",
      "1000/1000 [==============================] - 1s 952us/step - loss: 424.7231 - val_loss: 1669.0126\n",
      "Epoch 61/100\n",
      "1000/1000 [==============================] - 1s 923us/step - loss: 405.0459 - val_loss: 1549.3833\n",
      "Epoch 62/100\n",
      "1000/1000 [==============================] - 1s 949us/step - loss: 365.6671 - val_loss: 1513.8181\n",
      "Epoch 63/100\n",
      "1000/1000 [==============================] - 1s 971us/step - loss: 365.5553 - val_loss: 1442.0713\n",
      "Epoch 64/100\n",
      "1000/1000 [==============================] - 1s 930us/step - loss: 358.7808 - val_loss: 1333.3319\n",
      "Epoch 65/100\n",
      "1000/1000 [==============================] - 1s 923us/step - loss: 326.2736 - val_loss: 1266.6080\n",
      "Epoch 66/100\n",
      "1000/1000 [==============================] - 1s 951us/step - loss: 320.1708 - val_loss: 1200.8881\n",
      "Epoch 67/100\n",
      "1000/1000 [==============================] - 1s 912us/step - loss: 319.0946 - val_loss: 1138.9312\n",
      "Epoch 68/100\n",
      "1000/1000 [==============================] - 1s 913us/step - loss: 311.0307 - val_loss: 1077.0449\n",
      "Epoch 69/100\n",
      "1000/1000 [==============================] - 1s 903us/step - loss: 297.4943 - val_loss: 1017.0587\n",
      "Epoch 70/100\n",
      "1000/1000 [==============================] - 1s 910us/step - loss: 300.1231 - val_loss: 963.0697\n",
      "Epoch 71/100\n",
      "1000/1000 [==============================] - 1s 924us/step - loss: 277.6551 - val_loss: 904.7110\n",
      "Epoch 72/100\n",
      "1000/1000 [==============================] - 1s 909us/step - loss: 265.0994 - val_loss: 875.8627\n",
      "Epoch 73/100\n",
      "1000/1000 [==============================] - 1s 912us/step - loss: 273.5535 - val_loss: 830.8313\n",
      "Epoch 74/100\n",
      "1000/1000 [==============================] - 1s 959us/step - loss: 257.1944 - val_loss: 778.7930\n",
      "Epoch 75/100\n",
      "1000/1000 [==============================] - 1s 915us/step - loss: 245.2351 - val_loss: 731.6945\n",
      "Epoch 76/100\n",
      "1000/1000 [==============================] - 1s 911us/step - loss: 237.0805 - val_loss: 716.2689\n",
      "Epoch 77/100\n",
      "1000/1000 [==============================] - 1s 901us/step - loss: 244.3906 - val_loss: 665.7098\n",
      "Epoch 78/100\n",
      "1000/1000 [==============================] - 1s 922us/step - loss: 233.8299 - val_loss: 634.5220\n",
      "Epoch 79/100\n",
      "1000/1000 [==============================] - 1s 902us/step - loss: 216.8541 - val_loss: 611.2978\n",
      "Epoch 80/100\n",
      "1000/1000 [==============================] - 1s 929us/step - loss: 222.8665 - val_loss: 586.2414\n",
      "Epoch 81/100\n",
      "1000/1000 [==============================] - 1s 902us/step - loss: 222.4419 - val_loss: 551.6524\n",
      "Epoch 82/100\n",
      "1000/1000 [==============================] - 1s 909us/step - loss: 211.8887 - val_loss: 545.9856\n",
      "Epoch 83/100\n",
      "1000/1000 [==============================] - 1s 898us/step - loss: 214.3199 - val_loss: 505.1108\n",
      "Epoch 84/100\n",
      "1000/1000 [==============================] - 1s 910us/step - loss: 192.6191 - val_loss: 505.0778\n",
      "Epoch 85/100\n",
      "1000/1000 [==============================] - 1s 936us/step - loss: 198.2323 - val_loss: 470.9750\n",
      "Epoch 86/100\n",
      "1000/1000 [==============================] - 1s 905us/step - loss: 192.8657 - val_loss: 444.6794\n",
      "Epoch 87/100\n",
      "1000/1000 [==============================] - 1s 930us/step - loss: 196.8009 - val_loss: 429.5153\n",
      "Epoch 88/100\n",
      "1000/1000 [==============================] - 1s 960us/step - loss: 194.3885 - val_loss: 473.8956\n",
      "Epoch 89/100\n",
      "1000/1000 [==============================] - 1s 932us/step - loss: 188.5851 - val_loss: 390.7290\n",
      "Epoch 90/100\n",
      "1000/1000 [==============================] - 1s 925us/step - loss: 177.4306 - val_loss: 379.8110\n",
      "Epoch 91/100\n",
      "1000/1000 [==============================] - 1s 892us/step - loss: 178.8787 - val_loss: 370.0230\n",
      "Epoch 92/100\n",
      "1000/1000 [==============================] - 1s 923us/step - loss: 193.7935 - val_loss: 345.5919\n",
      "Epoch 93/100\n",
      "1000/1000 [==============================] - 1s 907us/step - loss: 171.0033 - val_loss: 333.5729\n",
      "Epoch 94/100\n",
      "1000/1000 [==============================] - 1s 917us/step - loss: 173.8679 - val_loss: 324.1426\n",
      "Epoch 95/100\n",
      "1000/1000 [==============================] - 1s 909us/step - loss: 165.0953 - val_loss: 363.5378\n",
      "Epoch 96/100\n",
      "1000/1000 [==============================] - 1s 939us/step - loss: 169.3756 - val_loss: 305.1476\n",
      "Epoch 97/100\n",
      "1000/1000 [==============================] - 1s 943us/step - loss: 165.4285 - val_loss: 289.3941\n",
      "Epoch 98/100\n",
      "1000/1000 [==============================] - 1s 955us/step - loss: 161.8042 - val_loss: 282.1266\n",
      "Epoch 99/100\n",
      "1000/1000 [==============================] - 1s 944us/step - loss: 173.0224 - val_loss: 276.0356\n",
      "Epoch 100/100\n",
      "1000/1000 [==============================] - 1s 1ms/step - loss: 163.0935 - val_loss: 265.5887\n"
     ]
    }
   ],
   "source": [
    "history2 = model2.fit(X_train_sc,y_train,epochs=100,validation_data=(X_test_sc,y_test))"
   ]
  },
  {
   "cell_type": "code",
   "execution_count": 37,
   "metadata": {
    "colab": {
     "base_uri": "https://localhost:8080/",
     "height": 282
    },
    "colab_type": "code",
    "id": "rdLNPy_mtSqP",
    "outputId": "28b42343-f427-4b59-d7b9-a534dc087a47"
   },
   "outputs": [
    {
     "data": {
      "text/plain": [
       "[<matplotlib.lines.Line2D at 0x7f32c1964a58>]"
      ]
     },
     "execution_count": 37,
     "metadata": {
      "tags": []
     },
     "output_type": "execute_result"
    },
    {
     "data": {
      "image/png": "[encoded data removed]",
      "text/plain": [
       "<Figure size 432x288 with 1 Axes>"
      ]
     },
     "metadata": {
      "needs_background": "light",
      "tags": []
     },
     "output_type": "display_data"
    }
   ],
   "source": [
    "tr_loss = history2.history['loss']\n",
    "val_loss = history2.history['val_loss']\n",
    "ep = list(range(1,101))\n",
    "plt.plot(ep,tr_loss,color='r')\n",
    "plt.plot(ep,val_loss,color='b')"
   ]
  },
  {
   "cell_type": "markdown",
   "metadata": {
    "colab_type": "text",
    "id": "rRcGKS_3ua3E"
   },
   "source": [
    "### **Evaluate the model with test data**"
   ]
  },
  {
   "cell_type": "code",
   "execution_count": 38,
   "metadata": {
    "colab": {
     "base_uri": "https://localhost:8080/",
     "height": 1000
    },
    "colab_type": "code",
    "id": "mzcOjGVdtSfA",
    "outputId": "a8f55d9a-4995-4e18-abe9-1297ff939639"
   },
   "outputs": [
    {
     "data": {
      "text/plain": [
       "array([[219.8367 ],\n",
       "       [221.6824 ],\n",
       "       [224.40344],\n",
       "       [227.90692],\n",
       "       [233.61778],\n",
       "       [241.45892],\n",
       "       [249.43533],\n",
       "       [252.20538],\n",
       "       [254.11938],\n",
       "       [254.10529],\n",
       "       [253.29767],\n",
       "       [253.13464],\n",
       "       [253.74316],\n",
       "       [254.21317],\n",
       "       [255.08939],\n",
       "       [256.80374],\n",
       "       [256.2155 ],\n",
       "       [254.92218],\n",
       "       [254.33386],\n",
       "       [254.90073],\n",
       "       [253.80563],\n",
       "       [251.15637],\n",
       "       [247.80936],\n",
       "       [245.67053],\n",
       "       [242.20822],\n",
       "       [239.16733],\n",
       "       [236.91803],\n",
       "       [234.40135],\n",
       "       [231.78003],\n",
       "       [231.84796],\n",
       "       [231.61293],\n",
       "       [233.17355],\n",
       "       [234.27101],\n",
       "       [231.63214],\n",
       "       [225.60435],\n",
       "       [218.46335],\n",
       "       [214.3163 ],\n",
       "       [213.99974],\n",
       "       [215.79929],\n",
       "       [218.4397 ],\n",
       "       [219.9602 ],\n",
       "       [220.7248 ],\n",
       "       [221.15356],\n",
       "       [221.91614],\n",
       "       [223.31274],\n",
       "       [225.37799],\n",
       "       [226.81805],\n",
       "       [229.03052],\n",
       "       [231.49255],\n",
       "       [233.6377 ],\n",
       "       [234.43365],\n",
       "       [234.57285],\n",
       "       [235.57452],\n",
       "       [237.02966],\n",
       "       [237.26286],\n",
       "       [239.24455],\n",
       "       [242.21678],\n",
       "       [246.05249],\n",
       "       [250.16348],\n",
       "       [250.98843],\n",
       "       [251.46149],\n",
       "       [250.62161],\n",
       "       [250.44794],\n",
       "       [251.51001],\n",
       "       [251.13475],\n",
       "       [251.44075],\n",
       "       [253.50308],\n",
       "       [253.13525],\n",
       "       [248.29828],\n",
       "       [243.3076 ],\n",
       "       [244.04205],\n",
       "       [244.85733],\n",
       "       [247.40097],\n",
       "       [249.4563 ],\n",
       "       [249.17474],\n",
       "       [251.26035],\n",
       "       [256.91638],\n",
       "       [260.70377],\n",
       "       [261.37204],\n",
       "       [261.58316],\n",
       "       [261.63382],\n",
       "       [261.64243],\n",
       "       [261.64795],\n",
       "       [261.69235],\n",
       "       [261.72305],\n",
       "       [261.7404 ],\n",
       "       [261.7414 ],\n",
       "       [261.7346 ],\n",
       "       [261.73453],\n",
       "       [261.7407 ],\n",
       "       [261.733  ],\n",
       "       [261.68015],\n",
       "       [261.6704 ],\n",
       "       [261.73032],\n",
       "       [261.737  ],\n",
       "       [261.73257],\n",
       "       [261.71912],\n",
       "       [261.69257],\n",
       "       [261.66043],\n",
       "       [261.6736 ],\n",
       "       [261.67435],\n",
       "       [261.6696 ],\n",
       "       [261.65262],\n",
       "       [261.63028],\n",
       "       [261.64206],\n",
       "       [261.64606],\n",
       "       [261.6634 ],\n",
       "       [261.65103],\n",
       "       [261.66873],\n",
       "       [261.6837 ],\n",
       "       [261.74973],\n",
       "       [261.7838 ],\n",
       "       [261.80826],\n",
       "       [261.8296 ],\n",
       "       [261.84573],\n",
       "       [261.8591 ],\n",
       "       [261.86072],\n",
       "       [261.86395],\n",
       "       [261.8684 ],\n",
       "       [261.867  ],\n",
       "       [261.8693 ],\n",
       "       [261.8691 ],\n",
       "       [261.8668 ],\n",
       "       [261.86014],\n",
       "       [261.85452],\n",
       "       [261.85577],\n",
       "       [261.85672],\n",
       "       [261.8536 ],\n",
       "       [261.84708],\n",
       "       [261.8433 ],\n",
       "       [261.8481 ],\n",
       "       [261.8511 ],\n",
       "       [261.84155],\n",
       "       [261.8135 ],\n",
       "       [261.80545],\n",
       "       [261.81592],\n",
       "       [261.82657],\n",
       "       [261.82205],\n",
       "       [261.8099 ],\n",
       "       [261.78317],\n",
       "       [261.77298],\n",
       "       [261.77692],\n",
       "       [261.7827 ],\n",
       "       [261.75305],\n",
       "       [261.73843],\n",
       "       [261.7261 ],\n",
       "       [261.7191 ],\n",
       "       [261.70056],\n",
       "       [261.52222],\n",
       "       [259.42288],\n",
       "       [256.6122 ],\n",
       "       [254.90347],\n",
       "       [254.88828],\n",
       "       [256.3091 ],\n",
       "       [256.7916 ],\n",
       "       [256.98013],\n",
       "       [256.80692],\n",
       "       [257.82376],\n",
       "       [260.24228],\n",
       "       [261.2476 ],\n",
       "       [261.47168],\n",
       "       [261.3395 ],\n",
       "       [261.15884],\n",
       "       [261.1354 ],\n",
       "       [260.2883 ],\n",
       "       [259.0439 ],\n",
       "       [257.8825 ],\n",
       "       [257.6482 ],\n",
       "       [258.93338],\n",
       "       [260.7136 ],\n",
       "       [261.32455],\n",
       "       [261.52158],\n",
       "       [261.60034],\n",
       "       [261.63663],\n",
       "       [261.60556],\n",
       "       [261.6191 ],\n",
       "       [261.60245],\n",
       "       [261.5874 ],\n",
       "       [261.6014 ],\n",
       "       [261.58157],\n",
       "       [261.5895 ],\n",
       "       [261.63046],\n",
       "       [261.64053],\n",
       "       [261.67966],\n",
       "       [261.72147],\n",
       "       [261.73636],\n",
       "       [261.7725 ],\n",
       "       [261.80417],\n",
       "       [261.81998],\n",
       "       [261.8342 ],\n",
       "       [261.8383 ],\n",
       "       [261.8471 ],\n",
       "       [261.8454 ],\n",
       "       [261.8439 ],\n",
       "       [261.83606],\n",
       "       [261.83157],\n",
       "       [261.8176 ],\n",
       "       [261.76828],\n",
       "       [261.60547],\n",
       "       [261.59177],\n",
       "       [261.5897 ],\n",
       "       [261.6472 ],\n",
       "       [261.64328],\n",
       "       [261.6523 ],\n",
       "       [261.65024],\n",
       "       [261.71588],\n",
       "       [261.7569 ],\n",
       "       [261.79465],\n",
       "       [261.81512],\n",
       "       [261.81747],\n",
       "       [261.82968],\n",
       "       [261.8369 ],\n",
       "       [261.8348 ],\n",
       "       [261.81305],\n",
       "       [261.7875 ],\n",
       "       [261.7834 ],\n",
       "       [261.79422],\n",
       "       [261.79666],\n",
       "       [261.7909 ],\n",
       "       [261.77728],\n",
       "       [261.77066],\n",
       "       [261.78934],\n",
       "       [261.79642],\n",
       "       [261.79572],\n",
       "       [261.77826],\n",
       "       [261.7638 ],\n",
       "       [261.7717 ],\n",
       "       [261.7759 ],\n",
       "       [261.77457],\n",
       "       [261.78915],\n",
       "       [261.7967 ],\n",
       "       [261.80002],\n",
       "       [261.79916],\n",
       "       [261.794  ],\n",
       "       [261.7965 ],\n",
       "       [261.82352],\n",
       "       [261.842  ],\n",
       "       [261.85843],\n",
       "       [261.87137],\n",
       "       [261.87958],\n",
       "       [261.8881 ],\n",
       "       [261.8936 ],\n",
       "       [261.89642],\n",
       "       [261.8987 ],\n",
       "       [261.90225],\n",
       "       [261.90634],\n",
       "       [261.907  ],\n",
       "       [261.9088 ],\n",
       "       [261.90936],\n",
       "       [261.9067 ],\n",
       "       [261.9041 ]], dtype=float32)"
      ]
     },
     "execution_count": 38,
     "metadata": {
      "tags": []
     },
     "output_type": "execute_result"
    }
   ],
   "source": [
    "model2.predict(X_test_sc)"
   ]
  },
  {
   "cell_type": "code",
   "execution_count": 39,
   "metadata": {
    "colab": {
     "base_uri": "https://localhost:8080/",
     "height": 282
    },
    "colab_type": "code",
    "id": "-9KxR8rvteWx",
    "outputId": "2b76ea51-fc41-4d2e-bf4a-48320384f742"
   },
   "outputs": [
    {
     "data": {
      "text/plain": [
       "[<matplotlib.lines.Line2D at 0x7f32c1907b70>]"
      ]
     },
     "execution_count": 39,
     "metadata": {
      "tags": []
     },
     "output_type": "execute_result"
    },
    {
     "data": {
      "image/png": "[encoded data removed]",
      "text/plain": [
       "<Figure size 432x288 with 1 Axes>"
      ]
     },
     "metadata": {
      "needs_background": "light",
      "tags": []
     },
     "output_type": "display_data"
    }
   ],
   "source": [
    "plt.plot(range(len(X_test_sc)),model.predict(X_test_sc).flat)\n",
    "plt.plot(range(len(X_test_sc)),y_test)"
   ]
  }
 ],
 "metadata": {
  "colab": {
   "name": "16.07.2020 assgn.ipynb",
   "provenance": []
  },
  "kernelspec": {
   "display_name": "Python 3",
   "language": "python",
   "name": "python3"
  },
  "language_info": {
   "codemirror_mode": {
    "name": "ipython",
    "version": 3
   },
   "file_extension": ".py",
   "mimetype": "text/x-python",
   "name": "python",
   "nbconvert_exporter": "python",
   "pygments_lexer": "ipython3",
   "version": "3.7.6"
  }
 },
 "nbformat": 4,
 "nbformat_minor": 1
}
