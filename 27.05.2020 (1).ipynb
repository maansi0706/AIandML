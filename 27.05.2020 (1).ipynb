{
 "cells": [
  {
   "cell_type": "markdown",
   "metadata": {},
   "source": [
    "### Generate the following code"
   ]
  },
  {
   "cell_type": "code",
   "execution_count": 1,
   "metadata": {},
   "outputs": [
    {
     "name": "stdout",
     "output_type": "stream",
     "text": [
      "* \n",
      "* * \n",
      "* * * \n",
      "* * * * \n",
      "* * * * * \n"
     ]
    }
   ],
   "source": [
    "k=1\n",
    "for i in range(0,5):\n",
    "    for j in range (0,k):\n",
    "        print(\"*\",end=\" \")\n",
    "    k=k+1\n",
    "    print()"
   ]
  },
  {
   "cell_type": "markdown",
   "metadata": {},
   "source": [
    "### Display multiplication table of K. Take K value from user"
   ]
  },
  {
   "cell_type": "code",
   "execution_count": 2,
   "metadata": {},
   "outputs": [
    {
     "name": "stdout",
     "output_type": "stream",
     "text": [
      "Enter 'x' for exit.\n",
      "Enter a number: 6\n",
      "6 * 1 = 6\n",
      "6 * 2 = 12\n",
      "6 * 3 = 18\n",
      "6 * 4 = 24\n",
      "6 * 5 = 30\n",
      "6 * 6 = 36\n",
      "6 * 7 = 42\n",
      "6 * 8 = 48\n",
      "6 * 9 = 54\n",
      "6 * 10 = 60\n"
     ]
    }
   ],
   "source": [
    "print(\"Enter 'x' for exit.\");\n",
    "num = input(\"Enter a number: \");\n",
    "if num == 'x':\n",
    "    exit();\n",
    "else:\n",
    "    number = int(num);\n",
    "    for i in range(1, 11):\n",
    "        print(number, \"*\", i, \"=\", number*i);"
   ]
  },
  {
   "cell_type": "markdown",
   "metadata": {},
   "source": [
    "### Roots of quadratic equation. Take the coefficients a,b,c from the user"
   ]
  },
  {
   "cell_type": "code",
   "execution_count": 3,
   "metadata": {},
   "outputs": [
    {
     "name": "stdout",
     "output_type": "stream",
     "text": [
      "Enter 'x' for exit.\n",
      "Enter value of a: 5\n",
      "Enter value of b: 6\n",
      "Enter value of c: 7\n",
      "The solutions = (-0.6-1.0198039027185568j) and (-0.6+1.0198039027185568j)\n"
     ]
    }
   ],
   "source": [
    "import cmath;\n",
    "print(\"Enter 'x' for exit.\");\n",
    "num1 = input(\"Enter value of a: \");\n",
    "if num1 == 'x':\n",
    "    exit();\n",
    "else:\n",
    "    num2 = input(\"Enter value of b: \");\n",
    "    num3 = input(\"Enter value of c: \");\n",
    "    number1 = float(num1);\n",
    "    number2 = float(num2);\n",
    "    number3 = float(num3);\n",
    "    d = (number2**2) - (4*number1*number3);\n",
    "    r1 = (-number2-cmath.sqrt(d))/(2*number1);\n",
    "    r2 = (-number2+cmath.sqrt(d))/(2*number1);\n",
    "    print(\"The solutions = {0} and {1}\" .format(r1,r2));"
   ]
  },
  {
   "cell_type": "markdown",
   "metadata": {},
   "source": [
    "### Convert a decimal number to binary"
   ]
  },
  {
   "cell_type": "code",
   "execution_count": 4,
   "metadata": {},
   "outputs": [
    {
     "name": "stdout",
     "output_type": "stream",
     "text": [
      "4\n",
      "The equivalent binary number is 100\n"
     ]
    }
   ],
   "source": [
    "def dtob(n):\n",
    "    x=bin(n)\n",
    "    x=x[2:]\n",
    "    print(\"The equivalent binary number is\",x)\n",
    "y=int(input())\n",
    "dtob(y)"
   ]
  },
  {
   "cell_type": "markdown",
   "metadata": {},
   "source": [
    "### Generate first N number of fibonacci numbers. Take N value from the user"
   ]
  },
  {
   "cell_type": "code",
   "execution_count": 5,
   "metadata": {},
   "outputs": [
    {
     "name": "stdout",
     "output_type": "stream",
     "text": [
      "How many terms you want? 5\n",
      "Fibonacci sequence:\n",
      "0 , 1, 1 , 2 , 3 , "
     ]
    }
   ],
   "source": [
    "nterms = int(input(\"How many terms you want? \"))    \n",
    "n1 = 0  \n",
    "n2 = 1  \n",
    "count = 2  \n",
    "if nterms <= 0:  \n",
    "   print(\"Plese enter a positive integer\")  \n",
    "elif nterms == 1:  \n",
    "   print(\"Fibonacci sequence:\")  \n",
    "   print(n1)  \n",
    "else:  \n",
    "   print(\"Fibonacci sequence:\")  \n",
    "   print(n1,\",\",n2,end=', ')  \n",
    "   while count < nterms:  \n",
    "       nth = n1 + n2  \n",
    "       print(nth,end=' , ')  \n",
    "       n1 = n2  \n",
    "       n2 = nth  \n",
    "       count += 1"
   ]
  },
  {
   "cell_type": "code",
   "execution_count": null,
   "metadata": {},
   "outputs": [],
   "source": []
  }
 ],
 "metadata": {
  "kernelspec": {
   "display_name": "Python 3",
   "language": "python",
   "name": "python3"
  },
  "language_info": {
   "codemirror_mode": {
    "name": "ipython",
    "version": 3
   },
   "file_extension": ".py",
   "mimetype": "text/x-python",
   "name": "python",
   "nbconvert_exporter": "python",
   "pygments_lexer": "ipython3",
   "version": "3.7.6"
  }
 },
 "nbformat": 4,
 "nbformat_minor": 4
}
