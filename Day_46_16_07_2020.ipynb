{
  "nbformat": 4,
  "nbformat_minor": 0,
  "metadata": {
    "colab": {
      "name": "Day 46 16.07.2020.ipynb",
      "provenance": []
    },
    "kernelspec": {
      "name": "python3",
      "display_name": "Python 3"
    }
  },
  "cells": [
    {
      "cell_type": "code",
      "metadata": {
        "id": "z2-B3H_JzdHR",
        "colab_type": "code",
        "colab": {
          "base_uri": "https://localhost:8080/",
          "height": 139
        },
        "outputId": "35645646-b2c8-49da-913f-3a502c362abd"
      },
      "source": [
        "## Mount the Gdrive\n",
        "from google.colab import drive\n",
        "drive.mount('/gdrive')\n",
        "%cd /gdrive"
      ],
      "execution_count": 1,
      "outputs": [
        {
          "output_type": "stream",
          "text": [
            "Go to this URL in a browser: https://accounts.google.com/o/oauth2/auth?client_id=947318989803-6bn6qk8qdgf4n4g3pfee6491hc0brc4i.apps.googleusercontent.com&redirect_uri=urn%3aietf%3awg%3aoauth%3a2.0%3aoob&response_type=code&scope=email%20https%3a%2f%2fwww.googleapis.com%2fauth%2fdocs.test%20https%3a%2f%2fwww.googleapis.com%2fauth%2fdrive%20https%3a%2f%2fwww.googleapis.com%2fauth%2fdrive.photos.readonly%20https%3a%2f%2fwww.googleapis.com%2fauth%2fpeopleapi.readonly\n",
            "\n",
            "Enter your authorization code:\n",
            "··········\n",
            "Mounted at /gdrive\n",
            "/gdrive\n"
          ],
          "name": "stdout"
        }
      ]
    },
    {
      "cell_type": "code",
      "metadata": {
        "id": "E1ol7Xxczj3X",
        "colab_type": "code",
        "colab": {
          "base_uri": "https://localhost:8080/",
          "height": 34
        },
        "outputId": "1fde86ec-71d7-487b-dbb5-6cf6a763bcb5"
      },
      "source": [
        "!ls 'My Drive/Summer Internship/all stocks'"
      ],
      "execution_count": 7,
      "outputs": [
        {
          "output_type": "stream",
          "text": [
            "all_stocks_5yr.csv\n"
          ],
          "name": "stdout"
        }
      ]
    },
    {
      "cell_type": "code",
      "metadata": {
        "id": "cIIVDBaM2G2s",
        "colab_type": "code",
        "colab": {
          "base_uri": "https://localhost:8080/",
          "height": 34
        },
        "outputId": "6c203ba9-f56b-4744-e5b6-65c1dbb48bfc"
      },
      "source": [
        "# all_stocks_5yr.csv\n",
        "import pandas as pd\n",
        "data = pd.read_csv('My Drive/Summer Internship/all stocks/all_stocks_5yr.csv')\n",
        "data.shape"
      ],
      "execution_count": 8,
      "outputs": [
        {
          "output_type": "execute_result",
          "data": {
            "text/plain": [
              "(619040, 7)"
            ]
          },
          "metadata": {
            "tags": []
          },
          "execution_count": 8
        }
      ]
    },
    {
      "cell_type": "code",
      "metadata": {
        "id": "iGlNMTbi2YxT",
        "colab_type": "code",
        "colab": {
          "base_uri": "https://localhost:8080/",
          "height": 204
        },
        "outputId": "35cb0e4a-c0fe-4d78-9b6e-e0c0419021a8"
      },
      "source": [
        "# Top Five rows\n",
        "data.head()"
      ],
      "execution_count": 9,
      "outputs": [
        {
          "output_type": "execute_result",
          "data": {
            "text/html": [
              "<div>\n",
              "<style scoped>\n",
              "    .dataframe tbody tr th:only-of-type {\n",
              "        vertical-align: middle;\n",
              "    }\n",
              "\n",
              "    .dataframe tbody tr th {\n",
              "        vertical-align: top;\n",
              "    }\n",
              "\n",
              "    .dataframe thead th {\n",
              "        text-align: right;\n",
              "    }\n",
              "</style>\n",
              "<table border=\"1\" class=\"dataframe\">\n",
              "  <thead>\n",
              "    <tr style=\"text-align: right;\">\n",
              "      <th></th>\n",
              "      <th>date</th>\n",
              "      <th>open</th>\n",
              "      <th>high</th>\n",
              "      <th>low</th>\n",
              "      <th>close</th>\n",
              "      <th>volume</th>\n",
              "      <th>Name</th>\n",
              "    </tr>\n",
              "  </thead>\n",
              "  <tbody>\n",
              "    <tr>\n",
              "      <th>0</th>\n",
              "      <td>2013-02-08</td>\n",
              "      <td>15.07</td>\n",
              "      <td>15.12</td>\n",
              "      <td>14.63</td>\n",
              "      <td>14.75</td>\n",
              "      <td>8407500</td>\n",
              "      <td>AAL</td>\n",
              "    </tr>\n",
              "    <tr>\n",
              "      <th>1</th>\n",
              "      <td>2013-02-11</td>\n",
              "      <td>14.89</td>\n",
              "      <td>15.01</td>\n",
              "      <td>14.26</td>\n",
              "      <td>14.46</td>\n",
              "      <td>8882000</td>\n",
              "      <td>AAL</td>\n",
              "    </tr>\n",
              "    <tr>\n",
              "      <th>2</th>\n",
              "      <td>2013-02-12</td>\n",
              "      <td>14.45</td>\n",
              "      <td>14.51</td>\n",
              "      <td>14.10</td>\n",
              "      <td>14.27</td>\n",
              "      <td>8126000</td>\n",
              "      <td>AAL</td>\n",
              "    </tr>\n",
              "    <tr>\n",
              "      <th>3</th>\n",
              "      <td>2013-02-13</td>\n",
              "      <td>14.30</td>\n",
              "      <td>14.94</td>\n",
              "      <td>14.25</td>\n",
              "      <td>14.66</td>\n",
              "      <td>10259500</td>\n",
              "      <td>AAL</td>\n",
              "    </tr>\n",
              "    <tr>\n",
              "      <th>4</th>\n",
              "      <td>2013-02-14</td>\n",
              "      <td>14.94</td>\n",
              "      <td>14.96</td>\n",
              "      <td>13.16</td>\n",
              "      <td>13.99</td>\n",
              "      <td>31879900</td>\n",
              "      <td>AAL</td>\n",
              "    </tr>\n",
              "  </tbody>\n",
              "</table>\n",
              "</div>"
            ],
            "text/plain": [
              "         date   open   high    low  close    volume Name\n",
              "0  2013-02-08  15.07  15.12  14.63  14.75   8407500  AAL\n",
              "1  2013-02-11  14.89  15.01  14.26  14.46   8882000  AAL\n",
              "2  2013-02-12  14.45  14.51  14.10  14.27   8126000  AAL\n",
              "3  2013-02-13  14.30  14.94  14.25  14.66  10259500  AAL\n",
              "4  2013-02-14  14.94  14.96  13.16  13.99  31879900  AAL"
            ]
          },
          "metadata": {
            "tags": []
          },
          "execution_count": 9
        }
      ]
    },
    {
      "cell_type": "code",
      "metadata": {
        "id": "_Wi9kYtV2Yt0",
        "colab_type": "code",
        "colab": {
          "base_uri": "https://localhost:8080/",
          "height": 34
        },
        "outputId": "e683dcca-e5f4-40ba-fb26-a723cd8b7f19"
      },
      "source": [
        "data.columns"
      ],
      "execution_count": 10,
      "outputs": [
        {
          "output_type": "execute_result",
          "data": {
            "text/plain": [
              "Index(['date', 'open', 'high', 'low', 'close', 'volume', 'Name'], dtype='object')"
            ]
          },
          "metadata": {
            "tags": []
          },
          "execution_count": 10
        }
      ]
    },
    {
      "cell_type": "code",
      "metadata": {
        "id": "SVHlJAYW2YrB",
        "colab_type": "code",
        "colab": {
          "base_uri": "https://localhost:8080/",
          "height": 34
        },
        "outputId": "72e7c3f0-409a-47d4-f7dc-63a19a5f24c6"
      },
      "source": [
        "### How many company's data we have here?\n",
        "data.Name.nunique()"
      ],
      "execution_count": 11,
      "outputs": [
        {
          "output_type": "execute_result",
          "data": {
            "text/plain": [
              "505"
            ]
          },
          "metadata": {
            "tags": []
          },
          "execution_count": 11
        }
      ]
    },
    {
      "cell_type": "code",
      "metadata": {
        "id": "RORNNPux3vgH",
        "colab_type": "code",
        "colab": {
          "base_uri": "https://localhost:8080/",
          "height": 34
        },
        "outputId": "3f7f0ecc-ad77-47a8-8513-a858e9e14e9f"
      },
      "source": [
        "## Selecting the data AAL\n",
        "df = data[data['Name']=='AAL']\n",
        "df.shape\n"
      ],
      "execution_count": 12,
      "outputs": [
        {
          "output_type": "execute_result",
          "data": {
            "text/plain": [
              "(1259, 7)"
            ]
          },
          "metadata": {
            "tags": []
          },
          "execution_count": 12
        }
      ]
    },
    {
      "cell_type": "code",
      "metadata": {
        "id": "kZaNcX5F3vcM",
        "colab_type": "code",
        "colab": {
          "base_uri": "https://localhost:8080/",
          "height": 34
        },
        "outputId": "1a0de61e-dba6-4eda-8da7-a3516d4897b0"
      },
      "source": [
        "df.columns"
      ],
      "execution_count": 13,
      "outputs": [
        {
          "output_type": "execute_result",
          "data": {
            "text/plain": [
              "Index(['date', 'open', 'high', 'low', 'close', 'volume', 'Name'], dtype='object')"
            ]
          },
          "metadata": {
            "tags": []
          },
          "execution_count": 13
        }
      ]
    },
    {
      "cell_type": "code",
      "metadata": {
        "id": "J_jYDYqT3vao",
        "colab_type": "code",
        "colab": {
          "base_uri": "https://localhost:8080/",
          "height": 419
        },
        "outputId": "066584aa-a4dc-44a1-f9d2-ac15fd6eac17"
      },
      "source": [
        "#select the columns date and close price\n",
        "df = df[['date','close']]\n",
        "df"
      ],
      "execution_count": 14,
      "outputs": [
        {
          "output_type": "execute_result",
          "data": {
            "text/html": [
              "<div>\n",
              "<style scoped>\n",
              "    .dataframe tbody tr th:only-of-type {\n",
              "        vertical-align: middle;\n",
              "    }\n",
              "\n",
              "    .dataframe tbody tr th {\n",
              "        vertical-align: top;\n",
              "    }\n",
              "\n",
              "    .dataframe thead th {\n",
              "        text-align: right;\n",
              "    }\n",
              "</style>\n",
              "<table border=\"1\" class=\"dataframe\">\n",
              "  <thead>\n",
              "    <tr style=\"text-align: right;\">\n",
              "      <th></th>\n",
              "      <th>date</th>\n",
              "      <th>close</th>\n",
              "    </tr>\n",
              "  </thead>\n",
              "  <tbody>\n",
              "    <tr>\n",
              "      <th>0</th>\n",
              "      <td>2013-02-08</td>\n",
              "      <td>14.75</td>\n",
              "    </tr>\n",
              "    <tr>\n",
              "      <th>1</th>\n",
              "      <td>2013-02-11</td>\n",
              "      <td>14.46</td>\n",
              "    </tr>\n",
              "    <tr>\n",
              "      <th>2</th>\n",
              "      <td>2013-02-12</td>\n",
              "      <td>14.27</td>\n",
              "    </tr>\n",
              "    <tr>\n",
              "      <th>3</th>\n",
              "      <td>2013-02-13</td>\n",
              "      <td>14.66</td>\n",
              "    </tr>\n",
              "    <tr>\n",
              "      <th>4</th>\n",
              "      <td>2013-02-14</td>\n",
              "      <td>13.99</td>\n",
              "    </tr>\n",
              "    <tr>\n",
              "      <th>...</th>\n",
              "      <td>...</td>\n",
              "      <td>...</td>\n",
              "    </tr>\n",
              "    <tr>\n",
              "      <th>1254</th>\n",
              "      <td>2018-02-01</td>\n",
              "      <td>53.88</td>\n",
              "    </tr>\n",
              "    <tr>\n",
              "      <th>1255</th>\n",
              "      <td>2018-02-02</td>\n",
              "      <td>52.10</td>\n",
              "    </tr>\n",
              "    <tr>\n",
              "      <th>1256</th>\n",
              "      <td>2018-02-05</td>\n",
              "      <td>49.76</td>\n",
              "    </tr>\n",
              "    <tr>\n",
              "      <th>1257</th>\n",
              "      <td>2018-02-06</td>\n",
              "      <td>51.18</td>\n",
              "    </tr>\n",
              "    <tr>\n",
              "      <th>1258</th>\n",
              "      <td>2018-02-07</td>\n",
              "      <td>51.40</td>\n",
              "    </tr>\n",
              "  </tbody>\n",
              "</table>\n",
              "<p>1259 rows × 2 columns</p>\n",
              "</div>"
            ],
            "text/plain": [
              "            date  close\n",
              "0     2013-02-08  14.75\n",
              "1     2013-02-11  14.46\n",
              "2     2013-02-12  14.27\n",
              "3     2013-02-13  14.66\n",
              "4     2013-02-14  13.99\n",
              "...          ...    ...\n",
              "1254  2018-02-01  53.88\n",
              "1255  2018-02-02  52.10\n",
              "1256  2018-02-05  49.76\n",
              "1257  2018-02-06  51.18\n",
              "1258  2018-02-07  51.40\n",
              "\n",
              "[1259 rows x 2 columns]"
            ]
          },
          "metadata": {
            "tags": []
          },
          "execution_count": 14
        }
      ]
    },
    {
      "cell_type": "code",
      "metadata": {
        "id": "BFQkVA9v3vX_",
        "colab_type": "code",
        "colab": {
          "base_uri": "https://localhost:8080/",
          "height": 283
        },
        "outputId": "0b9d26db-683e-4725-a8a9-e0d9935948f9"
      },
      "source": [
        "# Line plot\n",
        "import matplotlib.pyplot as plt\n",
        "plt.plot(df['date'],df['close'])"
      ],
      "execution_count": 15,
      "outputs": [
        {
          "output_type": "execute_result",
          "data": {
            "text/plain": [
              "[<matplotlib.lines.Line2D at 0x7f7f871aaba8>]"
            ]
          },
          "metadata": {
            "tags": []
          },
          "execution_count": 15
        },
        {
          "output_type": "display_data",
          "data": {
            "image/png": "[encoded data removed]",
            "text/plain": [
              "<Figure size 432x288 with 1 Axes>"
            ]
          },
          "metadata": {
            "tags": [],
            "needs_background": "light"
          }
        }
      ]
    },
    {
      "cell_type": "code",
      "metadata": {
        "id": "eTthgVpV3vV5",
        "colab_type": "code",
        "colab": {
          "base_uri": "https://localhost:8080/",
          "height": 204
        },
        "outputId": "a5251ba1-bb71-4203-fcb0-a4d0e1ad6ec4"
      },
      "source": [
        "df.date[:10]"
      ],
      "execution_count": 16,
      "outputs": [
        {
          "output_type": "execute_result",
          "data": {
            "text/plain": [
              "0    2013-02-08\n",
              "1    2013-02-11\n",
              "2    2013-02-12\n",
              "3    2013-02-13\n",
              "4    2013-02-14\n",
              "5    2013-02-15\n",
              "6    2013-02-19\n",
              "7    2013-02-20\n",
              "8    2013-02-21\n",
              "9    2013-02-22\n",
              "Name: date, dtype: object"
            ]
          },
          "metadata": {
            "tags": []
          },
          "execution_count": 16
        }
      ]
    },
    {
      "cell_type": "code",
      "metadata": {
        "id": "fDYe6wRP4WT_",
        "colab_type": "code",
        "colab": {
          "base_uri": "https://localhost:8080/",
          "height": 68
        },
        "outputId": "09a854f1-a366-4b71-8a7e-b71ed167111c"
      },
      "source": [
        "### Missing values in the data\n",
        "df.isnull().sum()"
      ],
      "execution_count": 17,
      "outputs": [
        {
          "output_type": "execute_result",
          "data": {
            "text/plain": [
              "date     0\n",
              "close    0\n",
              "dtype: int64"
            ]
          },
          "metadata": {
            "tags": []
          },
          "execution_count": 17
        }
      ]
    },
    {
      "cell_type": "code",
      "metadata": {
        "id": "DorLorUv4WS2",
        "colab_type": "code",
        "colab": {
          "base_uri": "https://localhost:8080/",
          "height": 272
        },
        "outputId": "2a5f7e3e-c5e7-4161-ca54-8211f024fa85"
      },
      "source": [
        "## Preparing the data\n",
        "## Features and target\n",
        "## Input and output\n",
        "## last 7 days data as input\n",
        "## X -- [[d1-d7],[d9,d15],[d17,23]....]\n",
        "## y -- [d8,d16,d24,...]\n",
        "\n",
        "## X = [[d1-d7],[d2-d8],]\n",
        "## y = [d8,d9]\n",
        "X = [] ## input\n",
        "y = [] ## ouput\n",
        "for i  in range(df.shape[0]-7-1):   \n",
        "  X.append(df['close'][i:i+7])# 0 -->[0:7], 1-->[1:8]\n",
        "  y.append(df['close'][i+7])# 7,8,9\n",
        "print(X[:2])"
      ],
      "execution_count": 18,
      "outputs": [
        {
          "output_type": "stream",
          "text": [
            "[0    14.75\n",
            "1    14.46\n",
            "2    14.27\n",
            "3    14.66\n",
            "4    13.99\n",
            "5    14.50\n",
            "6    14.26\n",
            "Name: close, dtype: float64, 1    14.46\n",
            "2    14.27\n",
            "3    14.66\n",
            "4    13.99\n",
            "5    14.50\n",
            "6    14.26\n",
            "7    13.33\n",
            "Name: close, dtype: float64]\n"
          ],
          "name": "stdout"
        }
      ]
    },
    {
      "cell_type": "code",
      "metadata": {
        "id": "P6-rwQjD4WOu",
        "colab_type": "code",
        "colab": {}
      },
      "source": [
        "import numpy as np\n",
        "X = np.array(X)"
      ],
      "execution_count": 19,
      "outputs": []
    },
    {
      "cell_type": "code",
      "metadata": {
        "id": "zghJBeoe4WNa",
        "colab_type": "code",
        "colab": {
          "base_uri": "https://localhost:8080/",
          "height": 204
        },
        "outputId": "09540e62-450c-4539-fb0c-15c1d10f80da"
      },
      "source": [
        "df1  = pd.DataFrame(X,columns=['d1','d2','d3','d4','d5','d6','d7'])\n",
        "df1.head()\n"
      ],
      "execution_count": 20,
      "outputs": [
        {
          "output_type": "execute_result",
          "data": {
            "text/html": [
              "<div>\n",
              "<style scoped>\n",
              "    .dataframe tbody tr th:only-of-type {\n",
              "        vertical-align: middle;\n",
              "    }\n",
              "\n",
              "    .dataframe tbody tr th {\n",
              "        vertical-align: top;\n",
              "    }\n",
              "\n",
              "    .dataframe thead th {\n",
              "        text-align: right;\n",
              "    }\n",
              "</style>\n",
              "<table border=\"1\" class=\"dataframe\">\n",
              "  <thead>\n",
              "    <tr style=\"text-align: right;\">\n",
              "      <th></th>\n",
              "      <th>d1</th>\n",
              "      <th>d2</th>\n",
              "      <th>d3</th>\n",
              "      <th>d4</th>\n",
              "      <th>d5</th>\n",
              "      <th>d6</th>\n",
              "      <th>d7</th>\n",
              "    </tr>\n",
              "  </thead>\n",
              "  <tbody>\n",
              "    <tr>\n",
              "      <th>0</th>\n",
              "      <td>14.75</td>\n",
              "      <td>14.46</td>\n",
              "      <td>14.27</td>\n",
              "      <td>14.66</td>\n",
              "      <td>13.99</td>\n",
              "      <td>14.50</td>\n",
              "      <td>14.26</td>\n",
              "    </tr>\n",
              "    <tr>\n",
              "      <th>1</th>\n",
              "      <td>14.46</td>\n",
              "      <td>14.27</td>\n",
              "      <td>14.66</td>\n",
              "      <td>13.99</td>\n",
              "      <td>14.50</td>\n",
              "      <td>14.26</td>\n",
              "      <td>13.33</td>\n",
              "    </tr>\n",
              "    <tr>\n",
              "      <th>2</th>\n",
              "      <td>14.27</td>\n",
              "      <td>14.66</td>\n",
              "      <td>13.99</td>\n",
              "      <td>14.50</td>\n",
              "      <td>14.26</td>\n",
              "      <td>13.33</td>\n",
              "      <td>13.37</td>\n",
              "    </tr>\n",
              "    <tr>\n",
              "      <th>3</th>\n",
              "      <td>14.66</td>\n",
              "      <td>13.99</td>\n",
              "      <td>14.50</td>\n",
              "      <td>14.26</td>\n",
              "      <td>13.33</td>\n",
              "      <td>13.37</td>\n",
              "      <td>13.57</td>\n",
              "    </tr>\n",
              "    <tr>\n",
              "      <th>4</th>\n",
              "      <td>13.99</td>\n",
              "      <td>14.50</td>\n",
              "      <td>14.26</td>\n",
              "      <td>13.33</td>\n",
              "      <td>13.37</td>\n",
              "      <td>13.57</td>\n",
              "      <td>13.02</td>\n",
              "    </tr>\n",
              "  </tbody>\n",
              "</table>\n",
              "</div>"
            ],
            "text/plain": [
              "      d1     d2     d3     d4     d5     d6     d7\n",
              "0  14.75  14.46  14.27  14.66  13.99  14.50  14.26\n",
              "1  14.46  14.27  14.66  13.99  14.50  14.26  13.33\n",
              "2  14.27  14.66  13.99  14.50  14.26  13.33  13.37\n",
              "3  14.66  13.99  14.50  14.26  13.33  13.37  13.57\n",
              "4  13.99  14.50  14.26  13.33  13.37  13.57  13.02"
            ]
          },
          "metadata": {
            "tags": []
          },
          "execution_count": 20
        }
      ]
    },
    {
      "cell_type": "code",
      "metadata": {
        "id": "9MkQMCZA4WJ5",
        "colab_type": "code",
        "colab": {
          "base_uri": "https://localhost:8080/",
          "height": 204
        },
        "outputId": "bb949cca-5a3d-44d6-fe3c-08d20058cd75"
      },
      "source": [
        "df1['d8'] = y\n",
        "df1.head()"
      ],
      "execution_count": 21,
      "outputs": [
        {
          "output_type": "execute_result",
          "data": {
            "text/html": [
              "<div>\n",
              "<style scoped>\n",
              "    .dataframe tbody tr th:only-of-type {\n",
              "        vertical-align: middle;\n",
              "    }\n",
              "\n",
              "    .dataframe tbody tr th {\n",
              "        vertical-align: top;\n",
              "    }\n",
              "\n",
              "    .dataframe thead th {\n",
              "        text-align: right;\n",
              "    }\n",
              "</style>\n",
              "<table border=\"1\" class=\"dataframe\">\n",
              "  <thead>\n",
              "    <tr style=\"text-align: right;\">\n",
              "      <th></th>\n",
              "      <th>d1</th>\n",
              "      <th>d2</th>\n",
              "      <th>d3</th>\n",
              "      <th>d4</th>\n",
              "      <th>d5</th>\n",
              "      <th>d6</th>\n",
              "      <th>d7</th>\n",
              "      <th>d8</th>\n",
              "    </tr>\n",
              "  </thead>\n",
              "  <tbody>\n",
              "    <tr>\n",
              "      <th>0</th>\n",
              "      <td>14.75</td>\n",
              "      <td>14.46</td>\n",
              "      <td>14.27</td>\n",
              "      <td>14.66</td>\n",
              "      <td>13.99</td>\n",
              "      <td>14.50</td>\n",
              "      <td>14.26</td>\n",
              "      <td>13.33</td>\n",
              "    </tr>\n",
              "    <tr>\n",
              "      <th>1</th>\n",
              "      <td>14.46</td>\n",
              "      <td>14.27</td>\n",
              "      <td>14.66</td>\n",
              "      <td>13.99</td>\n",
              "      <td>14.50</td>\n",
              "      <td>14.26</td>\n",
              "      <td>13.33</td>\n",
              "      <td>13.37</td>\n",
              "    </tr>\n",
              "    <tr>\n",
              "      <th>2</th>\n",
              "      <td>14.27</td>\n",
              "      <td>14.66</td>\n",
              "      <td>13.99</td>\n",
              "      <td>14.50</td>\n",
              "      <td>14.26</td>\n",
              "      <td>13.33</td>\n",
              "      <td>13.37</td>\n",
              "      <td>13.57</td>\n",
              "    </tr>\n",
              "    <tr>\n",
              "      <th>3</th>\n",
              "      <td>14.66</td>\n",
              "      <td>13.99</td>\n",
              "      <td>14.50</td>\n",
              "      <td>14.26</td>\n",
              "      <td>13.33</td>\n",
              "      <td>13.37</td>\n",
              "      <td>13.57</td>\n",
              "      <td>13.02</td>\n",
              "    </tr>\n",
              "    <tr>\n",
              "      <th>4</th>\n",
              "      <td>13.99</td>\n",
              "      <td>14.50</td>\n",
              "      <td>14.26</td>\n",
              "      <td>13.33</td>\n",
              "      <td>13.37</td>\n",
              "      <td>13.57</td>\n",
              "      <td>13.02</td>\n",
              "      <td>13.26</td>\n",
              "    </tr>\n",
              "  </tbody>\n",
              "</table>\n",
              "</div>"
            ],
            "text/plain": [
              "      d1     d2     d3     d4     d5     d6     d7     d8\n",
              "0  14.75  14.46  14.27  14.66  13.99  14.50  14.26  13.33\n",
              "1  14.46  14.27  14.66  13.99  14.50  14.26  13.33  13.37\n",
              "2  14.27  14.66  13.99  14.50  14.26  13.33  13.37  13.57\n",
              "3  14.66  13.99  14.50  14.26  13.33  13.37  13.57  13.02\n",
              "4  13.99  14.50  14.26  13.33  13.37  13.57  13.02  13.26"
            ]
          },
          "metadata": {
            "tags": []
          },
          "execution_count": 21
        }
      ]
    },
    {
      "cell_type": "code",
      "metadata": {
        "id": "1nDpDQRE4WIC",
        "colab_type": "code",
        "colab": {
          "base_uri": "https://localhost:8080/",
          "height": 34
        },
        "outputId": "30f47102-26e0-4890-e271-de4ab48b655c"
      },
      "source": [
        "df1.shape"
      ],
      "execution_count": 22,
      "outputs": [
        {
          "output_type": "execute_result",
          "data": {
            "text/plain": [
              "(1251, 8)"
            ]
          },
          "metadata": {
            "tags": []
          },
          "execution_count": 22
        }
      ]
    },
    {
      "cell_type": "code",
      "metadata": {
        "id": "pet-Tj8R4WF0",
        "colab_type": "code",
        "colab": {
          "base_uri": "https://localhost:8080/",
          "height": 34
        },
        "outputId": "5fa44781-05ff-4fad-8b8b-69b713763d80"
      },
      "source": [
        "1251 * 0.8"
      ],
      "execution_count": 23,
      "outputs": [
        {
          "output_type": "execute_result",
          "data": {
            "text/plain": [
              "1000.8000000000001"
            ]
          },
          "metadata": {
            "tags": []
          },
          "execution_count": 23
        }
      ]
    },
    {
      "cell_type": "code",
      "metadata": {
        "id": "70mhOs8C4WEi",
        "colab_type": "code",
        "colab": {
          "base_uri": "https://localhost:8080/",
          "height": 85
        },
        "outputId": "ed39e524-4cbd-4d3d-cefb-537bcb273c15"
      },
      "source": [
        "## Train test split\n",
        "X_train = df1.iloc[0:1000,0:7]\n",
        "X_test = df1.iloc[1000:,0:7]\n",
        "y_train =  df1['d8'][:1000]\n",
        "y_test  = df1['d8'][1000:]\n",
        "print(X_train.shape)\n",
        "print(y_train.shape)\n",
        "print(X_test.shape)\n",
        "print(y_test.shape)"
      ],
      "execution_count": 24,
      "outputs": [
        {
          "output_type": "stream",
          "text": [
            "(1000, 7)\n",
            "(1000,)\n",
            "(251, 7)\n",
            "(251,)\n"
          ],
          "name": "stdout"
        }
      ]
    },
    {
      "cell_type": "code",
      "metadata": {
        "id": "RbFv9LtX4WBj",
        "colab_type": "code",
        "colab": {
          "base_uri": "https://localhost:8080/",
          "height": 297
        },
        "outputId": "c7c0f9b8-bb14-49df-bc00-a284cf3aeb87"
      },
      "source": [
        "## Sacling the data\n",
        "from sklearn.preprocessing import StandardScaler\n",
        "sc = StandardScaler()\n",
        "sc.fit(X_train)\n",
        "X_train_sc = pd.DataFrame(sc.transform(X_train),columns = X_train.columns)\n",
        "X_test_sc = pd.DataFrame(sc.transform(X_test),columns = X_train.columns)\n",
        "X_train_sc.describe()"
      ],
      "execution_count": 25,
      "outputs": [
        {
          "output_type": "execute_result",
          "data": {
            "text/html": [
              "<div>\n",
              "<style scoped>\n",
              "    .dataframe tbody tr th:only-of-type {\n",
              "        vertical-align: middle;\n",
              "    }\n",
              "\n",
              "    .dataframe tbody tr th {\n",
              "        vertical-align: top;\n",
              "    }\n",
              "\n",
              "    .dataframe thead th {\n",
              "        text-align: right;\n",
              "    }\n",
              "</style>\n",
              "<table border=\"1\" class=\"dataframe\">\n",
              "  <thead>\n",
              "    <tr style=\"text-align: right;\">\n",
              "      <th></th>\n",
              "      <th>d1</th>\n",
              "      <th>d2</th>\n",
              "      <th>d3</th>\n",
              "      <th>d4</th>\n",
              "      <th>d5</th>\n",
              "      <th>d6</th>\n",
              "      <th>d7</th>\n",
              "    </tr>\n",
              "  </thead>\n",
              "  <tbody>\n",
              "    <tr>\n",
              "      <th>count</th>\n",
              "      <td>1.000000e+03</td>\n",
              "      <td>1.000000e+03</td>\n",
              "      <td>1.000000e+03</td>\n",
              "      <td>1.000000e+03</td>\n",
              "      <td>1.000000e+03</td>\n",
              "      <td>1.000000e+03</td>\n",
              "      <td>1.000000e+03</td>\n",
              "    </tr>\n",
              "    <tr>\n",
              "      <th>mean</th>\n",
              "      <td>5.107026e-17</td>\n",
              "      <td>1.179057e-16</td>\n",
              "      <td>3.196332e-16</td>\n",
              "      <td>8.437695e-18</td>\n",
              "      <td>-2.058353e-16</td>\n",
              "      <td>6.408207e-16</td>\n",
              "      <td>3.573808e-16</td>\n",
              "    </tr>\n",
              "    <tr>\n",
              "      <th>std</th>\n",
              "      <td>1.000500e+00</td>\n",
              "      <td>1.000500e+00</td>\n",
              "      <td>1.000500e+00</td>\n",
              "      <td>1.000500e+00</td>\n",
              "      <td>1.000500e+00</td>\n",
              "      <td>1.000500e+00</td>\n",
              "      <td>1.000500e+00</td>\n",
              "    </tr>\n",
              "    <tr>\n",
              "      <th>min</th>\n",
              "      <td>-2.119798e+00</td>\n",
              "      <td>-2.125939e+00</td>\n",
              "      <td>-2.132307e+00</td>\n",
              "      <td>-2.138824e+00</td>\n",
              "      <td>-2.145197e+00</td>\n",
              "      <td>-2.151939e+00</td>\n",
              "      <td>-2.158392e+00</td>\n",
              "    </tr>\n",
              "    <tr>\n",
              "      <th>25%</th>\n",
              "      <td>-5.582080e-01</td>\n",
              "      <td>-5.486430e-01</td>\n",
              "      <td>-5.493180e-01</td>\n",
              "      <td>-5.516601e-01</td>\n",
              "      <td>-5.450605e-01</td>\n",
              "      <td>-5.350756e-01</td>\n",
              "      <td>-5.332242e-01</td>\n",
              "    </tr>\n",
              "    <tr>\n",
              "      <th>50%</th>\n",
              "      <td>2.659776e-01</td>\n",
              "      <td>2.649882e-01</td>\n",
              "      <td>2.640589e-01</td>\n",
              "      <td>2.640761e-01</td>\n",
              "      <td>2.641178e-01</td>\n",
              "      <td>2.631759e-01</td>\n",
              "      <td>2.621305e-01</td>\n",
              "    </tr>\n",
              "    <tr>\n",
              "      <th>75%</th>\n",
              "      <td>6.620601e-01</td>\n",
              "      <td>6.644832e-01</td>\n",
              "      <td>6.649275e-01</td>\n",
              "      <td>6.633158e-01</td>\n",
              "      <td>6.633343e-01</td>\n",
              "      <td>6.668651e-01</td>\n",
              "      <td>6.666995e-01</td>\n",
              "    </tr>\n",
              "    <tr>\n",
              "      <th>max</th>\n",
              "      <td>1.847059e+00</td>\n",
              "      <td>1.847165e+00</td>\n",
              "      <td>1.847513e+00</td>\n",
              "      <td>1.847976e+00</td>\n",
              "      <td>1.848369e+00</td>\n",
              "      <td>1.848914e+00</td>\n",
              "      <td>1.849089e+00</td>\n",
              "    </tr>\n",
              "  </tbody>\n",
              "</table>\n",
              "</div>"
            ],
            "text/plain": [
              "                 d1            d2  ...            d6            d7\n",
              "count  1.000000e+03  1.000000e+03  ...  1.000000e+03  1.000000e+03\n",
              "mean   5.107026e-17  1.179057e-16  ...  6.408207e-16  3.573808e-16\n",
              "std    1.000500e+00  1.000500e+00  ...  1.000500e+00  1.000500e+00\n",
              "min   -2.119798e+00 -2.125939e+00  ... -2.151939e+00 -2.158392e+00\n",
              "25%   -5.582080e-01 -5.486430e-01  ... -5.350756e-01 -5.332242e-01\n",
              "50%    2.659776e-01  2.649882e-01  ...  2.631759e-01  2.621305e-01\n",
              "75%    6.620601e-01  6.644832e-01  ...  6.668651e-01  6.666995e-01\n",
              "max    1.847059e+00  1.847165e+00  ...  1.848914e+00  1.849089e+00\n",
              "\n",
              "[8 rows x 7 columns]"
            ]
          },
          "metadata": {
            "tags": []
          },
          "execution_count": 25
        }
      ]
    },
    {
      "cell_type": "code",
      "metadata": {
        "id": "4NLfUGe-4V-z",
        "colab_type": "code",
        "colab": {
          "base_uri": "https://localhost:8080/",
          "height": 238
        },
        "outputId": "26764467-f132-4437-9d44-d2e80a39192a"
      },
      "source": [
        "from keras.models import Sequential\n",
        "from keras.layers import Dense,Dropout,LSTM\n",
        "model = Sequential()\n",
        "# 256 cels\n",
        "model.add(LSTM(256,input_shape=(7,1)))\n",
        "# single neuron\n",
        "model.add(Dense(1))\n",
        "model.summary()"
      ],
      "execution_count": 26,
      "outputs": [
        {
          "output_type": "stream",
          "text": [
            "Using TensorFlow backend.\n"
          ],
          "name": "stderr"
        },
        {
          "output_type": "stream",
          "text": [
            "Model: \"sequential_1\"\n",
            "_________________________________________________________________\n",
            "Layer (type)                 Output Shape              Param #   \n",
            "=================================================================\n",
            "lstm_1 (LSTM)                (None, 256)               264192    \n",
            "_________________________________________________________________\n",
            "dense_1 (Dense)              (None, 1)                 257       \n",
            "=================================================================\n",
            "Total params: 264,449\n",
            "Trainable params: 264,449\n",
            "Non-trainable params: 0\n",
            "_________________________________________________________________\n"
          ],
          "name": "stdout"
        }
      ]
    },
    {
      "cell_type": "code",
      "metadata": {
        "id": "IUoPUQFX47ky",
        "colab_type": "code",
        "colab": {}
      },
      "source": [
        "model.compile(optimizer='adam',loss='mse')"
      ],
      "execution_count": 27,
      "outputs": []
    },
    {
      "cell_type": "code",
      "metadata": {
        "id": "B6Tp-wk447hm",
        "colab_type": "code",
        "colab": {
          "base_uri": "https://localhost:8080/",
          "height": 34
        },
        "outputId": "95adf0f9-de57-45e1-ef5e-d54adcdb83dd"
      },
      "source": [
        "X_test.shape"
      ],
      "execution_count": 28,
      "outputs": [
        {
          "output_type": "execute_result",
          "data": {
            "text/plain": [
              "(251, 7)"
            ]
          },
          "metadata": {
            "tags": []
          },
          "execution_count": 28
        }
      ]
    },
    {
      "cell_type": "code",
      "metadata": {
        "id": "7MzcfF5o47gH",
        "colab_type": "code",
        "colab": {}
      },
      "source": [
        "# number of records , time steps,Features\n",
        "X_train_sc = X_train_sc.values.reshape(1000,7,1)\n",
        "X_test_sc = X_test_sc.values.reshape(251,7,1)"
      ],
      "execution_count": 29,
      "outputs": []
    },
    {
      "cell_type": "code",
      "metadata": {
        "id": "ftNmiq5y47cG",
        "colab_type": "code",
        "colab": {
          "base_uri": "https://localhost:8080/",
          "height": 1000
        },
        "outputId": "bc496468-2e46-4c2f-c3e7-6d932a030ee8"
      },
      "source": [
        "history = model.fit(X_train_sc,y_train,epochs=100,validation_data=(X_test_sc,y_test))"
      ],
      "execution_count": 30,
      "outputs": [
        {
          "output_type": "stream",
          "text": [
            "Train on 1000 samples, validate on 251 samples\n",
            "Epoch 1/100\n",
            "1000/1000 [==============================] - 2s 2ms/step - loss: 973.2382 - val_loss: 579.2219\n",
            "Epoch 2/100\n",
            "1000/1000 [==============================] - 1s 1ms/step - loss: 232.5143 - val_loss: 258.8469\n",
            "Epoch 3/100\n",
            "1000/1000 [==============================] - 1s 977us/step - loss: 70.9872 - val_loss: 139.0556\n",
            "Epoch 4/100\n",
            "1000/1000 [==============================] - 1s 993us/step - loss: 33.1905 - val_loss: 88.8130\n",
            "Epoch 5/100\n",
            "1000/1000 [==============================] - 1s 983us/step - loss: 25.4195 - val_loss: 70.5571\n",
            "Epoch 6/100\n",
            "1000/1000 [==============================] - 1s 980us/step - loss: 21.5916 - val_loss: 62.4540\n",
            "Epoch 7/100\n",
            "1000/1000 [==============================] - 1s 997us/step - loss: 16.1556 - val_loss: 48.9898\n",
            "Epoch 8/100\n",
            "1000/1000 [==============================] - 1s 988us/step - loss: 11.2671 - val_loss: 36.1057\n",
            "Epoch 9/100\n",
            "1000/1000 [==============================] - 1s 1ms/step - loss: 8.6126 - val_loss: 25.6763\n",
            "Epoch 10/100\n",
            "1000/1000 [==============================] - 1s 986us/step - loss: 7.0954 - val_loss: 20.4574\n",
            "Epoch 11/100\n",
            "1000/1000 [==============================] - 1s 1ms/step - loss: 6.2149 - val_loss: 16.2132\n",
            "Epoch 12/100\n",
            "1000/1000 [==============================] - 1s 971us/step - loss: 6.1406 - val_loss: 13.6517\n",
            "Epoch 13/100\n",
            "1000/1000 [==============================] - 1s 1ms/step - loss: 5.3546 - val_loss: 12.0789\n",
            "Epoch 14/100\n",
            "1000/1000 [==============================] - 1s 978us/step - loss: 4.9821 - val_loss: 10.6653\n",
            "Epoch 15/100\n",
            "1000/1000 [==============================] - 1s 985us/step - loss: 4.5846 - val_loss: 9.4172\n",
            "Epoch 16/100\n",
            "1000/1000 [==============================] - 1s 1ms/step - loss: 4.4788 - val_loss: 9.1562\n",
            "Epoch 17/100\n",
            "1000/1000 [==============================] - 1s 1ms/step - loss: 4.4261 - val_loss: 7.9231\n",
            "Epoch 18/100\n",
            "1000/1000 [==============================] - 1s 987us/step - loss: 4.2693 - val_loss: 7.7463\n",
            "Epoch 19/100\n",
            "1000/1000 [==============================] - 1s 985us/step - loss: 4.2605 - val_loss: 7.1106\n",
            "Epoch 20/100\n",
            "1000/1000 [==============================] - 1s 969us/step - loss: 4.2889 - val_loss: 6.7778\n",
            "Epoch 21/100\n",
            "1000/1000 [==============================] - 1s 1ms/step - loss: 4.3743 - val_loss: 6.5580\n",
            "Epoch 22/100\n",
            "1000/1000 [==============================] - 1s 964us/step - loss: 4.1663 - val_loss: 6.7407\n",
            "Epoch 23/100\n",
            "1000/1000 [==============================] - 1s 1ms/step - loss: 4.7760 - val_loss: 7.3549\n",
            "Epoch 24/100\n",
            "1000/1000 [==============================] - 1s 1ms/step - loss: 4.3334 - val_loss: 7.2278\n",
            "Epoch 25/100\n",
            "1000/1000 [==============================] - 1s 996us/step - loss: 4.1150 - val_loss: 6.4102\n",
            "Epoch 26/100\n",
            "1000/1000 [==============================] - 1s 1ms/step - loss: 4.1304 - val_loss: 6.9311\n",
            "Epoch 27/100\n",
            "1000/1000 [==============================] - 1s 970us/step - loss: 4.1229 - val_loss: 6.8364\n",
            "Epoch 28/100\n",
            "1000/1000 [==============================] - 1s 973us/step - loss: 4.0945 - val_loss: 5.8127\n",
            "Epoch 29/100\n",
            "1000/1000 [==============================] - 1s 994us/step - loss: 4.0196 - val_loss: 5.7949\n",
            "Epoch 30/100\n",
            "1000/1000 [==============================] - 1s 983us/step - loss: 4.2388 - val_loss: 5.6874\n",
            "Epoch 31/100\n",
            "1000/1000 [==============================] - 1s 1ms/step - loss: 3.9756 - val_loss: 5.8661\n",
            "Epoch 32/100\n",
            "1000/1000 [==============================] - 1s 1ms/step - loss: 4.1068 - val_loss: 5.9316\n",
            "Epoch 33/100\n",
            "1000/1000 [==============================] - 1s 986us/step - loss: 4.0546 - val_loss: 5.5489\n",
            "Epoch 34/100\n",
            "1000/1000 [==============================] - 1s 1ms/step - loss: 4.2117 - val_loss: 5.4145\n",
            "Epoch 35/100\n",
            "1000/1000 [==============================] - 1s 989us/step - loss: 3.9077 - val_loss: 5.6861\n",
            "Epoch 36/100\n",
            "1000/1000 [==============================] - 1s 969us/step - loss: 4.0883 - val_loss: 5.4109\n",
            "Epoch 37/100\n",
            "1000/1000 [==============================] - 1s 1ms/step - loss: 3.9864 - val_loss: 6.9829\n",
            "Epoch 38/100\n",
            "1000/1000 [==============================] - 1s 1ms/step - loss: 4.0585 - val_loss: 6.1245\n",
            "Epoch 39/100\n",
            "1000/1000 [==============================] - 1s 998us/step - loss: 3.8772 - val_loss: 5.7554\n",
            "Epoch 40/100\n",
            "1000/1000 [==============================] - 1s 976us/step - loss: 4.0286 - val_loss: 5.8314\n",
            "Epoch 41/100\n",
            "1000/1000 [==============================] - 1s 1ms/step - loss: 4.1338 - val_loss: 5.2162\n",
            "Epoch 42/100\n",
            "1000/1000 [==============================] - 1s 986us/step - loss: 3.8026 - val_loss: 5.2024\n",
            "Epoch 43/100\n",
            "1000/1000 [==============================] - 1s 1ms/step - loss: 3.6096 - val_loss: 5.2499\n",
            "Epoch 44/100\n",
            "1000/1000 [==============================] - 1s 988us/step - loss: 3.5510 - val_loss: 5.0926\n",
            "Epoch 45/100\n",
            "1000/1000 [==============================] - 1s 975us/step - loss: 3.6933 - val_loss: 4.7469\n",
            "Epoch 46/100\n",
            "1000/1000 [==============================] - 1s 1ms/step - loss: 3.4434 - val_loss: 5.0793\n",
            "Epoch 47/100\n",
            "1000/1000 [==============================] - 1s 976us/step - loss: 3.7563 - val_loss: 4.7837\n",
            "Epoch 48/100\n",
            "1000/1000 [==============================] - 1s 990us/step - loss: 3.2747 - val_loss: 4.5992\n",
            "Epoch 49/100\n",
            "1000/1000 [==============================] - 1s 988us/step - loss: 3.3604 - val_loss: 4.4685\n",
            "Epoch 50/100\n",
            "1000/1000 [==============================] - 1s 1ms/step - loss: 3.3598 - val_loss: 9.8873\n",
            "Epoch 51/100\n",
            "1000/1000 [==============================] - 1s 1ms/step - loss: 3.2431 - val_loss: 4.6011\n",
            "Epoch 52/100\n",
            "1000/1000 [==============================] - 1s 1ms/step - loss: 3.0184 - val_loss: 4.9584\n",
            "Epoch 53/100\n",
            "1000/1000 [==============================] - 1s 996us/step - loss: 3.1342 - val_loss: 4.4572\n",
            "Epoch 54/100\n",
            "1000/1000 [==============================] - 1s 994us/step - loss: 2.8832 - val_loss: 4.0055\n",
            "Epoch 55/100\n",
            "1000/1000 [==============================] - 1s 1ms/step - loss: 2.9165 - val_loss: 4.1961\n",
            "Epoch 56/100\n",
            "1000/1000 [==============================] - 1s 1ms/step - loss: 2.9262 - val_loss: 3.7380\n",
            "Epoch 57/100\n",
            "1000/1000 [==============================] - 1s 1ms/step - loss: 2.5118 - val_loss: 3.7664\n",
            "Epoch 58/100\n",
            "1000/1000 [==============================] - 1s 1ms/step - loss: 2.4409 - val_loss: 3.3794\n",
            "Epoch 59/100\n",
            "1000/1000 [==============================] - 1s 997us/step - loss: 2.4051 - val_loss: 4.3886\n",
            "Epoch 60/100\n",
            "1000/1000 [==============================] - 1s 1ms/step - loss: 2.7031 - val_loss: 3.5104\n",
            "Epoch 61/100\n",
            "1000/1000 [==============================] - 1s 1ms/step - loss: 2.1988 - val_loss: 6.0412\n",
            "Epoch 62/100\n",
            "1000/1000 [==============================] - 1s 1ms/step - loss: 2.8977 - val_loss: 4.2087\n",
            "Epoch 63/100\n",
            "1000/1000 [==============================] - 1s 999us/step - loss: 2.1715 - val_loss: 4.0665\n",
            "Epoch 64/100\n",
            "1000/1000 [==============================] - 1s 992us/step - loss: 2.1232 - val_loss: 3.1367\n",
            "Epoch 65/100\n",
            "1000/1000 [==============================] - 1s 1ms/step - loss: 2.2684 - val_loss: 2.7075\n",
            "Epoch 66/100\n",
            "1000/1000 [==============================] - 1s 991us/step - loss: 1.9889 - val_loss: 2.6991\n",
            "Epoch 67/100\n",
            "1000/1000 [==============================] - 1s 1ms/step - loss: 1.9267 - val_loss: 2.5918\n",
            "Epoch 68/100\n",
            "1000/1000 [==============================] - 1s 1ms/step - loss: 1.8714 - val_loss: 2.9511\n",
            "Epoch 69/100\n",
            "1000/1000 [==============================] - 1s 1ms/step - loss: 2.2720 - val_loss: 2.5099\n",
            "Epoch 70/100\n",
            "1000/1000 [==============================] - 1s 1ms/step - loss: 2.0162 - val_loss: 3.4239\n",
            "Epoch 71/100\n",
            "1000/1000 [==============================] - 1s 1ms/step - loss: 1.7149 - val_loss: 2.4970\n",
            "Epoch 72/100\n",
            "1000/1000 [==============================] - 1s 1ms/step - loss: 2.1999 - val_loss: 2.8451\n",
            "Epoch 73/100\n",
            "1000/1000 [==============================] - 1s 1ms/step - loss: 2.1218 - val_loss: 2.3190\n",
            "Epoch 74/100\n",
            "1000/1000 [==============================] - 1s 1ms/step - loss: 1.9134 - val_loss: 2.4364\n",
            "Epoch 75/100\n",
            "1000/1000 [==============================] - 1s 1ms/step - loss: 1.6514 - val_loss: 2.6268\n",
            "Epoch 76/100\n",
            "1000/1000 [==============================] - 1s 1ms/step - loss: 1.8063 - val_loss: 2.5785\n",
            "Epoch 77/100\n",
            "1000/1000 [==============================] - 1s 1ms/step - loss: 1.7653 - val_loss: 2.3549\n",
            "Epoch 78/100\n",
            "1000/1000 [==============================] - 1s 1ms/step - loss: 1.6612 - val_loss: 2.2468\n",
            "Epoch 79/100\n",
            "1000/1000 [==============================] - 1s 993us/step - loss: 1.6429 - val_loss: 2.1313\n",
            "Epoch 80/100\n",
            "1000/1000 [==============================] - 1s 1ms/step - loss: 1.6707 - val_loss: 1.9961\n",
            "Epoch 81/100\n",
            "1000/1000 [==============================] - 1s 1ms/step - loss: 1.5452 - val_loss: 2.2701\n",
            "Epoch 82/100\n",
            "1000/1000 [==============================] - 1s 1ms/step - loss: 1.5411 - val_loss: 1.9235\n",
            "Epoch 83/100\n",
            "1000/1000 [==============================] - 1s 1ms/step - loss: 1.5732 - val_loss: 2.0103\n",
            "Epoch 84/100\n",
            "1000/1000 [==============================] - 1s 1ms/step - loss: 1.5837 - val_loss: 2.4814\n",
            "Epoch 85/100\n",
            "1000/1000 [==============================] - 1s 1ms/step - loss: 1.7286 - val_loss: 1.9673\n",
            "Epoch 86/100\n",
            "1000/1000 [==============================] - 1s 1ms/step - loss: 1.4657 - val_loss: 2.2377\n",
            "Epoch 87/100\n",
            "1000/1000 [==============================] - 1s 1ms/step - loss: 1.4456 - val_loss: 2.5933\n",
            "Epoch 88/100\n",
            "1000/1000 [==============================] - 1s 1ms/step - loss: 1.8295 - val_loss: 2.8768\n",
            "Epoch 89/100\n",
            "1000/1000 [==============================] - 1s 999us/step - loss: 1.6013 - val_loss: 2.1029\n",
            "Epoch 90/100\n",
            "1000/1000 [==============================] - 1s 1ms/step - loss: 1.5389 - val_loss: 1.9992\n",
            "Epoch 91/100\n",
            "1000/1000 [==============================] - 1s 1ms/step - loss: 1.6459 - val_loss: 1.7423\n",
            "Epoch 92/100\n",
            "1000/1000 [==============================] - 1s 1ms/step - loss: 1.5326 - val_loss: 1.7173\n",
            "Epoch 93/100\n",
            "1000/1000 [==============================] - 1s 984us/step - loss: 1.3597 - val_loss: 1.7528\n",
            "Epoch 94/100\n",
            "1000/1000 [==============================] - 1s 1ms/step - loss: 1.4954 - val_loss: 2.5275\n",
            "Epoch 95/100\n",
            "1000/1000 [==============================] - 1s 987us/step - loss: 1.4529 - val_loss: 1.6311\n",
            "Epoch 96/100\n",
            "1000/1000 [==============================] - 1s 1ms/step - loss: 1.3181 - val_loss: 1.8021\n",
            "Epoch 97/100\n",
            "1000/1000 [==============================] - 1s 1ms/step - loss: 1.3480 - val_loss: 1.7442\n",
            "Epoch 98/100\n",
            "1000/1000 [==============================] - 1s 1ms/step - loss: 1.4245 - val_loss: 1.6742\n",
            "Epoch 99/100\n",
            "1000/1000 [==============================] - 1s 1ms/step - loss: 1.3425 - val_loss: 1.6587\n",
            "Epoch 100/100\n",
            "1000/1000 [==============================] - 1s 1ms/step - loss: 1.3998 - val_loss: 1.5142\n"
          ],
          "name": "stdout"
        }
      ]
    },
    {
      "cell_type": "code",
      "metadata": {
        "id": "7EkkUIvJ47al",
        "colab_type": "code",
        "colab": {
          "base_uri": "https://localhost:8080/",
          "height": 282
        },
        "outputId": "7b28c446-5ae4-4d9b-bf84-2c84eb3bf844"
      },
      "source": [
        "tr_loss = history.history['loss']\n",
        "val_loss = history.history['val_loss']\n",
        "ep = list(range(1,101))\n",
        "plt.plot(ep,tr_loss,color='r')\n",
        "plt.plot(ep,val_loss,color='b')"
      ],
      "execution_count": 31,
      "outputs": [
        {
          "output_type": "execute_result",
          "data": {
            "text/plain": [
              "[<matplotlib.lines.Line2D at 0x7f7f33e5d390>]"
            ]
          },
          "metadata": {
            "tags": []
          },
          "execution_count": 31
        },
        {
          "output_type": "display_data",
          "data": {
            "image/png": "[encoded data removed]",
            "text/plain": [
              "<Figure size 432x288 with 1 Axes>"
            ]
          },
          "metadata": {
            "tags": [],
            "needs_background": "light"
          }
        }
      ]
    },
    {
      "cell_type": "code",
      "metadata": {
        "id": "grQ3geGE47YS",
        "colab_type": "code",
        "colab": {
          "base_uri": "https://localhost:8080/",
          "height": 1000
        },
        "outputId": "7d8f032f-c3e5-4c60-b4aa-81e772530776"
      },
      "source": [
        "model.predict(X_test_sc)"
      ],
      "execution_count": 32,
      "outputs": [
        {
          "output_type": "execute_result",
          "data": {
            "text/plain": [
              "array([[45.26286 ],\n",
              "       [45.492336],\n",
              "       [45.95493 ],\n",
              "       [46.37566 ],\n",
              "       [47.0527  ],\n",
              "       [47.178482],\n",
              "       [47.521206],\n",
              "       [47.475815],\n",
              "       [47.45361 ],\n",
              "       [47.32589 ],\n",
              "       [47.06014 ],\n",
              "       [46.7904  ],\n",
              "       [46.644146],\n",
              "       [46.619984],\n",
              "       [46.67817 ],\n",
              "       [46.984882],\n",
              "       [46.743885],\n",
              "       [46.90288 ],\n",
              "       [46.40601 ],\n",
              "       [45.920765],\n",
              "       [45.44994 ],\n",
              "       [44.629963],\n",
              "       [44.27075 ],\n",
              "       [43.482548],\n",
              "       [42.552708],\n",
              "       [42.076817],\n",
              "       [42.041794],\n",
              "       [42.11306 ],\n",
              "       [42.057194],\n",
              "       [41.509678],\n",
              "       [40.94864 ],\n",
              "       [40.9576  ],\n",
              "       [41.427357],\n",
              "       [41.868176],\n",
              "       [42.372528],\n",
              "       [42.504414],\n",
              "       [42.66786 ],\n",
              "       [42.647224],\n",
              "       [42.707394],\n",
              "       [42.136387],\n",
              "       [41.70776 ],\n",
              "       [41.609142],\n",
              "       [41.820004],\n",
              "       [42.208157],\n",
              "       [43.083908],\n",
              "       [43.861443],\n",
              "       [44.07137 ],\n",
              "       [44.27142 ],\n",
              "       [44.242336],\n",
              "       [44.458916],\n",
              "       [44.90234 ],\n",
              "       [45.294353],\n",
              "       [45.988087],\n",
              "       [46.507214],\n",
              "       [46.80466 ],\n",
              "       [45.992638],\n",
              "       [44.62998 ],\n",
              "       [43.193554],\n",
              "       [43.03175 ],\n",
              "       [43.520603],\n",
              "       [44.08329 ],\n",
              "       [44.50343 ],\n",
              "       [44.897957],\n",
              "       [45.94975 ],\n",
              "       [46.85101 ],\n",
              "       [47.20573 ],\n",
              "       [46.94251 ],\n",
              "       [46.852543],\n",
              "       [46.93253 ],\n",
              "       [46.42376 ],\n",
              "       [45.82703 ],\n",
              "       [45.427418],\n",
              "       [45.726627],\n",
              "       [46.350353],\n",
              "       [46.8629  ],\n",
              "       [47.53841 ],\n",
              "       [48.21321 ],\n",
              "       [48.45052 ],\n",
              "       [48.655197],\n",
              "       [48.879025],\n",
              "       [49.24147 ],\n",
              "       [49.601192],\n",
              "       [49.81618 ],\n",
              "       [50.253773],\n",
              "       [50.699875],\n",
              "       [50.70056 ],\n",
              "       [50.419155],\n",
              "       [50.058834],\n",
              "       [49.75223 ],\n",
              "       [49.532177],\n",
              "       [49.340443],\n",
              "       [49.4979  ],\n",
              "       [49.08491 ],\n",
              "       [48.969208],\n",
              "       [48.94977 ],\n",
              "       [48.93269 ],\n",
              "       [49.04111 ],\n",
              "       [48.96673 ],\n",
              "       [49.154385],\n",
              "       [49.409786],\n",
              "       [49.868153],\n",
              "       [50.191853],\n",
              "       [50.64945 ],\n",
              "       [51.1347  ],\n",
              "       [51.733894],\n",
              "       [52.01119 ],\n",
              "       [51.89671 ],\n",
              "       [52.324383],\n",
              "       [52.524784],\n",
              "       [52.86899 ],\n",
              "       [52.986267],\n",
              "       [52.830997],\n",
              "       [52.561874],\n",
              "       [52.26807 ],\n",
              "       [51.950184],\n",
              "       [51.585728],\n",
              "       [51.16986 ],\n",
              "       [51.00899 ],\n",
              "       [50.60228 ],\n",
              "       [50.55013 ],\n",
              "       [50.483498],\n",
              "       [50.685253],\n",
              "       [50.659702],\n",
              "       [50.685467],\n",
              "       [50.71459 ],\n",
              "       [50.6751  ],\n",
              "       [50.499287],\n",
              "       [50.15968 ],\n",
              "       [49.601925],\n",
              "       [49.11858 ],\n",
              "       [48.949192],\n",
              "       [48.848827],\n",
              "       [48.838   ],\n",
              "       [47.970085],\n",
              "       [47.059994],\n",
              "       [46.289486],\n",
              "       [45.845474],\n",
              "       [45.22791 ],\n",
              "       [44.325493],\n",
              "       [44.4343  ],\n",
              "       [44.760284],\n",
              "       [45.084557],\n",
              "       [44.986168],\n",
              "       [44.958176],\n",
              "       [45.190025],\n",
              "       [44.949593],\n",
              "       [44.808376],\n",
              "       [44.440964],\n",
              "       [44.173573],\n",
              "       [44.82159 ],\n",
              "       [45.690212],\n",
              "       [46.653603],\n",
              "       [46.862152],\n",
              "       [46.77043 ],\n",
              "       [46.29006 ],\n",
              "       [45.572277],\n",
              "       [45.41686 ],\n",
              "       [45.78312 ],\n",
              "       [46.571484],\n",
              "       [47.347492],\n",
              "       [47.76536 ],\n",
              "       [47.7038  ],\n",
              "       [47.731915],\n",
              "       [47.72031 ],\n",
              "       [47.889378],\n",
              "       [48.936558],\n",
              "       [49.781364],\n",
              "       [50.36616 ],\n",
              "       [50.803   ],\n",
              "       [50.784813],\n",
              "       [51.481533],\n",
              "       [51.833714],\n",
              "       [52.10484 ],\n",
              "       [52.2232  ],\n",
              "       [52.1077  ],\n",
              "       [51.971184],\n",
              "       [51.85002 ],\n",
              "       [51.62824 ],\n",
              "       [51.621586],\n",
              "       [51.334236],\n",
              "       [51.462925],\n",
              "       [51.24657 ],\n",
              "       [50.419933],\n",
              "       [49.408493],\n",
              "       [48.360817],\n",
              "       [47.55106 ],\n",
              "       [47.56283 ],\n",
              "       [47.654194],\n",
              "       [47.828228],\n",
              "       [47.853477],\n",
              "       [47.493877],\n",
              "       [47.161   ],\n",
              "       [46.63844 ],\n",
              "       [46.34554 ],\n",
              "       [46.157597],\n",
              "       [46.136658],\n",
              "       [46.654995],\n",
              "       [47.2825  ],\n",
              "       [47.680157],\n",
              "       [47.92886 ],\n",
              "       [48.320942],\n",
              "       [48.635468],\n",
              "       [48.846012],\n",
              "       [48.860615],\n",
              "       [49.075005],\n",
              "       [49.24754 ],\n",
              "       [49.816044],\n",
              "       [49.715443],\n",
              "       [49.934452],\n",
              "       [49.797253],\n",
              "       [49.814518],\n",
              "       [50.210503],\n",
              "       [50.54391 ],\n",
              "       [50.910862],\n",
              "       [50.85713 ],\n",
              "       [50.64961 ],\n",
              "       [50.464466],\n",
              "       [50.59741 ],\n",
              "       [50.893124],\n",
              "       [51.141582],\n",
              "       [51.416424],\n",
              "       [51.779926],\n",
              "       [51.967243],\n",
              "       [52.181393],\n",
              "       [52.14599 ],\n",
              "       [52.1206  ],\n",
              "       [51.95914 ],\n",
              "       [52.119   ],\n",
              "       [52.04448 ],\n",
              "       [52.139843],\n",
              "       [52.16148 ],\n",
              "       [52.028942],\n",
              "       [51.936176],\n",
              "       [52.304867],\n",
              "       [53.1845  ],\n",
              "       [54.159695],\n",
              "       [54.601566],\n",
              "       [54.868618],\n",
              "       [55.00613 ],\n",
              "       [55.035976],\n",
              "       [55.07082 ],\n",
              "       [55.11612 ],\n",
              "       [54.445595],\n",
              "       [53.64327 ],\n",
              "       [53.06563 ],\n",
              "       [52.46268 ],\n",
              "       [52.122257],\n",
              "       [52.55128 ],\n",
              "       [52.772106],\n",
              "       [52.48057 ],\n",
              "       [51.592754]], dtype=float32)"
            ]
          },
          "metadata": {
            "tags": []
          },
          "execution_count": 32
        }
      ]
    },
    {
      "cell_type": "code",
      "metadata": {
        "id": "e8_MyuxM47Wp",
        "colab_type": "code",
        "colab": {
          "base_uri": "https://localhost:8080/",
          "height": 282
        },
        "outputId": "281e00bb-746c-4b11-c38a-c5b13a40b827"
      },
      "source": [
        "plt.plot(range(len(X_test_sc)),model.predict(X_test_sc).flat)\n",
        "plt.plot(range(len(X_test_sc)),y_test)"
      ],
      "execution_count": 33,
      "outputs": [
        {
          "output_type": "execute_result",
          "data": {
            "text/plain": [
              "[<matplotlib.lines.Line2D at 0x7f7f330719e8>]"
            ]
          },
          "metadata": {
            "tags": []
          },
          "execution_count": 33
        },
        {
          "output_type": "display_data",
          "data": {
            "image/png": "[encoded data removed]",
            "text/plain": [
              "<Figure size 432x288 with 1 Axes>"
            ]
          },
          "metadata": {
            "tags": [],
            "needs_background": "light"
          }
        }
      ]
    },
    {
      "cell_type": "code",
      "metadata": {
        "id": "gRraqslS47Tb",
        "colab_type": "code",
        "colab": {
          "base_uri": "https://localhost:8080/",
          "height": 136
        },
        "outputId": "7e98eb82-3c8f-4c67-d6d9-cedc2d73d6d4"
      },
      "source": [
        "X_test_sc[0].reshape(1,7,1)"
      ],
      "execution_count": 34,
      "outputs": [
        {
          "output_type": "execute_result",
          "data": {
            "text/plain": [
              "array([[[0.83910218],\n",
              "        [0.77719701],\n",
              "        [0.75711333],\n",
              "        [0.75193205],\n",
              "        [0.7682191 ],\n",
              "        [0.86976278],\n",
              "        [0.85612661]]])"
            ]
          },
          "metadata": {
            "tags": []
          },
          "execution_count": 34
        }
      ]
    },
    {
      "cell_type": "code",
      "metadata": {
        "id": "5FKuNXW147RE",
        "colab_type": "code",
        "colab": {
          "base_uri": "https://localhost:8080/",
          "height": 34
        },
        "outputId": "e71af59d-6ac1-4a93-89c0-0c6d5fde5784"
      },
      "source": [
        "model.predict(X_test_sc[0].reshape(1,7,1))"
      ],
      "execution_count": 35,
      "outputs": [
        {
          "output_type": "execute_result",
          "data": {
            "text/plain": [
              "array([[45.262856]], dtype=float32)"
            ]
          },
          "metadata": {
            "tags": []
          },
          "execution_count": 35
        }
      ]
    },
    {
      "cell_type": "code",
      "metadata": {
        "id": "yn9It6bW5bXh",
        "colab_type": "code",
        "colab": {
          "base_uri": "https://localhost:8080/",
          "height": 34
        },
        "outputId": "a45e5913-bf7c-4fb6-ac62-faa44e857007"
      },
      "source": [
        "y_test[1000]"
      ],
      "execution_count": 36,
      "outputs": [
        {
          "output_type": "execute_result",
          "data": {
            "text/plain": [
              "45.06"
            ]
          },
          "metadata": {
            "tags": []
          },
          "execution_count": 36
        }
      ]
    },
    {
      "cell_type": "code",
      "metadata": {
        "id": "EG2kRXQ96jol",
        "colab_type": "code",
        "colab": {
          "base_uri": "https://localhost:8080/",
          "height": 255
        },
        "outputId": "f3bab2c5-480c-4ca8-cf3d-33028588002a"
      },
      "source": [
        "from keras.models import Sequential\n",
        "from keras.layers import Dense,Dropout,LSTM\n",
        "model2 = Sequential()\n",
        "# 256 cels\n",
        "model2.add(LSTM(256,input_shape=(7,1)))\n",
        "model2.add(Dropout(0.3))\n",
        "# single neuron\n",
        "model2.add(Dense(1))\n",
        "model2.summary()"
      ],
      "execution_count": 37,
      "outputs": [
        {
          "output_type": "stream",
          "text": [
            "Model: \"sequential_2\"\n",
            "_________________________________________________________________\n",
            "Layer (type)                 Output Shape              Param #   \n",
            "=================================================================\n",
            "lstm_2 (LSTM)                (None, 256)               264192    \n",
            "_________________________________________________________________\n",
            "dropout_1 (Dropout)          (None, 256)               0         \n",
            "_________________________________________________________________\n",
            "dense_2 (Dense)              (None, 1)                 257       \n",
            "=================================================================\n",
            "Total params: 264,449\n",
            "Trainable params: 264,449\n",
            "Non-trainable params: 0\n",
            "_________________________________________________________________\n"
          ],
          "name": "stdout"
        }
      ]
    },
    {
      "cell_type": "code",
      "metadata": {
        "id": "Oj_35oHg6jlE",
        "colab_type": "code",
        "colab": {}
      },
      "source": [
        "model2.compile(optimizer='adam',loss='mse')"
      ],
      "execution_count": 38,
      "outputs": []
    },
    {
      "cell_type": "code",
      "metadata": {
        "id": "eSXfWWwP6jiZ",
        "colab_type": "code",
        "colab": {
          "base_uri": "https://localhost:8080/",
          "height": 1000
        },
        "outputId": "e3de4447-11b2-4226-a170-36eaef5d0efe"
      },
      "source": [
        "history2 = model2.fit(X_train_sc,y_train,epochs=100,validation_data=(X_test_sc,y_test))"
      ],
      "execution_count": 39,
      "outputs": [
        {
          "output_type": "stream",
          "text": [
            "Train on 1000 samples, validate on 251 samples\n",
            "Epoch 1/100\n",
            "1000/1000 [==============================] - 2s 2ms/step - loss: 1003.8876 - val_loss: 579.4966\n",
            "Epoch 2/100\n",
            "1000/1000 [==============================] - 1s 1ms/step - loss: 222.3774 - val_loss: 266.2247\n",
            "Epoch 3/100\n",
            "1000/1000 [==============================] - 1s 1ms/step - loss: 120.3734 - val_loss: 181.1192\n",
            "Epoch 4/100\n",
            "1000/1000 [==============================] - 1s 1ms/step - loss: 115.1568 - val_loss: 163.9541\n",
            "Epoch 5/100\n",
            "1000/1000 [==============================] - 1s 1ms/step - loss: 114.6325 - val_loss: 163.5762\n",
            "Epoch 6/100\n",
            "1000/1000 [==============================] - 1s 1ms/step - loss: 113.3601 - val_loss: 159.2378\n",
            "Epoch 7/100\n",
            "1000/1000 [==============================] - 1s 1ms/step - loss: 106.3553 - val_loss: 154.5261\n",
            "Epoch 8/100\n",
            "1000/1000 [==============================] - 1s 1ms/step - loss: 44.0924 - val_loss: 89.9159\n",
            "Epoch 9/100\n",
            "1000/1000 [==============================] - 1s 1ms/step - loss: 18.9703 - val_loss: 50.4650\n",
            "Epoch 10/100\n",
            "1000/1000 [==============================] - 1s 1ms/step - loss: 13.6245 - val_loss: 32.9623\n",
            "Epoch 11/100\n",
            "1000/1000 [==============================] - 1s 1ms/step - loss: 11.5793 - val_loss: 24.6077\n",
            "Epoch 12/100\n",
            "1000/1000 [==============================] - 1s 1ms/step - loss: 9.7236 - val_loss: 19.5714\n",
            "Epoch 13/100\n",
            "1000/1000 [==============================] - 1s 1ms/step - loss: 9.8712 - val_loss: 15.9782\n",
            "Epoch 14/100\n",
            "1000/1000 [==============================] - 1s 1ms/step - loss: 8.5873 - val_loss: 13.4249\n",
            "Epoch 15/100\n",
            "1000/1000 [==============================] - 1s 994us/step - loss: 8.8760 - val_loss: 11.9472\n",
            "Epoch 16/100\n",
            "1000/1000 [==============================] - 1s 1ms/step - loss: 7.9921 - val_loss: 9.9379\n",
            "Epoch 17/100\n",
            "1000/1000 [==============================] - 1s 1ms/step - loss: 8.1047 - val_loss: 9.2827\n",
            "Epoch 18/100\n",
            "1000/1000 [==============================] - 1s 1ms/step - loss: 7.5150 - val_loss: 8.6573\n",
            "Epoch 19/100\n",
            "1000/1000 [==============================] - 1s 990us/step - loss: 7.3321 - val_loss: 10.7363\n",
            "Epoch 20/100\n",
            "1000/1000 [==============================] - 1s 1ms/step - loss: 9.1472 - val_loss: 7.8560\n",
            "Epoch 21/100\n",
            "1000/1000 [==============================] - 1s 1ms/step - loss: 7.5026 - val_loss: 7.6622\n",
            "Epoch 22/100\n",
            "1000/1000 [==============================] - 1s 1ms/step - loss: 7.9536 - val_loss: 7.6081\n",
            "Epoch 23/100\n",
            "1000/1000 [==============================] - 1s 1ms/step - loss: 7.4144 - val_loss: 8.2835\n",
            "Epoch 24/100\n",
            "1000/1000 [==============================] - 1s 992us/step - loss: 7.8189 - val_loss: 10.7637\n",
            "Epoch 25/100\n",
            "1000/1000 [==============================] - 1s 1ms/step - loss: 8.0467 - val_loss: 7.0784\n",
            "Epoch 26/100\n",
            "1000/1000 [==============================] - 1s 990us/step - loss: 7.6438 - val_loss: 6.4414\n",
            "Epoch 27/100\n",
            "1000/1000 [==============================] - 1s 993us/step - loss: 7.3305 - val_loss: 6.5696\n",
            "Epoch 28/100\n",
            "1000/1000 [==============================] - 1s 1ms/step - loss: 7.2860 - val_loss: 9.0245\n",
            "Epoch 29/100\n",
            "1000/1000 [==============================] - 1s 1ms/step - loss: 7.4670 - val_loss: 6.3665\n",
            "Epoch 30/100\n",
            "1000/1000 [==============================] - 1s 1ms/step - loss: 7.1721 - val_loss: 6.1139\n",
            "Epoch 31/100\n",
            "1000/1000 [==============================] - 1s 1ms/step - loss: 7.6738 - val_loss: 6.1857\n",
            "Epoch 32/100\n",
            "1000/1000 [==============================] - 1s 1ms/step - loss: 7.1764 - val_loss: 7.0674\n",
            "Epoch 33/100\n",
            "1000/1000 [==============================] - 1s 1ms/step - loss: 7.0241 - val_loss: 6.2333\n",
            "Epoch 34/100\n",
            "1000/1000 [==============================] - 1s 1ms/step - loss: 7.0522 - val_loss: 6.2694\n",
            "Epoch 35/100\n",
            "1000/1000 [==============================] - 1s 990us/step - loss: 6.7477 - val_loss: 6.4021\n",
            "Epoch 36/100\n",
            "1000/1000 [==============================] - 1s 1ms/step - loss: 6.9942 - val_loss: 6.5420\n",
            "Epoch 37/100\n",
            "1000/1000 [==============================] - 1s 1ms/step - loss: 7.3543 - val_loss: 6.0309\n",
            "Epoch 38/100\n",
            "1000/1000 [==============================] - 1s 1ms/step - loss: 6.5809 - val_loss: 5.7433\n",
            "Epoch 39/100\n",
            "1000/1000 [==============================] - 1s 1ms/step - loss: 7.5103 - val_loss: 6.2627\n",
            "Epoch 40/100\n",
            "1000/1000 [==============================] - 1s 1ms/step - loss: 7.4470 - val_loss: 5.9919\n",
            "Epoch 41/100\n",
            "1000/1000 [==============================] - 1s 1ms/step - loss: 7.3034 - val_loss: 6.0056\n",
            "Epoch 42/100\n",
            "1000/1000 [==============================] - 1s 1ms/step - loss: 6.6416 - val_loss: 5.7711\n",
            "Epoch 43/100\n",
            "1000/1000 [==============================] - 1s 1ms/step - loss: 7.2822 - val_loss: 6.0892\n",
            "Epoch 44/100\n",
            "1000/1000 [==============================] - 1s 1ms/step - loss: 6.8006 - val_loss: 5.8472\n",
            "Epoch 45/100\n",
            "1000/1000 [==============================] - 1s 1000us/step - loss: 6.6872 - val_loss: 5.8905\n",
            "Epoch 46/100\n",
            "1000/1000 [==============================] - 1s 1ms/step - loss: 6.4484 - val_loss: 6.0396\n",
            "Epoch 47/100\n",
            "1000/1000 [==============================] - 1s 1ms/step - loss: 6.0425 - val_loss: 5.0533\n",
            "Epoch 48/100\n",
            "1000/1000 [==============================] - 1s 1ms/step - loss: 6.3324 - val_loss: 5.2175\n",
            "Epoch 49/100\n",
            "1000/1000 [==============================] - 1s 1ms/step - loss: 6.4695 - val_loss: 4.7655\n",
            "Epoch 50/100\n",
            "1000/1000 [==============================] - 1s 992us/step - loss: 5.9739 - val_loss: 4.9927\n",
            "Epoch 51/100\n",
            "1000/1000 [==============================] - 1s 1ms/step - loss: 5.9205 - val_loss: 7.5634\n",
            "Epoch 52/100\n",
            "1000/1000 [==============================] - 1s 1ms/step - loss: 6.3666 - val_loss: 5.9288\n",
            "Epoch 53/100\n",
            "1000/1000 [==============================] - 1s 1ms/step - loss: 5.5586 - val_loss: 4.9996\n",
            "Epoch 54/100\n",
            "1000/1000 [==============================] - 1s 995us/step - loss: 6.1715 - val_loss: 5.1919\n",
            "Epoch 55/100\n",
            "1000/1000 [==============================] - 1s 999us/step - loss: 5.6391 - val_loss: 5.6105\n",
            "Epoch 56/100\n",
            "1000/1000 [==============================] - 1s 996us/step - loss: 5.6125 - val_loss: 4.5804\n",
            "Epoch 57/100\n",
            "1000/1000 [==============================] - 1s 1ms/step - loss: 5.4263 - val_loss: 5.5266\n",
            "Epoch 58/100\n",
            "1000/1000 [==============================] - 1s 1ms/step - loss: 5.5148 - val_loss: 5.9710\n",
            "Epoch 59/100\n",
            "1000/1000 [==============================] - 1s 1ms/step - loss: 5.8631 - val_loss: 11.1939\n",
            "Epoch 60/100\n",
            "1000/1000 [==============================] - 1s 1ms/step - loss: 5.7151 - val_loss: 3.7251\n",
            "Epoch 61/100\n",
            "1000/1000 [==============================] - 1s 1ms/step - loss: 4.7713 - val_loss: 3.4578\n",
            "Epoch 62/100\n",
            "1000/1000 [==============================] - 1s 1ms/step - loss: 5.7285 - val_loss: 12.2978\n",
            "Epoch 63/100\n",
            "1000/1000 [==============================] - 1s 998us/step - loss: 6.5507 - val_loss: 4.1061\n",
            "Epoch 64/100\n",
            "1000/1000 [==============================] - 1s 989us/step - loss: 5.7272 - val_loss: 3.6632\n",
            "Epoch 65/100\n",
            "1000/1000 [==============================] - 1s 997us/step - loss: 5.0376 - val_loss: 3.4891\n",
            "Epoch 66/100\n",
            "1000/1000 [==============================] - 1s 1ms/step - loss: 4.7226 - val_loss: 3.3388\n",
            "Epoch 67/100\n",
            "1000/1000 [==============================] - 1s 1ms/step - loss: 5.0057 - val_loss: 4.2029\n",
            "Epoch 68/100\n",
            "1000/1000 [==============================] - 1s 1ms/step - loss: 5.1423 - val_loss: 3.2047\n",
            "Epoch 69/100\n",
            "1000/1000 [==============================] - 1s 1ms/step - loss: 5.0114 - val_loss: 3.1195\n",
            "Epoch 70/100\n",
            "1000/1000 [==============================] - 1s 1ms/step - loss: 5.4959 - val_loss: 4.0062\n",
            "Epoch 71/100\n",
            "1000/1000 [==============================] - 1s 1ms/step - loss: 4.9088 - val_loss: 4.3010\n",
            "Epoch 72/100\n",
            "1000/1000 [==============================] - 1s 1ms/step - loss: 5.4643 - val_loss: 5.5234\n",
            "Epoch 73/100\n",
            "1000/1000 [==============================] - 1s 1ms/step - loss: 4.7253 - val_loss: 3.4314\n",
            "Epoch 74/100\n",
            "1000/1000 [==============================] - 1s 1ms/step - loss: 4.5508 - val_loss: 4.1456\n",
            "Epoch 75/100\n",
            "1000/1000 [==============================] - 1s 1ms/step - loss: 4.5049 - val_loss: 3.7024\n",
            "Epoch 76/100\n",
            "1000/1000 [==============================] - 1s 1ms/step - loss: 4.6049 - val_loss: 2.7572\n",
            "Epoch 77/100\n",
            "1000/1000 [==============================] - 1s 1ms/step - loss: 5.3058 - val_loss: 3.3837\n",
            "Epoch 78/100\n",
            "1000/1000 [==============================] - 1s 995us/step - loss: 4.8348 - val_loss: 2.6494\n",
            "Epoch 79/100\n",
            "1000/1000 [==============================] - 1s 993us/step - loss: 4.4267 - val_loss: 2.5792\n",
            "Epoch 80/100\n",
            "1000/1000 [==============================] - 1s 1ms/step - loss: 4.6430 - val_loss: 4.3618\n",
            "Epoch 81/100\n",
            "1000/1000 [==============================] - 1s 1ms/step - loss: 4.7966 - val_loss: 4.9533\n",
            "Epoch 82/100\n",
            "1000/1000 [==============================] - 1s 1ms/step - loss: 4.7300 - val_loss: 2.7001\n",
            "Epoch 83/100\n",
            "1000/1000 [==============================] - 1s 1ms/step - loss: 4.4382 - val_loss: 2.7447\n",
            "Epoch 84/100\n",
            "1000/1000 [==============================] - 1s 994us/step - loss: 4.7664 - val_loss: 2.2993\n",
            "Epoch 85/100\n",
            "1000/1000 [==============================] - 1s 1ms/step - loss: 4.7504 - val_loss: 3.0155\n",
            "Epoch 86/100\n",
            "1000/1000 [==============================] - 1s 1ms/step - loss: 4.2502 - val_loss: 2.6402\n",
            "Epoch 87/100\n",
            "1000/1000 [==============================] - 1s 1ms/step - loss: 4.3908 - val_loss: 2.7053\n",
            "Epoch 88/100\n",
            "1000/1000 [==============================] - 1s 1ms/step - loss: 4.4767 - val_loss: 3.7511\n",
            "Epoch 89/100\n",
            "1000/1000 [==============================] - 1s 993us/step - loss: 4.4320 - val_loss: 2.5559\n",
            "Epoch 90/100\n",
            "1000/1000 [==============================] - 1s 1ms/step - loss: 4.5895 - val_loss: 4.5008\n",
            "Epoch 91/100\n",
            "1000/1000 [==============================] - 1s 1ms/step - loss: 4.7835 - val_loss: 3.3717\n",
            "Epoch 92/100\n",
            "1000/1000 [==============================] - 1s 1ms/step - loss: 4.4519 - val_loss: 2.3362\n",
            "Epoch 93/100\n",
            "1000/1000 [==============================] - 1s 1ms/step - loss: 4.2667 - val_loss: 2.3099\n",
            "Epoch 94/100\n",
            "1000/1000 [==============================] - 1s 991us/step - loss: 4.7089 - val_loss: 1.9724\n",
            "Epoch 95/100\n",
            "1000/1000 [==============================] - 1s 1ms/step - loss: 4.2219 - val_loss: 2.7766\n",
            "Epoch 96/100\n",
            "1000/1000 [==============================] - 1s 1ms/step - loss: 4.2528 - val_loss: 3.1711\n",
            "Epoch 97/100\n",
            "1000/1000 [==============================] - 1s 1ms/step - loss: 4.1538 - val_loss: 2.0310\n",
            "Epoch 98/100\n",
            "1000/1000 [==============================] - 1s 1ms/step - loss: 3.9500 - val_loss: 1.8777\n",
            "Epoch 99/100\n",
            "1000/1000 [==============================] - 1s 981us/step - loss: 4.0016 - val_loss: 2.0301\n",
            "Epoch 100/100\n",
            "1000/1000 [==============================] - 1s 1ms/step - loss: 4.0311 - val_loss: 1.9324\n"
          ],
          "name": "stdout"
        }
      ]
    },
    {
      "cell_type": "code",
      "metadata": {
        "id": "_DvEFPSm6jgM",
        "colab_type": "code",
        "colab": {
          "base_uri": "https://localhost:8080/",
          "height": 282
        },
        "outputId": "3c9dad6a-6f12-4b44-dd33-d6fd4370568c"
      },
      "source": [
        "tr_loss = history2.history['loss']\n",
        "val_loss = history2.history['val_loss']\n",
        "ep = list(range(1,101))\n",
        "plt.plot(ep,tr_loss,color='r')\n",
        "plt.plot(ep,val_loss,color='b')"
      ],
      "execution_count": 40,
      "outputs": [
        {
          "output_type": "execute_result",
          "data": {
            "text/plain": [
              "[<matplotlib.lines.Line2D at 0x7f7f32d216d8>]"
            ]
          },
          "metadata": {
            "tags": []
          },
          "execution_count": 40
        },
        {
          "output_type": "display_data",
          "data": {
            "image/png": "[encoded data removed]",
            "text/plain": [
              "<Figure size 432x288 with 1 Axes>"
            ]
          },
          "metadata": {
            "tags": [],
            "needs_background": "light"
          }
        }
      ]
    },
    {
      "cell_type": "markdown",
      "metadata": {
        "id": "ULGqPbie66D7",
        "colab_type": "text"
      },
      "source": [
        "**Get the data**\n",
        "\n",
        "**what is the target**\n",
        "\n",
        "**Take the target and observe downtrend or uptrend**\n",
        "\n",
        "**Create input(features) and ouputs(target)**\n",
        "\n",
        "**Train_test_split**\n",
        "\n",
        "**Apply scaling if it required**\n",
        "\n",
        "**Reshape the inputs**\n",
        "\n",
        "**Create a Model**\n",
        "\n",
        "**Compile the model with the proper optimizer and loss**\n",
        "\n",
        "**Metrics =['mse','mae']**\n",
        "\n",
        "**Evaluate the model with test data**\n",
        "\n",
        "**compare the results**\n",
        "\n",
        "**Check for overfitting and underfitting**\n",
        "\n",
        "**If It is an overfitted model apply dropout or check another model**\n",
        "\n",
        "**Check raw data**"
      ]
    }
  ]
}