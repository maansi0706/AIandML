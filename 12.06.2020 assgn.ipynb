{
 "cells": [
  {
   "cell_type": "markdown",
   "metadata": {},
   "source": [
    "# CSE-221710310017-GAJJALA MAANSI"
   ]
  },
  {
   "cell_type": "markdown",
   "metadata": {},
   "source": [
    "## Code Chef"
   ]
  },
  {
   "cell_type": "markdown",
   "metadata": {},
   "source": [
    "### Question 8:\n",
    "The groups_per_user function receives a dictionary.which contains group names with the list of users.Users can belong to multiple groups.Return a dictionary with the users as keys and a list of their groups as values.\n",
    "\n",
    "Input : {\"local\":[\"admin\",\"userA\"],\"public\":[\"admin\",\"userB\"],\"administrator\":[\"admin\"]} Output : {'admin': ['local', 'public', 'administrator'], 'userA': ['local'], 'userB': ['public']}"
   ]
  },
  {
   "cell_type": "code",
   "execution_count": 1,
   "metadata": {},
   "outputs": [],
   "source": [
    "import json"
   ]
  },
  {
   "cell_type": "code",
   "execution_count": 2,
   "metadata": {},
   "outputs": [
    {
     "name": "stdout",
     "output_type": "stream",
     "text": [
      "{\"local\":[\"admin\",\"userA\"],\"public\":[\"admin\",\"userB\"],\"administrator\":[\"admin\"]} \n",
      "{'admin': ['local', 'public', 'administrator'], 'userA': ['local'], 'userB': ['public']}\n"
     ]
    }
   ],
   "source": [
    "s=input()\n",
    "s=json.loads(s)\n",
    "s1={}\n",
    "s2=[]\n",
    "for i,j in s.items():\n",
    "    for k in j:\n",
    "        s1[k]=[]\n",
    "for i,j in s.items():\n",
    "    for k in j:\n",
    "        s1[k].append(i)    \n",
    "\n",
    "print(s1)"
   ]
  },
  {
   "cell_type": "markdown",
   "metadata": {},
   "source": [
    "### Question 9:\n",
    "Input : london 40000 12,chicago 60000 20,munich 50000 15,paris 70000 5\n",
    "Output : paris munich\n",
    "\n",
    "City population no.of hospitals\n",
    "\n",
    "London 40000 12\n",
    "\n",
    "Chicago 60000 20\n",
    "\n",
    "Munich 50000 15\n",
    "\n",
    "Paris 70000 5"
   ]
  },
  {
   "cell_type": "code",
   "execution_count": 1,
   "metadata": {},
   "outputs": [
    {
     "name": "stdout",
     "output_type": "stream",
     "text": [
      " london 40000 12,chicago 60000 20,munich 50000 15,paris 70000 5\n",
      "[' london 40000 12', 'chicago 60000 20', 'munich 50000 15', 'paris 70000 5']\n",
      "paris munich "
     ]
    }
   ],
   "source": [
    "s=input()\n",
    "s1=s.split(',')\n",
    "print(s1)\n",
    "a={}\n",
    "b={}\n",
    "al=[]\n",
    "bl=[]\n",
    "for i in s1:\n",
    "    a1=list(i.split())\n",
    "    a[a1[0]]=int(a1[1])\n",
    "    b[a1[0]]=int(a1[2])\n",
    "a1 = sorted(a.items(), key=lambda x: x[1],reverse=True)\n",
    "b1 = sorted(b.items(), key=lambda x: x[1])\n",
    "for i in a1:\n",
    "    al.append(i[0])\n",
    "for i in b1:\n",
    "    bl.append(i[0])\n",
    "for i in range(0,len(a1)):\n",
    "    if(al[i]==bl[i]):\n",
    "        print(al[i],end=\" \")"
   ]
  },
  {
   "cell_type": "markdown",
   "metadata": {},
   "source": [
    "### Question 10:\n",
    "Jug Filling Problem\n",
    "Problem statement:\n",
    "“Given two empty jugs with 3 and 5 liter capacities and a full jug with 8 liters, find a sequence of pours leaving four liters in the two largest jugs.”"
   ]
  },
  {
   "cell_type": "code",
   "execution_count": 17,
   "metadata": {},
   "outputs": [
    {
     "name": "stdout",
     "output_type": "stream",
     "text": [
      "[(8, 0, 0), (3, 5, 0), (0, 5, 3), (5, 0, 3), (5, 3, 0), (2, 3, 3), (2, 5, 1), (7, 0, 1), (7, 1, 0), (4, 1, 3), (4, 4, 0)]\n",
      "11\n"
     ]
    }
   ],
   "source": [
    "capacity = (8,5,3)\n",
    "x = capacity[0]\n",
    "y = capacity[1]\n",
    "z = capacity[2]\n",
    "memory = {}\n",
    "ans = []\n",
    "\n",
    "def get_all_states(state):\n",
    "a = state[0]\n",
    "b = state[1]\n",
    "c = state[2]\n",
    "\n",
    "  if(a==4 and b==4):\n",
    "    ans.append(state)\n",
    "    return True\n",
    "\n",
    "  if((a,b,c) in memory):\n",
    "    return False\n",
    "\n",
    "memory[(a,b,c)] = 1\n",
    "  if(a>0):\n",
    "    if(a+b<=y):\n",
    "        if(get_all_states((0,a+b,c))):\n",
    "            ans.append(state)\n",
    "            return True\n",
    "    else:\n",
    "        if(get_all_states((a-(y-b), y, c))):\n",
    "            ans.append(state)\n",
    "            return True\n",
    "    if(a+c<=z):\n",
    "        if(get_all_states((0,b,a+c))):\n",
    "            ans.append(state)\n",
    "            return True\n",
    "    else:\n",
    "        if(get_all_states((a-(z-c), b, z))):\n",
    "            ans.append(state)\n",
    "            return True\n",
    "    if(b>0):\n",
    "        if(a+b<=x):\n",
    "            if(get_all_states((a+b, 0, c))):\n",
    "                ans.append(state)\n",
    "                return True\n",
    "    else:\n",
    "        if(get_all_states((x, b-(x-a), c))):\n",
    "            ans.append(state)\n",
    "            return True\n",
    "    if(b+c<=z):\n",
    "        if(get_all_states((a, 0, b+c))):\n",
    "            ans.append(state)\n",
    "            return True\n",
    "    else:\n",
    "        if(get_all_states((a, b-(z-c), z))):\n",
    "            ans.append(state)\n",
    "            return True\n",
    "    if(c>0):\n",
    "        if(a+c<=x):\n",
    "            if(get_all_states((a+c, b, 0))):\n",
    "            ans.append(state)\n",
    "            return True\n",
    "    else:\n",
    "        if(get_all_states((x, b, c-(x-a)))):\n",
    "            ans.append(state)\n",
    "            return True\n",
    "    if(b+c<=y):\n",
    "        if(get_all_states((a, b+c, 0))):\n",
    "            ans.append(state)\n",
    "            return True\n",
    "    else:\n",
    "        if(get_all_states((a, y, c-(y-b)))):\n",
    "            ans.append(state)\n",
    "            return True\n",
    "\n",
    "    return False\n",
    "\n",
    "initial_state = (8,0,0)\n",
    "get_all_states(initial_state)\n",
    "ans.reverse()\n",
    "print(ans)\n",
    "print(len(ans))"
   ]
  }
 ],
 "metadata": {
  "kernelspec": {
   "display_name": "Python 3",
   "language": "python",
   "name": "python3"
  },
  "language_info": {
   "codemirror_mode": {
    "name": "ipython",
    "version": 3
   },
   "file_extension": ".py",
   "mimetype": "text/x-python",
   "name": "python",
   "nbconvert_exporter": "python",
   "pygments_lexer": "ipython3",
   "version": "3.7.6"
  }
 },
 "nbformat": 4,
 "nbformat_minor": 4
}
