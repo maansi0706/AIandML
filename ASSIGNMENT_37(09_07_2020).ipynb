{
  "nbformat": 4,
  "nbformat_minor": 0,
  "metadata": {
    "colab": {
      "name": "ASSIGNMENT 37(09.07.2020).ipynb",
      "provenance": []
    },
    "kernelspec": {
      "name": "python3",
      "display_name": "Python 3"
    }
  },
  "cells": [
    {
      "cell_type": "code",
      "metadata": {
        "id": "Nb4XbYdYfbCC",
        "colab_type": "code",
        "colab": {}
      },
      "source": [
        "import tensorflow as tf\n",
        "import tensorflow.keras as keras\n",
        "import numpy as np\n",
        "import matplotlib.pyplot as plt\n",
        "%matplotlib inline"
      ],
      "execution_count": 1,
      "outputs": []
    },
    {
      "cell_type": "code",
      "metadata": {
        "id": "VOPjznWOfqzN",
        "colab_type": "code",
        "colab": {
          "base_uri": "https://localhost:8080/",
          "height": 34
        },
        "outputId": "5b1a7572-cf85-43d4-dc32-83a83315a329"
      },
      "source": [
        "from keras.datasets.mnist import load_data\n"
      ],
      "execution_count": 2,
      "outputs": [
        {
          "output_type": "stream",
          "text": [
            "Using TensorFlow backend.\n"
          ],
          "name": "stderr"
        }
      ]
    },
    {
      "cell_type": "code",
      "metadata": {
        "id": "EVXBJTzLf2q-",
        "colab_type": "code",
        "colab": {
          "base_uri": "https://localhost:8080/",
          "height": 84
        },
        "outputId": "1b0ef5e5-92b3-4b2f-de45-1eea72c7b105"
      },
      "source": [
        "(train_digits,train_labels),(test_digits,test_labels)=load_data()\n",
        "print(train_digits.shape)\n",
        "print(test_digits.shape)"
      ],
      "execution_count": 3,
      "outputs": [
        {
          "output_type": "stream",
          "text": [
            "Downloading data from https://s3.amazonaws.com/img-datasets/mnist.npz\n",
            "11493376/11490434 [==============================] - 0s 0us/step\n",
            "(60000, 28, 28)\n",
            "(10000, 28, 28)\n"
          ],
          "name": "stdout"
        }
      ]
    },
    {
      "cell_type": "code",
      "metadata": {
        "id": "JUVVL6sTf5Re",
        "colab_type": "code",
        "colab": {
          "base_uri": "https://localhost:8080/",
          "height": 218
        },
        "outputId": "ac06f98a-829d-466f-e91c-cbb8a9402c0e"
      },
      "source": [
        "import pandas as pd\n",
        "pd.Series(train_labels).value_counts"
      ],
      "execution_count": 4,
      "outputs": [
        {
          "output_type": "execute_result",
          "data": {
            "text/plain": [
              "<bound method IndexOpsMixin.value_counts of 0        5\n",
              "1        0\n",
              "2        4\n",
              "3        1\n",
              "4        9\n",
              "        ..\n",
              "59995    8\n",
              "59996    3\n",
              "59997    5\n",
              "59998    6\n",
              "59999    8\n",
              "Length: 60000, dtype: uint8>"
            ]
          },
          "metadata": {
            "tags": []
          },
          "execution_count": 4
        }
      ]
    },
    {
      "cell_type": "code",
      "metadata": {
        "id": "f5mO4mQ8gHCB",
        "colab_type": "code",
        "colab": {
          "base_uri": "https://localhost:8080/",
          "height": 218
        },
        "outputId": "1bb439fc-0859-48ef-96fe-42792f96e783"
      },
      "source": [
        "pd.Series(test_labels).value_counts\n"
      ],
      "execution_count": 5,
      "outputs": [
        {
          "output_type": "execute_result",
          "data": {
            "text/plain": [
              "<bound method IndexOpsMixin.value_counts of 0       7\n",
              "1       2\n",
              "2       1\n",
              "3       0\n",
              "4       4\n",
              "       ..\n",
              "9995    2\n",
              "9996    3\n",
              "9997    4\n",
              "9998    5\n",
              "9999    6\n",
              "Length: 10000, dtype: uint8>"
            ]
          },
          "metadata": {
            "tags": []
          },
          "execution_count": 5
        }
      ]
    },
    {
      "cell_type": "code",
      "metadata": {
        "id": "1SfbyHLzgJfD",
        "colab_type": "code",
        "colab": {
          "base_uri": "https://localhost:8080/",
          "height": 282
        },
        "outputId": "6460d0ac-4d14-49cc-af13-b7daa338b5a4"
      },
      "source": [
        "plt.imshow(train_digits[0])\n",
        "\n"
      ],
      "execution_count": 6,
      "outputs": [
        {
          "output_type": "execute_result",
          "data": {
            "text/plain": [
              "<matplotlib.image.AxesImage at 0x7f4acd7f1128>"
            ]
          },
          "metadata": {
            "tags": []
          },
          "execution_count": 6
        },
        {
          "output_type": "display_data",
          "data": {
            "image/png": "[encoded data removed]",
            "text/plain": [
              "<Figure size 432x288 with 1 Axes>"
            ]
          },
          "metadata": {
            "tags": [],
            "needs_background": "light"
          }
        }
      ]
    },
    {
      "cell_type": "code",
      "metadata": {
        "id": "lAh4HxC3gL-j",
        "colab_type": "code",
        "colab": {
          "base_uri": "https://localhost:8080/",
          "height": 298
        },
        "outputId": "7adf5b3d-0c93-4f3c-acdf-860a0066a774"
      },
      "source": [
        "\n",
        "plt.title(\"Digit:\"+str(train_labels[0]))\n",
        "plt.imshow(train_digits[0],cmap=\"gray\")"
      ],
      "execution_count": 7,
      "outputs": [
        {
          "output_type": "execute_result",
          "data": {
            "text/plain": [
              "<matplotlib.image.AxesImage at 0x7f4acd771278>"
            ]
          },
          "metadata": {
            "tags": []
          },
          "execution_count": 7
        },
        {
          "output_type": "display_data",
          "data": {
            "image/png": "[encoded data removed]",
            "text/plain": [
              "<Figure size 432x288 with 1 Axes>"
            ]
          },
          "metadata": {
            "tags": [],
            "needs_background": "light"
          }
        }
      ]
    },
    {
      "cell_type": "code",
      "metadata": {
        "id": "kNHc0qm5gOqj",
        "colab_type": "code",
        "colab": {
          "base_uri": "https://localhost:8080/",
          "height": 265
        },
        "outputId": "5feddac8-ff23-46d1-e6c1-0c723873ba65"
      },
      "source": [
        "plt.hist(train_digits[0])\n",
        "plt.show()"
      ],
      "execution_count": 8,
      "outputs": [
        {
          "output_type": "display_data",
          "data": {
            "image/png": "[encoded data removed]",
            "text/plain": [
              "<Figure size 432x288 with 1 Axes>"
            ]
          },
          "metadata": {
            "tags": [],
            "needs_background": "light"
          }
        }
      ]
    },
    {
      "cell_type": "code",
      "metadata": {
        "id": "5aYKy8HFgRML",
        "colab_type": "code",
        "colab": {
          "base_uri": "https://localhost:8080/",
          "height": 50
        },
        "outputId": "f84a878c-ee8d-445d-f771-97529f78c72b"
      },
      "source": [
        "samp=np.random.randint(train_digits.shape[0],size=16)\n",
        "samp"
      ],
      "execution_count": 9,
      "outputs": [
        {
          "output_type": "execute_result",
          "data": {
            "text/plain": [
              "array([23034, 28757,  5609, 17129, 44270,  1915, 16852, 39144, 21324,\n",
              "        8096, 51966, 31300, 21378,   232, 45048, 58307])"
            ]
          },
          "metadata": {
            "tags": []
          },
          "execution_count": 9
        }
      ]
    },
    {
      "cell_type": "code",
      "metadata": {
        "id": "5Ro2XP8KgTv3",
        "colab_type": "code",
        "colab": {
          "base_uri": "https://localhost:8080/",
          "height": 917
        },
        "outputId": "4e412a4d-37e5-48e6-aa3e-fa6358bbd774"
      },
      "source": [
        "plt.figure(figsize=(16,16))\n",
        "j=1\n",
        "for i in samp:\n",
        "  plt.subplot(4,4,j)\n",
        "  plt.imshow(train_digits[i])\n",
        "  plt.title(\"Digit:\"+str(train_labels[i]))\n",
        "  plt.axis(\"off\")\n",
        "  j=j+1"
      ],
      "execution_count": 10,
      "outputs": [
        {
          "output_type": "display_data",
          "data": {
            "image/png": "[encoded data removed]",
            "text/plain": [
              "<Figure size 1152x1152 with 16 Axes>"
            ]
          },
          "metadata": {
            "tags": [],
            "needs_background": "light"
          }
        }
      ]
    },
    {
      "cell_type": "code",
      "metadata": {
        "id": "vdJTEaHxgWf5",
        "colab_type": "code",
        "colab": {}
      },
      "source": [
        "train_digits_sc=train_digits/255.0\n",
        "test_digits_sc=test_digits/255.0"
      ],
      "execution_count": 11,
      "outputs": []
    },
    {
      "cell_type": "code",
      "metadata": {
        "id": "TZznORs8gaoU",
        "colab_type": "code",
        "colab": {}
      },
      "source": [
        "from keras.utils import to_categorical\n"
      ],
      "execution_count": 12,
      "outputs": []
    },
    {
      "cell_type": "code",
      "metadata": {
        "id": "yXUMZRuugcz6",
        "colab_type": "code",
        "colab": {}
      },
      "source": [
        "train_labels_cat=to_categorical(train_labels)\n"
      ],
      "execution_count": 13,
      "outputs": []
    },
    {
      "cell_type": "code",
      "metadata": {
        "id": "SL718WO6gfkb",
        "colab_type": "code",
        "colab": {}
      },
      "source": [
        "test_labels_cat=to_categorical(test_labels)\n"
      ],
      "execution_count": 14,
      "outputs": []
    },
    {
      "cell_type": "code",
      "metadata": {
        "id": "gqOtRz-5ghuM",
        "colab_type": "code",
        "colab": {
          "base_uri": "https://localhost:8080/",
          "height": 84
        },
        "outputId": "74edc496-60d3-4925-9738-7ae485dbd7ad"
      },
      "source": [
        "from sklearn.model_selection import train_test_split\n",
        "x_train,x_val,y_train,y_val=train_test_split(train_digits_sc,train_labels_cat,test_size=0.1,random_state=32)\n",
        "print(x_train.shape)\n",
        "print(x_val.shape)\n",
        "print(y_train.shape)\n",
        "print(y_val.shape)"
      ],
      "execution_count": 15,
      "outputs": [
        {
          "output_type": "stream",
          "text": [
            "(54000, 28, 28)\n",
            "(6000, 28, 28)\n",
            "(54000, 10)\n",
            "(6000, 10)\n"
          ],
          "name": "stdout"
        }
      ]
    },
    {
      "cell_type": "code",
      "metadata": {
        "id": "OWQMy7vwgkFt",
        "colab_type": "code",
        "colab": {
          "base_uri": "https://localhost:8080/",
          "height": 353
        },
        "outputId": "a5cf9018-fbfc-4393-9d0e-c9ff92b5ca49"
      },
      "source": [
        "from keras.models import Sequential\n",
        "from keras.layers import Dense,Flatten\n",
        "\n",
        "model = Sequential()\n",
        "# first layer we need to mention the input shape\n",
        "\n",
        "model.add(Flatten(input_shape=(28,28)))\n",
        "## 784 pixel values as input to this Dense. 128 Neurons in the layers\n",
        "model.add(Dense(128,activation='relu'))# 784 * 128+128\n",
        "model.add(Dense(128,activation='relu'))# \n",
        "model.add(Dense(64,activation='relu'))\n",
        "model.add(Dense(256,activation='relu'))\n",
        "#Final layer\n",
        "model.add(Dense(10,activation='softmax'))\n",
        "model.summary()"
      ],
      "execution_count": 16,
      "outputs": [
        {
          "output_type": "stream",
          "text": [
            "Model: \"sequential_1\"\n",
            "_________________________________________________________________\n",
            "Layer (type)                 Output Shape              Param #   \n",
            "=================================================================\n",
            "flatten_1 (Flatten)          (None, 784)               0         \n",
            "_________________________________________________________________\n",
            "dense_1 (Dense)              (None, 128)               100480    \n",
            "_________________________________________________________________\n",
            "dense_2 (Dense)              (None, 128)               16512     \n",
            "_________________________________________________________________\n",
            "dense_3 (Dense)              (None, 64)                8256      \n",
            "_________________________________________________________________\n",
            "dense_4 (Dense)              (None, 256)               16640     \n",
            "_________________________________________________________________\n",
            "dense_5 (Dense)              (None, 10)                2570      \n",
            "=================================================================\n",
            "Total params: 144,458\n",
            "Trainable params: 144,458\n",
            "Non-trainable params: 0\n",
            "_________________________________________________________________\n"
          ],
          "name": "stdout"
        }
      ]
    },
    {
      "cell_type": "code",
      "metadata": {
        "id": "4kDQQZYcgm6B",
        "colab_type": "code",
        "colab": {}
      },
      "source": [
        "model.compile(optimizer='adam',loss=tf.keras.losses.CategoricalCrossentropy(),metrics=['accuracy'])\n"
      ],
      "execution_count": 17,
      "outputs": []
    },
    {
      "cell_type": "code",
      "metadata": {
        "id": "lcXYhA31gqzj",
        "colab_type": "code",
        "colab": {
          "base_uri": "https://localhost:8080/",
          "height": 202
        },
        "outputId": "c0813929-ed38-41db-b40d-1150ce5cb523"
      },
      "source": [
        "history=model.fit(x=x_train,y=y_train,epochs=5,validation_data=(x_val,y_val),batch_size=32)\n"
      ],
      "execution_count": 18,
      "outputs": [
        {
          "output_type": "stream",
          "text": [
            "Train on 54000 samples, validate on 6000 samples\n",
            "Epoch 1/5\n",
            "54000/54000 [==============================] - 6s 115us/step - loss: 0.2498 - accuracy: 0.9251 - val_loss: 0.1346 - val_accuracy: 0.9603\n",
            "Epoch 2/5\n",
            "54000/54000 [==============================] - 6s 107us/step - loss: 0.1096 - accuracy: 0.9668 - val_loss: 0.1300 - val_accuracy: 0.9638\n",
            "Epoch 3/5\n",
            "54000/54000 [==============================] - 6s 109us/step - loss: 0.0783 - accuracy: 0.9758 - val_loss: 0.0962 - val_accuracy: 0.9757\n",
            "Epoch 4/5\n",
            "54000/54000 [==============================] - 6s 107us/step - loss: 0.0630 - accuracy: 0.9812 - val_loss: 0.1126 - val_accuracy: 0.9690\n",
            "Epoch 5/5\n",
            "54000/54000 [==============================] - 6s 107us/step - loss: 0.0520 - accuracy: 0.9831 - val_loss: 0.1017 - val_accuracy: 0.9738\n"
          ],
          "name": "stdout"
        }
      ]
    },
    {
      "cell_type": "code",
      "metadata": {
        "id": "7Xiaf8C4gswT",
        "colab_type": "code",
        "colab": {
          "base_uri": "https://localhost:8080/",
          "height": 50
        },
        "outputId": "7a90e4e0-f797-4868-ed30-4dc02ef0f7e7"
      },
      "source": [
        "model.evaluate(test_digits_sc,test_labels_cat)\n"
      ],
      "execution_count": 19,
      "outputs": [
        {
          "output_type": "stream",
          "text": [
            "10000/10000 [==============================] - 0s 29us/step\n"
          ],
          "name": "stdout"
        },
        {
          "output_type": "execute_result",
          "data": {
            "text/plain": [
              "[0.09567311766514322, 0.9760000109672546]"
            ]
          },
          "metadata": {
            "tags": []
          },
          "execution_count": 19
        }
      ]
    },
    {
      "cell_type": "code",
      "metadata": {
        "id": "ZUMl6Kseg3yQ",
        "colab_type": "code",
        "colab": {
          "base_uri": "https://localhost:8080/",
          "height": 67
        },
        "outputId": "d1531282-097a-45ac-c45f-0eb20c005c96"
      },
      "source": [
        "print(test_digits_sc.shape)\n",
        "print(test_digits_sc[0].shape)\n",
        "print(np.expand_dims(test_digits_sc[0],axis=0).shape)"
      ],
      "execution_count": 20,
      "outputs": [
        {
          "output_type": "stream",
          "text": [
            "(10000, 28, 28)\n",
            "(28, 28)\n",
            "(1, 28, 28)\n"
          ],
          "name": "stdout"
        }
      ]
    },
    {
      "cell_type": "code",
      "metadata": {
        "id": "YklLerABg6eN",
        "colab_type": "code",
        "colab": {
          "base_uri": "https://localhost:8080/",
          "height": 67
        },
        "outputId": "c76c415f-66cf-40e7-d4ae-31d14688488c"
      },
      "source": [
        "model.predict(np.expand_dims(test_digits_sc[0],axis=0))\n"
      ],
      "execution_count": 21,
      "outputs": [
        {
          "output_type": "execute_result",
          "data": {
            "text/plain": [
              "array([[4.2766743e-10, 1.2415236e-06, 4.1961807e-06, 2.1360393e-06,\n",
              "        1.2315570e-07, 1.0010288e-08, 5.9243777e-12, 9.9999082e-01,\n",
              "        1.3370492e-07, 1.4418018e-06]], dtype=float32)"
            ]
          },
          "metadata": {
            "tags": []
          },
          "execution_count": 21
        }
      ]
    },
    {
      "cell_type": "code",
      "metadata": {
        "id": "uTWy4Zz1g8oI",
        "colab_type": "code",
        "colab": {
          "base_uri": "https://localhost:8080/",
          "height": 521
        },
        "outputId": "157d4ad5-7fcb-483e-c7b6-b568b45f3dbd"
      },
      "source": [
        "model.predict(test_digits_sc[:10])\n"
      ],
      "execution_count": 22,
      "outputs": [
        {
          "output_type": "execute_result",
          "data": {
            "text/plain": [
              "array([[4.27665792e-10, 1.24151768e-06, 4.19616435e-06, 2.13602902e-06,\n",
              "        1.23155232e-07, 1.00102495e-08, 5.92435519e-12, 9.99990821e-01,\n",
              "        1.33704404e-07, 1.44179626e-06],\n",
              "       [1.63313034e-13, 1.89914595e-09, 9.99999881e-01, 1.07320581e-07,\n",
              "        4.52955192e-13, 1.47463443e-12, 1.08712410e-12, 1.18422383e-09,\n",
              "        4.28808065e-11, 4.83188801e-15],\n",
              "       [5.46255023e-06, 9.98716116e-01, 2.73442365e-05, 3.50157097e-06,\n",
              "        7.45459984e-05, 1.96522637e-06, 8.38643755e-05, 3.87638102e-06,\n",
              "        1.08133908e-03, 1.99433589e-06],\n",
              "       [9.99996305e-01, 2.62263455e-09, 3.29632911e-07, 9.75698633e-10,\n",
              "        2.11016371e-07, 5.81669424e-09, 2.89688160e-06, 1.44836743e-09,\n",
              "        1.49386054e-07, 1.22122600e-07],\n",
              "       [1.15085356e-06, 4.01564976e-05, 3.83794941e-06, 8.70824550e-08,\n",
              "        9.99620676e-01, 2.85747728e-06, 1.74367347e-06, 4.43106001e-06,\n",
              "        3.31967954e-06, 3.21631349e-04],\n",
              "       [1.50497002e-08, 9.99980688e-01, 1.20172828e-07, 1.38432155e-08,\n",
              "        2.72189959e-06, 2.30029507e-09, 2.54409514e-07, 1.09313781e-07,\n",
              "        1.60332474e-05, 2.26571366e-08],\n",
              "       [2.19173235e-05, 2.22839357e-04, 1.19352982e-04, 7.37667779e-06,\n",
              "        9.95854497e-01, 1.04666455e-04, 1.51781322e-04, 1.49984262e-04,\n",
              "        2.83525768e-03, 5.32306614e-04],\n",
              "       [1.19108572e-05, 5.17923181e-05, 2.03246746e-04, 5.72984815e-02,\n",
              "        2.66004881e-05, 6.66608568e-03, 3.97725692e-08, 1.49692773e-04,\n",
              "        1.49258855e-03, 9.34099555e-01],\n",
              "       [3.49293164e-11, 9.36726030e-10, 2.28234476e-09, 8.87846738e-08,\n",
              "        1.97525019e-09, 9.99474823e-01, 1.18795640e-06, 1.53334463e-11,\n",
              "        3.89176921e-06, 5.20049653e-04],\n",
              "       [1.84433002e-08, 4.48181169e-07, 1.55565573e-07, 4.38289362e-06,\n",
              "        3.32362106e-04, 2.89085932e-07, 1.93742973e-11, 9.97960069e-06,\n",
              "        4.76674586e-06, 9.99647617e-01]], dtype=float32)"
            ]
          },
          "metadata": {
            "tags": []
          },
          "execution_count": 22
        }
      ]
    },
    {
      "cell_type": "code",
      "metadata": {
        "id": "_s_k8_-Zg-n1",
        "colab_type": "code",
        "colab": {
          "base_uri": "https://localhost:8080/",
          "height": 34
        },
        "outputId": "4a528bfc-9f5a-4619-aa0a-8fddfa86b69a"
      },
      "source": [
        "model.predict_classes(np.expand_dims(test_digits_sc[0],axis=0))\n"
      ],
      "execution_count": 23,
      "outputs": [
        {
          "output_type": "execute_result",
          "data": {
            "text/plain": [
              "array([7])"
            ]
          },
          "metadata": {
            "tags": []
          },
          "execution_count": 23
        }
      ]
    },
    {
      "cell_type": "code",
      "metadata": {
        "id": "VlCjl-MXhA6G",
        "colab_type": "code",
        "colab": {
          "base_uri": "https://localhost:8080/",
          "height": 67
        },
        "outputId": "fc23955e-4a2d-482b-d6be-031f8ce84675"
      },
      "source": [
        "model.predict_proba(np.expand_dims(test_digits_sc[0],axis=0))\n"
      ],
      "execution_count": 24,
      "outputs": [
        {
          "output_type": "execute_result",
          "data": {
            "text/plain": [
              "array([[4.2766743e-10, 1.2415236e-06, 4.1961807e-06, 2.1360393e-06,\n",
              "        1.2315570e-07, 1.0010288e-08, 5.9243777e-12, 9.9999082e-01,\n",
              "        1.3370492e-07, 1.4418018e-06]], dtype=float32)"
            ]
          },
          "metadata": {
            "tags": []
          },
          "execution_count": 24
        }
      ]
    },
    {
      "cell_type": "code",
      "metadata": {
        "id": "UqPa-QnchDJG",
        "colab_type": "code",
        "colab": {
          "base_uri": "https://localhost:8080/",
          "height": 286
        },
        "outputId": "ada79057-653b-4bd3-9f1f-e9da9225f0f4"
      },
      "source": [
        "history.history\n"
      ],
      "execution_count": 25,
      "outputs": [
        {
          "output_type": "execute_result",
          "data": {
            "text/plain": [
              "{'accuracy': [0.9251111, 0.9668148, 0.9757963, 0.9811852, 0.98314816],\n",
              " 'loss': [0.24984154947184853,\n",
              "  0.10956601900890194,\n",
              "  0.07826815679521058,\n",
              "  0.06300360080149646,\n",
              "  0.051989109107827836],\n",
              " 'val_accuracy': [0.9603333473205566,\n",
              "  0.9638333320617676,\n",
              "  0.9756666421890259,\n",
              "  0.968999981880188,\n",
              "  0.9738333225250244],\n",
              " 'val_loss': [0.13456191272785267,\n",
              "  0.12999997298667829,\n",
              "  0.09617276184943815,\n",
              "  0.11260989939142019,\n",
              "  0.1016825050280119]}"
            ]
          },
          "metadata": {
            "tags": []
          },
          "execution_count": 25
        }
      ]
    },
    {
      "cell_type": "code",
      "metadata": {
        "id": "bqfXESouhFCO",
        "colab_type": "code",
        "colab": {
          "base_uri": "https://localhost:8080/",
          "height": 282
        },
        "outputId": "1b96f7e4-7f95-4850-badd-70baea050c27"
      },
      "source": [
        "plt.plot(history.history['accuracy'])\n",
        "plt.plot(history.history['val_accuracy'])"
      ],
      "execution_count": 26,
      "outputs": [
        {
          "output_type": "execute_result",
          "data": {
            "text/plain": [
              "[<matplotlib.lines.Line2D at 0x7f4abed3bb70>]"
            ]
          },
          "metadata": {
            "tags": []
          },
          "execution_count": 26
        },
        {
          "output_type": "display_data",
          "data": {
            "image/png": "[encoded data removed]",
            "text/plain": [
              "<Figure size 432x288 with 1 Axes>"
            ]
          },
          "metadata": {
            "tags": [],
            "needs_background": "light"
          }
        }
      ]
    },
    {
      "cell_type": "code",
      "metadata": {
        "id": "-SCeI8FnhHne",
        "colab_type": "code",
        "colab": {
          "base_uri": "https://localhost:8080/",
          "height": 353
        },
        "outputId": "1b0bc023-fa84-4e04-946b-6a77416dc82f"
      },
      "source": [
        "model1 = Sequential()\n",
        "# first layer we need to mention the input shape\n",
        "\n",
        "model1.add(Flatten(input_shape=(28,28)))\n",
        "## 784 pixel values as input to this Dense. 128 Neurons in the layers\n",
        "model1.add(Dense(128,activation='relu'))# 784 * 128+128\n",
        "model1.add(Dense(256,activation='relu'))# \n",
        "model1.add(Dense(64,activation='relu'))\n",
        "model1.add(Dense(256,activation='relu'))\n",
        "#Final layer\n",
        "model1.add(Dense(10,activation='sigmoid'))\n",
        "model1.summary()"
      ],
      "execution_count": 27,
      "outputs": [
        {
          "output_type": "stream",
          "text": [
            "Model: \"sequential_2\"\n",
            "_________________________________________________________________\n",
            "Layer (type)                 Output Shape              Param #   \n",
            "=================================================================\n",
            "flatten_2 (Flatten)          (None, 784)               0         \n",
            "_________________________________________________________________\n",
            "dense_6 (Dense)              (None, 128)               100480    \n",
            "_________________________________________________________________\n",
            "dense_7 (Dense)              (None, 256)               33024     \n",
            "_________________________________________________________________\n",
            "dense_8 (Dense)              (None, 64)                16448     \n",
            "_________________________________________________________________\n",
            "dense_9 (Dense)              (None, 256)               16640     \n",
            "_________________________________________________________________\n",
            "dense_10 (Dense)             (None, 10)                2570      \n",
            "=================================================================\n",
            "Total params: 169,162\n",
            "Trainable params: 169,162\n",
            "Non-trainable params: 0\n",
            "_________________________________________________________________\n"
          ],
          "name": "stdout"
        }
      ]
    },
    {
      "cell_type": "code",
      "metadata": {
        "id": "yAuz4ywMhKKy",
        "colab_type": "code",
        "colab": {}
      },
      "source": [
        "model1.compile(optimizer='adam',loss=tf.keras.losses.CategoricalCrossentropy(),metrics=['accuracy'])\n"
      ],
      "execution_count": 28,
      "outputs": []
    },
    {
      "cell_type": "code",
      "metadata": {
        "id": "sL9wNObLhMkK",
        "colab_type": "code",
        "colab": {
          "base_uri": "https://localhost:8080/",
          "height": 202
        },
        "outputId": "5709b05d-c60f-4f2b-ad0d-3ad4d7daec1a"
      },
      "source": [
        "history=model1.fit(x=x_train,y=y_train,epochs=5,validation_data=(x_val,y_val),batch_size=32)\n"
      ],
      "execution_count": 29,
      "outputs": [
        {
          "output_type": "stream",
          "text": [
            "Train on 54000 samples, validate on 6000 samples\n",
            "Epoch 1/5\n",
            "54000/54000 [==============================] - 7s 131us/step - loss: 0.2637 - accuracy: 0.9192 - val_loss: 0.1614 - val_accuracy: 0.9513\n",
            "Epoch 2/5\n",
            "54000/54000 [==============================] - 7s 124us/step - loss: 0.1119 - accuracy: 0.9656 - val_loss: 0.1220 - val_accuracy: 0.9638\n",
            "Epoch 3/5\n",
            "54000/54000 [==============================] - 6s 117us/step - loss: 0.0812 - accuracy: 0.9748 - val_loss: 0.0990 - val_accuracy: 0.9707\n",
            "Epoch 4/5\n",
            "54000/54000 [==============================] - 6s 116us/step - loss: 0.0638 - accuracy: 0.9800 - val_loss: 0.1085 - val_accuracy: 0.9723\n",
            "Epoch 5/5\n",
            "54000/54000 [==============================] - 6s 115us/step - loss: 0.0533 - accuracy: 0.9835 - val_loss: 0.1024 - val_accuracy: 0.9745\n"
          ],
          "name": "stdout"
        }
      ]
    },
    {
      "cell_type": "code",
      "metadata": {
        "id": "CAcGq1R_hOoo",
        "colab_type": "code",
        "colab": {
          "base_uri": "https://localhost:8080/",
          "height": 50
        },
        "outputId": "4f6f4b68-50f3-46c1-8ae1-b2f30c8f44c5"
      },
      "source": [
        "model1.evaluate(test_digits_sc,test_labels_cat)\n"
      ],
      "execution_count": 30,
      "outputs": [
        {
          "output_type": "stream",
          "text": [
            "10000/10000 [==============================] - 0s 30us/step\n"
          ],
          "name": "stdout"
        },
        {
          "output_type": "execute_result",
          "data": {
            "text/plain": [
              "[0.09308926714263507, 0.9743000268936157]"
            ]
          },
          "metadata": {
            "tags": []
          },
          "execution_count": 30
        }
      ]
    },
    {
      "cell_type": "code",
      "metadata": {
        "id": "Delp7YJ7hXiI",
        "colab_type": "code",
        "colab": {
          "base_uri": "https://localhost:8080/",
          "height": 67
        },
        "outputId": "ced4caf1-c10c-41a2-f9ea-73f34c02e7e0"
      },
      "source": [
        "\n",
        "print(test_digits_sc.shape)\n",
        "print(test_digits_sc[0].shape)\n",
        "print(np.expand_dims(test_digits_sc[0],axis=0).shape)"
      ],
      "execution_count": 31,
      "outputs": [
        {
          "output_type": "stream",
          "text": [
            "(10000, 28, 28)\n",
            "(28, 28)\n",
            "(1, 28, 28)\n"
          ],
          "name": "stdout"
        }
      ]
    },
    {
      "cell_type": "code",
      "metadata": {
        "id": "CY_nFJfrhYPA",
        "colab_type": "code",
        "colab": {
          "base_uri": "https://localhost:8080/",
          "height": 67
        },
        "outputId": "04a38d49-5c34-4615-c625-f2742e3f08b3"
      },
      "source": [
        "model.predict(np.expand_dims(test_digits_sc[0],axis=0))\n"
      ],
      "execution_count": 32,
      "outputs": [
        {
          "output_type": "execute_result",
          "data": {
            "text/plain": [
              "array([[4.2766743e-10, 1.2415236e-06, 4.1961807e-06, 2.1360393e-06,\n",
              "        1.2315570e-07, 1.0010288e-08, 5.9243777e-12, 9.9999082e-01,\n",
              "        1.3370492e-07, 1.4418018e-06]], dtype=float32)"
            ]
          },
          "metadata": {
            "tags": []
          },
          "execution_count": 32
        }
      ]
    },
    {
      "cell_type": "code",
      "metadata": {
        "id": "pylsZmejhaX9",
        "colab_type": "code",
        "colab": {
          "base_uri": "https://localhost:8080/",
          "height": 521
        },
        "outputId": "b5e03ac3-f586-446e-d136-72756fc44d94"
      },
      "source": [
        "model.predict(test_digits_sc[:10])\n"
      ],
      "execution_count": 33,
      "outputs": [
        {
          "output_type": "execute_result",
          "data": {
            "text/plain": [
              "array([[4.27665792e-10, 1.24151768e-06, 4.19616435e-06, 2.13602902e-06,\n",
              "        1.23155232e-07, 1.00102495e-08, 5.92435519e-12, 9.99990821e-01,\n",
              "        1.33704404e-07, 1.44179626e-06],\n",
              "       [1.63313034e-13, 1.89914595e-09, 9.99999881e-01, 1.07320581e-07,\n",
              "        4.52955192e-13, 1.47463443e-12, 1.08712410e-12, 1.18422383e-09,\n",
              "        4.28808065e-11, 4.83188801e-15],\n",
              "       [5.46255023e-06, 9.98716116e-01, 2.73442365e-05, 3.50157097e-06,\n",
              "        7.45459984e-05, 1.96522637e-06, 8.38643755e-05, 3.87638102e-06,\n",
              "        1.08133908e-03, 1.99433589e-06],\n",
              "       [9.99996305e-01, 2.62263455e-09, 3.29632911e-07, 9.75698633e-10,\n",
              "        2.11016371e-07, 5.81669424e-09, 2.89688160e-06, 1.44836743e-09,\n",
              "        1.49386054e-07, 1.22122600e-07],\n",
              "       [1.15085356e-06, 4.01564976e-05, 3.83794941e-06, 8.70824550e-08,\n",
              "        9.99620676e-01, 2.85747728e-06, 1.74367347e-06, 4.43106001e-06,\n",
              "        3.31967954e-06, 3.21631349e-04],\n",
              "       [1.50497002e-08, 9.99980688e-01, 1.20172828e-07, 1.38432155e-08,\n",
              "        2.72189959e-06, 2.30029507e-09, 2.54409514e-07, 1.09313781e-07,\n",
              "        1.60332474e-05, 2.26571366e-08],\n",
              "       [2.19173235e-05, 2.22839357e-04, 1.19352982e-04, 7.37667779e-06,\n",
              "        9.95854497e-01, 1.04666455e-04, 1.51781322e-04, 1.49984262e-04,\n",
              "        2.83525768e-03, 5.32306614e-04],\n",
              "       [1.19108572e-05, 5.17923181e-05, 2.03246746e-04, 5.72984815e-02,\n",
              "        2.66004881e-05, 6.66608568e-03, 3.97725692e-08, 1.49692773e-04,\n",
              "        1.49258855e-03, 9.34099555e-01],\n",
              "       [3.49293164e-11, 9.36726030e-10, 2.28234476e-09, 8.87846738e-08,\n",
              "        1.97525019e-09, 9.99474823e-01, 1.18795640e-06, 1.53334463e-11,\n",
              "        3.89176921e-06, 5.20049653e-04],\n",
              "       [1.84433002e-08, 4.48181169e-07, 1.55565573e-07, 4.38289362e-06,\n",
              "        3.32362106e-04, 2.89085932e-07, 1.93742973e-11, 9.97960069e-06,\n",
              "        4.76674586e-06, 9.99647617e-01]], dtype=float32)"
            ]
          },
          "metadata": {
            "tags": []
          },
          "execution_count": 33
        }
      ]
    },
    {
      "cell_type": "code",
      "metadata": {
        "id": "MnzO-q21hcQc",
        "colab_type": "code",
        "colab": {
          "base_uri": "https://localhost:8080/",
          "height": 34
        },
        "outputId": "f616d0a3-c3ea-4158-d02c-09a42571a4c1"
      },
      "source": [
        "model.predict_classes(np.expand_dims(test_digits_sc[0],axis=0))\n"
      ],
      "execution_count": 34,
      "outputs": [
        {
          "output_type": "execute_result",
          "data": {
            "text/plain": [
              "array([7])"
            ]
          },
          "metadata": {
            "tags": []
          },
          "execution_count": 34
        }
      ]
    },
    {
      "cell_type": "code",
      "metadata": {
        "id": "7TvS2_AlheXz",
        "colab_type": "code",
        "colab": {
          "base_uri": "https://localhost:8080/",
          "height": 67
        },
        "outputId": "fd9a4b56-56ac-4053-9d5e-eca7a93d04de"
      },
      "source": [
        "model.predict_proba(np.expand_dims(test_digits_sc[0],axis=0))\n"
      ],
      "execution_count": 35,
      "outputs": [
        {
          "output_type": "execute_result",
          "data": {
            "text/plain": [
              "array([[4.2766743e-10, 1.2415236e-06, 4.1961807e-06, 2.1360393e-06,\n",
              "        1.2315570e-07, 1.0010288e-08, 5.9243777e-12, 9.9999082e-01,\n",
              "        1.3370492e-07, 1.4418018e-06]], dtype=float32)"
            ]
          },
          "metadata": {
            "tags": []
          },
          "execution_count": 35
        }
      ]
    },
    {
      "cell_type": "code",
      "metadata": {
        "id": "X_euXR5jhgKB",
        "colab_type": "code",
        "colab": {
          "base_uri": "https://localhost:8080/",
          "height": 286
        },
        "outputId": "5ede8f82-49a3-44d9-d5f7-740c4f8043f6"
      },
      "source": [
        "history.history\n"
      ],
      "execution_count": 36,
      "outputs": [
        {
          "output_type": "execute_result",
          "data": {
            "text/plain": [
              "{'accuracy': [0.9191667, 0.96562964, 0.9748333, 0.9799815, 0.98351854],\n",
              " 'loss': [0.26366210459007156,\n",
              "  0.11187740265784991,\n",
              "  0.08118495917734173,\n",
              "  0.06378508116834349,\n",
              "  0.053303225342287784],\n",
              " 'val_accuracy': [0.9513333439826965,\n",
              "  0.9638333320617676,\n",
              "  0.9706666469573975,\n",
              "  0.9723333120346069,\n",
              "  0.9745000004768372],\n",
              " 'val_loss': [0.16142859429121018,\n",
              "  0.12203961837291717,\n",
              "  0.0989866991142432,\n",
              "  0.10848800011755277,\n",
              "  0.10238260939142978]}"
            ]
          },
          "metadata": {
            "tags": []
          },
          "execution_count": 36
        }
      ]
    },
    {
      "cell_type": "code",
      "metadata": {
        "id": "u2gevmMfhh_5",
        "colab_type": "code",
        "colab": {
          "base_uri": "https://localhost:8080/",
          "height": 282
        },
        "outputId": "6db47b44-bdb0-4209-bbaf-45d80e4237f4"
      },
      "source": [
        "plt.plot(history.history['accuracy'])\n",
        "plt.plot(history.history['val_accuracy'])"
      ],
      "execution_count": 37,
      "outputs": [
        {
          "output_type": "execute_result",
          "data": {
            "text/plain": [
              "[<matplotlib.lines.Line2D at 0x7f4abde2e588>]"
            ]
          },
          "metadata": {
            "tags": []
          },
          "execution_count": 37
        },
        {
          "output_type": "display_data",
          "data": {
            "image/png": "[encoded data removed]",
            "text/plain": [
              "<Figure size 432x288 with 1 Axes>"
            ]
          },
          "metadata": {
            "tags": [],
            "needs_background": "light"
          }
        }
      ]
    },
    {
      "cell_type": "code",
      "metadata": {
        "id": "mTxcTxj3hkX5",
        "colab_type": "code",
        "colab": {}
      },
      "source": [
        ""
      ],
      "execution_count": null,
      "outputs": []
    }
  ]
}