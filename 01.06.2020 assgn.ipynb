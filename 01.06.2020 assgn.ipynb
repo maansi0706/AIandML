{
 "cells": [
  {
   "cell_type": "markdown",
   "metadata": {},
   "source": [
    "# CSE-221710310017-GAJJALA MAANSI"
   ]
  },
  {
   "cell_type": "markdown",
   "metadata": {},
   "source": [
    "### Password generator (random)"
   ]
  },
  {
   "cell_type": "code",
   "execution_count": 2,
   "metadata": {},
   "outputs": [
    {
     "name": "stdout",
     "output_type": "stream",
     "text": [
      "walkingparis25'\n",
      "enter yes or no for new passwordyes\n",
      "steamingcompany62!\n",
      "enter yes or no for new passwordyes\n",
      "talkinghand28-\n",
      "enter yes or no for new passwordno\n",
      "This is your password  talkinghand-28\n"
     ]
    }
   ],
   "source": [
    "import random\n",
    "import string\n",
    "while True:\n",
    "    s1 = random.choice(string.punctuation)\n",
    "    s2 = str(random.randint(0,100))\n",
    "    verbs = [\"talking\",\"walking\",\"dancing\",\"cooking\",\"singing\",\"steaming\",\"calling\",\"drinking\",\"watching\",\"playing\"]\n",
    "    s3 = random.choice(verbs)\n",
    "    noun = [\"parent\",\"hand\",\"paris\",\"work\",\"month\",\"dog\",\"cat\",\"company\"]\n",
    "    s4 = random.choice(noun)\n",
    "    print(s3+s4+s2+s1)\n",
    "    p1 = input(\"enter yes or no for new password\")\n",
    "    if p1 == \"no\" or p1 == \"NO\":\n",
    "        print(\"This is your password \", s3+s4+s1+s2)\n",
    "        break\n",
    "    elif p1 == \"YES\" or p1 == \"yes\":\n",
    "        continue"
   ]
  },
  {
   "cell_type": "code",
   "execution_count": null,
   "metadata": {},
   "outputs": [],
   "source": []
  }
 ],
 "metadata": {
  "kernelspec": {
   "display_name": "Python 3",
   "language": "python",
   "name": "python3"
  },
  "language_info": {
   "codemirror_mode": {
    "name": "ipython",
    "version": 3
   },
   "file_extension": ".py",
   "mimetype": "text/x-python",
   "name": "python",
   "nbconvert_exporter": "python",
   "pygments_lexer": "ipython3",
   "version": "3.7.6"
  }
 },
 "nbformat": 4,
 "nbformat_minor": 4
}
